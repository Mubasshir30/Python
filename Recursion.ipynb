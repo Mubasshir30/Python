{
  "nbformat": 4,
  "nbformat_minor": 0,
  "metadata": {
    "colab": {
      "provenance": []
    },
    "kernelspec": {
      "name": "python3",
      "display_name": "Python 3"
    },
    "language_info": {
      "name": "python"
    }
  },
  "cells": [
    {
      "cell_type": "markdown",
      "source": [
        "Recursion\n",
        "\n",
        "Function which calls itself\n",
        "\n",
        "1. Base case- terminate from recursion\n",
        "\n",
        "2. Recursive case - calling itself\n",
        "\n",
        "e.g: Factorials:- 5!=5 * 4!= 5 * 4 * 3!= 5 * 4 * 3 * 2! = 5 * 4 * 3 * 2 * 1 =>120"
      ],
      "metadata": {
        "id": "Wl0mZaGNK2Fq"
      }
    },
    {
      "cell_type": "markdown",
      "source": [
        "create a function which calculates the factorial of a number"
      ],
      "metadata": {
        "id": "4PgSdXriK9Ch"
      }
    },
    {
      "cell_type": "code",
      "source": [
        "import math"
      ],
      "metadata": {
        "id": "nLl-bWMgK7Cc"
      },
      "execution_count": 55,
      "outputs": []
    },
    {
      "cell_type": "code",
      "source": [
        "math.factorial(15)"
      ],
      "metadata": {
        "colab": {
          "base_uri": "https://localhost:8080/"
        },
        "id": "1tW_KDD9LAGI",
        "outputId": "f4c64639-dcf8-454f-d149-0551c5666f85"
      },
      "execution_count": 56,
      "outputs": [
        {
          "output_type": "execute_result",
          "data": {
            "text/plain": [
              "1307674368000"
            ]
          },
          "metadata": {},
          "execution_count": 56
        }
      ]
    },
    {
      "cell_type": "code",
      "source": [
        "def factorial(n):\n",
        "\n",
        "  if n<0:\n",
        "    print(0)\n",
        "\n",
        "  elif n==1 or n==0:\n",
        "    print(1)  \n",
        "\n",
        "  else:\n",
        "    fact=1\n",
        "    while n>1:\n",
        "      fact=fact*n\n",
        "      n=n-1\n",
        "    print(fact) "
      ],
      "metadata": {
        "id": "pVVaxdQrLCIY"
      },
      "execution_count": 57,
      "outputs": []
    },
    {
      "cell_type": "code",
      "source": [
        "factorial(15) "
      ],
      "metadata": {
        "colab": {
          "base_uri": "https://localhost:8080/"
        },
        "id": "0HWow0rZLElv",
        "outputId": "52bb4e68-e051-41f3-fb5c-3e0b12e63278"
      },
      "execution_count": 58,
      "outputs": [
        {
          "output_type": "stream",
          "name": "stdout",
          "text": [
            "1307674368000\n"
          ]
        }
      ]
    },
    {
      "cell_type": "code",
      "source": [],
      "metadata": {
        "id": "3GZxEW6jLGzj"
      },
      "execution_count": null,
      "outputs": []
    }
  ]
}