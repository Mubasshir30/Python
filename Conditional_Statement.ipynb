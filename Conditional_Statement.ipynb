{
  "nbformat": 4,
  "nbformat_minor": 0,
  "metadata": {
    "colab": {
      "provenance": []
    },
    "kernelspec": {
      "name": "python3",
      "display_name": "Python 3"
    },
    "language_info": {
      "name": "python"
    }
  },
  "cells": [
    {
      "cell_type": "markdown",
      "source": [
        "Conditional Statement"
      ],
      "metadata": {
        "id": "4VLNF5m_s3yU"
      }
    },
    {
      "cell_type": "code",
      "source": [
        "x=int(input('enterthw vwluw for x'))\n",
        "y=int(input('enter the value of y'))\n",
        "\n",
        "if x>y:\n",
        "  print('x is greater than y')\n",
        "elif x==y:\n",
        "  print('x and y are equal')  \n",
        "else:\n",
        "   print('x isless than y') "
      ],
      "metadata": {
        "colab": {
          "base_uri": "https://localhost:8080/"
        },
        "id": "LqWWe_Uas42Y",
        "outputId": "40732faa-ab00-4f51-da8c-0d60ebdfd401"
      },
      "execution_count": 18,
      "outputs": [
        {
          "output_type": "stream",
          "name": "stdout",
          "text": [
            "enterthw vwluw for x25\n",
            "enter the value of y15\n",
            "x is greater than y\n"
          ]
        }
      ]
    },
    {
      "cell_type": "markdown",
      "source": [
        "take age as input from the user and check if the candidate is eligible for voting or not(voting age= 18 yrs)"
      ],
      "metadata": {
        "id": "ueCfHtEhtBWE"
      }
    },
    {
      "cell_type": "code",
      "source": [
        "age=int(input('enter your age'))\n",
        "if age>=18:\n",
        "  print('candidate is eligible for voting')\n",
        "else:\n",
        "  print('candidate is not eligible for voting')  "
      ],
      "metadata": {
        "colab": {
          "base_uri": "https://localhost:8080/"
        },
        "id": "taq5sX1Ls7LL",
        "outputId": "0b4b8123-aa2c-4a82-d56a-8525ae48d1d1"
      },
      "execution_count": 19,
      "outputs": [
        {
          "output_type": "stream",
          "name": "stdout",
          "text": [
            "enter your age25\n",
            "candidate is eligible for voting\n"
          ]
        }
      ]
    },
    {
      "cell_type": "markdown",
      "source": [
        "Take length and breath of a rectangle as input and check if the rectangle is a square or not"
      ],
      "metadata": {
        "id": "2InsOt3utG3H"
      }
    },
    {
      "cell_type": "code",
      "source": [
        "lenght=float(input('lenght of rectangle '))\n",
        "breath=float(input('breath of rectangle'))\n",
        "if lenght==breath:\n",
        "  print('rectangle is square')\n",
        "else:\n",
        "  print('rectangle is not square')  "
      ],
      "metadata": {
        "colab": {
          "base_uri": "https://localhost:8080/"
        },
        "id": "szDp3R17tD6A",
        "outputId": "2235e0c5-5ae9-4213-8b49-ad2763c8c491"
      },
      "execution_count": 20,
      "outputs": [
        {
          "output_type": "stream",
          "name": "stdout",
          "text": [
            "lenght of rectangle 25\n",
            "breath of rectangle15\n",
            "rectangle is not square\n"
          ]
        }
      ]
    },
    {
      "cell_type": "markdown",
      "source": [
        "n a fare, the entry fee is 0 rupees for children less than 4 years of age. Entry fee 100 rupees if the age is between 4-18 yeas and if the age is more than 18 years, the entry fee is 175 rupees\n",
        "\n",
        "take age as input from the user and display the ticket price"
      ],
      "metadata": {
        "id": "9-s99M1etONN"
      }
    },
    {
      "cell_type": "code",
      "source": [
        "age=int(input('enter your age '))\n",
        "if age<4:\n",
        "  print('entry fees is 0 rupee')\n",
        "elif 4<=age<=18:\n",
        "  print('entry fees is 100 rupee')\n",
        "else:\n",
        "  print('entry fees is 175 rupees')   "
      ],
      "metadata": {
        "colab": {
          "base_uri": "https://localhost:8080/"
        },
        "id": "CO2AgEodtNwe",
        "outputId": "602ce887-00e5-4271-ffc4-3215c7b302d1"
      },
      "execution_count": 21,
      "outputs": [
        {
          "output_type": "stream",
          "name": "stdout",
          "text": [
            "enter your age 5\n",
            "entry fees is 100 rupee\n"
          ]
        }
      ]
    },
    {
      "cell_type": "markdown",
      "source": [
        "Take a number as input from the user and check if it is perfectly divisible by 2,3, and 7 or not"
      ],
      "metadata": {
        "id": "zskdBBPytXkO"
      }
    },
    {
      "cell_type": "code",
      "source": [
        "#perfectly divisible mean remainder is zero\n",
        "number=int(input('enter the number'))\n",
        "if number%2==0:\n",
        "  print('perfectly divisible by 2')\n",
        "else:\n",
        "  print('not divisible by 2')\n",
        "if number%3==0:\n",
        "  print('perfectly divisible by 3')\n",
        "else:\n",
        "  print('not divisible by 3')\n",
        "if number%7==0:\n",
        "  print('perfectly divisible by 7')\n",
        "else:\n",
        "  print('not divisible by 7')     "
      ],
      "metadata": {
        "colab": {
          "base_uri": "https://localhost:8080/"
        },
        "id": "9UpGkC92tSkm",
        "outputId": "3503628d-b9fe-4508-fe96-3fed0cc63f96"
      },
      "execution_count": 22,
      "outputs": [
        {
          "output_type": "stream",
          "name": "stdout",
          "text": [
            "enter the number15\n",
            "not divisible by 2\n",
            "perfectly divisible by 3\n",
            "not divisible by 7\n"
          ]
        }
      ]
    },
    {
      "cell_type": "markdown",
      "source": [
        "Take a number as input from the user and check if the number is even or odd"
      ],
      "metadata": {
        "id": "YdAon4EetiyF"
      }
    },
    {
      "cell_type": "code",
      "source": [
        "#even number is perfectly divisible by 2 i.e. remainder is 0\n",
        "num=int(input('enter your number'))\n",
        "if num%2==0:\n",
        "  print('number is even')\n",
        "else:\n",
        "  print('number is odd')"
      ],
      "metadata": {
        "colab": {
          "base_uri": "https://localhost:8080/"
        },
        "id": "KG66jTdUtfxG",
        "outputId": "8c32a9f3-33f0-4693-dbb7-1805984d5b32"
      },
      "execution_count": 23,
      "outputs": [
        {
          "output_type": "stream",
          "name": "stdout",
          "text": [
            "enter your number45\n",
            "number is odd\n"
          ]
        }
      ]
    },
    {
      "cell_type": "markdown",
      "source": [
        "The owner of a company decides to give bonus of 5%to employees who have been working in the company for 5 years or more. Take current salary and years of experience with the current company as input and print the incremented salary (if any)"
      ],
      "metadata": {
        "id": "agEfCvGptqha"
      }
    },
    {
      "cell_type": "code",
      "source": [
        "current_salary=int(input('enter your salary'))\n",
        "years=int(input('enter your years of experience'))\n",
        "if years>=5:\n",
        "  print('your incremented salary is',current_salary+5/100*current_salary)\n",
        "else:\n",
        "  print('no incremented salary')  "
      ],
      "metadata": {
        "colab": {
          "base_uri": "https://localhost:8080/"
        },
        "id": "bTkmEogCtmQm",
        "outputId": "61d30922-7476-45c0-feff-ccfab661840e"
      },
      "execution_count": 25,
      "outputs": [
        {
          "output_type": "stream",
          "name": "stdout",
          "text": [
            "enter your salary45\n",
            "enter your years of experience7\n",
            "your incremented salary is 47.25\n"
          ]
        }
      ]
    },
    {
      "cell_type": "markdown",
      "source": [
        "A grocery store allows 20% discount on items purchase worth more than 2000 rupees. Considering price of each commodity to be uniform-200 rupees. calculate the discounted price to be paid at the end\n",
        "\n",
        "take number of items purchase as input from the user"
      ],
      "metadata": {
        "id": "Nh53NhBdt0BU"
      }
    },
    {
      "cell_type": "code",
      "source": [
        "item=int(input('number of items'))\n",
        "if item>10:\n",
        "  print('discounted price to be paid is',item*200-0.20*item*200)\n",
        "else:\n",
        "  print('no discount ,total purchase is',item*200) "
      ],
      "metadata": {
        "colab": {
          "base_uri": "https://localhost:8080/"
        },
        "id": "-ooTFBN2ttSE",
        "outputId": "d50f0305-0872-4501-f5a9-1b305a788685"
      },
      "execution_count": 26,
      "outputs": [
        {
          "output_type": "stream",
          "name": "stdout",
          "text": [
            "number of items55\n",
            "discounted price to be paid is 8800.0\n"
          ]
        }
      ]
    },
    {
      "cell_type": "markdown",
      "source": [
        "take a number as input"
      ],
      "metadata": {
        "id": "vFyZuFmWt710"
      }
    },
    {
      "cell_type": "code",
      "source": [
        "x=int(input('enter the number'))\n",
        "if x>10:\n",
        "  \n",
        "  if x>20:\n",
        "    print('x is greater than 20')\n",
        "  else:\n",
        "    print('x is less than 20 but greater than 10')\n",
        "else:\n",
        "  print('x is less than 10')"
      ],
      "metadata": {
        "colab": {
          "base_uri": "https://localhost:8080/"
        },
        "id": "x3RSBkx6t3nE",
        "outputId": "54cd8a09-cb47-4509-d22f-d375fca4b6be"
      },
      "execution_count": 27,
      "outputs": [
        {
          "output_type": "stream",
          "name": "stdout",
          "text": [
            "enter the number10\n",
            "x is less than 10\n"
          ]
        }
      ]
    },
    {
      "cell_type": "markdown",
      "source": [],
      "metadata": {
        "id": "wKz8O6SOuCRT"
      }
    },
    {
      "cell_type": "markdown",
      "source": [
        "take a number as input from the user and check if the number is +ve,-ve or 0"
      ],
      "metadata": {
        "id": "ihv4p9EYuCHx"
      }
    },
    {
      "cell_type": "code",
      "source": [
        "x=int(input('enter the number'))\n",
        "if x>0:\n",
        "  if x>0:\n",
        "    print('number is positive')\n",
        "  else:\n",
        "    print('number is zero')\n",
        "\n",
        "else:\n",
        "  print('number is negative')     "
      ],
      "metadata": {
        "colab": {
          "base_uri": "https://localhost:8080/"
        },
        "id": "WPzMBVP6t-8b",
        "outputId": "37a4faff-0016-454b-cf3e-9963685db1fb"
      },
      "execution_count": 28,
      "outputs": [
        {
          "output_type": "stream",
          "name": "stdout",
          "text": [
            "enter the number25\n",
            "number is positive\n"
          ]
        }
      ]
    },
    {
      "cell_type": "markdown",
      "source": [
        "take a number as input from the user and check if it is +ve or -ve. in either case check if the number is even number or an odd number"
      ],
      "metadata": {
        "id": "QoPXAi3SuORD"
      }
    },
    {
      "cell_type": "code",
      "source": [
        "x=int(input('enter the number'))\n",
        "if x>=0:\n",
        "  if x%2==0:\n",
        "    print('the number is positive even')\n",
        "  else:\n",
        "    print('the number is positive odd')\n",
        "else:\n",
        "  if x%2==0:\n",
        "    print('the number is negative even')\n",
        "  else:\n",
        "    print('the number is negative odd')  "
      ],
      "metadata": {
        "colab": {
          "base_uri": "https://localhost:8080/"
        },
        "id": "GuxLLAHAuE2e",
        "outputId": "d74edaca-2aed-40f0-ded4-e9f0981ae4fa"
      },
      "execution_count": 29,
      "outputs": [
        {
          "output_type": "stream",
          "name": "stdout",
          "text": [
            "enter the number25\n",
            "the number is positive odd\n"
          ]
        }
      ]
    },
    {
      "cell_type": "code",
      "source": [],
      "metadata": {
        "id": "Pi1BrMFbuQ6t"
      },
      "execution_count": null,
      "outputs": []
    }
  ]
}