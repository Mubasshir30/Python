{
  "cells": [
    {
      "cell_type": "markdown",
      "metadata": {
        "id": "I01Bb8vkWKWW"
      },
      "source": [
        "Build in Function\n",
        "\n"
      ]
    },
    {
      "cell_type": "markdown",
      "metadata": {
        "id": "CWAz6lK7XPU5"
      },
      "source": [
        "#how to execute the code cell?\n",
        "#ctrl+enter\n",
        "#shift+enter\n",
        "#use the play button\n"
      ]
    },
    {
      "cell_type": "code",
      "execution_count": null,
      "metadata": {
        "id": "UQZqg1qWWQAe"
      },
      "outputs": [],
      "source": [
        "name=\"Mubasshir\"\n",
        "\n"
      ]
    },
    {
      "cell_type": "code",
      "execution_count": null,
      "metadata": {
        "colab": {
          "base_uri": "https://localhost:8080/"
        },
        "id": "jH67B4SoWdKZ",
        "outputId": "0723d906-85ed-4df3-ae40-8c25877f0036"
      },
      "outputs": [
        {
          "data": {
            "text/plain": [
              "str"
            ]
          },
          "execution_count": 2,
          "metadata": {},
          "output_type": "execute_result"
        }
      ],
      "source": [
        "type(name)\n"
      ]
    },
    {
      "cell_type": "code",
      "execution_count": null,
      "metadata": {
        "id": "dSGq0yJhWk_f"
      },
      "outputs": [],
      "source": [
        "a=35.28 "
      ]
    },
    {
      "cell_type": "code",
      "execution_count": null,
      "metadata": {
        "colab": {
          "base_uri": "https://localhost:8080/"
        },
        "id": "XI75CN3hWrHP",
        "outputId": "052403a8-35d9-4662-e8b5-bcc1de87a18a"
      },
      "outputs": [
        {
          "data": {
            "text/plain": [
              "float"
            ]
          },
          "execution_count": 4,
          "metadata": {},
          "output_type": "execute_result"
        }
      ],
      "source": [
        "type(a)"
      ]
    },
    {
      "cell_type": "code",
      "execution_count": null,
      "metadata": {
        "colab": {
          "base_uri": "https://localhost:8080/"
        },
        "id": "_L3nIZZsWuya",
        "outputId": "1dd9b90d-a5f1-4661-dd2e-aca72f0691a4"
      },
      "outputs": [
        {
          "name": "stdout",
          "output_type": "stream",
          "text": [
            "35.28\n"
          ]
        }
      ],
      "source": [
        "print(a)"
      ]
    },
    {
      "cell_type": "code",
      "execution_count": null,
      "metadata": {
        "id": "g6fovm30WzQq"
      },
      "outputs": [],
      "source": [
        "b=-40"
      ]
    },
    {
      "cell_type": "code",
      "execution_count": null,
      "metadata": {
        "colab": {
          "base_uri": "https://localhost:8080/"
        },
        "id": "grlhb5qeW2-Q",
        "outputId": "493793aa-668b-445d-f705-66001423b500"
      },
      "outputs": [
        {
          "name": "stdout",
          "output_type": "stream",
          "text": [
            "-40\n"
          ]
        }
      ],
      "source": [
        "print(b)"
      ]
    },
    {
      "cell_type": "code",
      "execution_count": null,
      "metadata": {
        "colab": {
          "base_uri": "https://localhost:8080/"
        },
        "id": "it6U88OGW5fr",
        "outputId": "970a5bc9-62e2-4850-dd27-3cc612367de4"
      },
      "outputs": [
        {
          "data": {
            "text/plain": [
              "int"
            ]
          },
          "execution_count": 8,
          "metadata": {},
          "output_type": "execute_result"
        }
      ],
      "source": [
        "type(b)"
      ]
    },
    {
      "cell_type": "code",
      "execution_count": null,
      "metadata": {
        "id": "5ZVxeKbNW8Wu"
      },
      "outputs": [],
      "source": [
        "l1=[35,40,-20,'india','israel','us']"
      ]
    },
    {
      "cell_type": "code",
      "execution_count": null,
      "metadata": {
        "colab": {
          "base_uri": "https://localhost:8080/"
        },
        "id": "HxUQgRPXX2oh",
        "outputId": "e239724e-3b74-4dc7-952d-6d802bdfc203"
      },
      "outputs": [
        {
          "name": "stdout",
          "output_type": "stream",
          "text": [
            "[35, 40, -20, 'india', 'israel', 'us']\n"
          ]
        }
      ],
      "source": [
        "print(l1)"
      ]
    },
    {
      "cell_type": "code",
      "execution_count": null,
      "metadata": {
        "colab": {
          "base_uri": "https://localhost:8080/"
        },
        "id": "DwT14w7LX6Se",
        "outputId": "f52c8598-8200-4346-8a4f-87baca1f5b4f"
      },
      "outputs": [
        {
          "data": {
            "text/plain": [
              "list"
            ]
          },
          "execution_count": 12,
          "metadata": {},
          "output_type": "execute_result"
        }
      ],
      "source": [
        "type(l1)"
      ]
    },
    {
      "cell_type": "code",
      "execution_count": null,
      "metadata": {
        "colab": {
          "base_uri": "https://localhost:8080/"
        },
        "id": "zJOaaSl2X8hZ",
        "outputId": "a4049120-397d-4281-869b-c1e817fd53ce"
      },
      "outputs": [
        {
          "name": "stdout",
          "output_type": "stream",
          "text": [
            "True\n"
          ]
        }
      ],
      "source": [
        "a=45\n",
        "b=20\n",
        "print(a>b)"
      ]
    },
    {
      "cell_type": "code",
      "execution_count": null,
      "metadata": {
        "colab": {
          "base_uri": "https://localhost:8080/"
        },
        "id": "rsGEAkEnYDet",
        "outputId": "249c24f8-c53b-4b4c-8ee2-b2277b347e68"
      },
      "outputs": [
        {
          "data": {
            "text/plain": [
              "bool"
            ]
          },
          "execution_count": 14,
          "metadata": {},
          "output_type": "execute_result"
        }
      ],
      "source": [
        "type(a>b)"
      ]
    },
    {
      "cell_type": "code",
      "execution_count": null,
      "metadata": {
        "colab": {
          "base_uri": "https://localhost:8080/"
        },
        "id": "iOWpp91cYGrM",
        "outputId": "0ae7967c-108b-4ce4-eb7f-9edce8a55464"
      },
      "outputs": [
        {
          "name": "stdout",
          "output_type": "stream",
          "text": [
            "False\n"
          ]
        }
      ],
      "source": [
        "print(a<b)"
      ]
    },
    {
      "cell_type": "code",
      "execution_count": null,
      "metadata": {
        "colab": {
          "base_uri": "https://localhost:8080/"
        },
        "id": "M0k9Y9CDYP_e",
        "outputId": "1a790bda-0f49-44b9-f6ef-af13d77da8ac"
      },
      "outputs": [
        {
          "data": {
            "text/plain": [
              "bool"
            ]
          },
          "execution_count": 16,
          "metadata": {},
          "output_type": "execute_result"
        }
      ],
      "source": [
        "type(a<b\n",
        "     )"
      ]
    },
    {
      "cell_type": "code",
      "execution_count": null,
      "metadata": {
        "id": "MhwjA0TlYUv-"
      },
      "outputs": [],
      "source": [
        "#comment"
      ]
    },
    {
      "cell_type": "code",
      "execution_count": null,
      "metadata": {
        "colab": {
          "base_uri": "https://localhost:8080/"
        },
        "id": "EbZcoJ8UYsXV",
        "outputId": "4cc6c871-354a-475f-b367-ab81b0b8696a"
      },
      "outputs": [
        {
          "name": "stdout",
          "output_type": "stream",
          "text": [
            "enter your nameMubasshir\n"
          ]
        }
      ],
      "source": [
        "name=input(\"enter your name\")"
      ]
    },
    {
      "cell_type": "code",
      "execution_count": null,
      "metadata": {
        "colab": {
          "base_uri": "https://localhost:8080/"
        },
        "id": "Bkm_L54xZL_y",
        "outputId": "0acb19c6-fd1d-483a-d696-526f2ccd0486"
      },
      "outputs": [
        {
          "name": "stdout",
          "output_type": "stream",
          "text": [
            "Mubasshir\n"
          ]
        }
      ],
      "source": [
        "print(name\n",
        "    )"
      ]
    },
    {
      "cell_type": "code",
      "execution_count": null,
      "metadata": {
        "id": "2fY6KVW4ZSHY"
      },
      "outputs": [],
      "source": [
        "#type casting\n"
      ]
    },
    {
      "cell_type": "code",
      "execution_count": null,
      "metadata": {
        "colab": {
          "base_uri": "https://localhost:8080/"
        },
        "id": "2WhUULTsZx-h",
        "outputId": "1bc30f9c-8e53-45ff-9288-9a527f90c078"
      },
      "outputs": [
        {
          "name": "stdout",
          "output_type": "stream",
          "text": [
            "enter otp 9873\n"
          ]
        }
      ],
      "source": [
        "otp=int(input(\"enter otp \"))"
      ]
    },
    {
      "cell_type": "code",
      "execution_count": null,
      "metadata": {
        "colab": {
          "base_uri": "https://localhost:8080/"
        },
        "id": "7toyjc1GZ5TB",
        "outputId": "749bcb91-c0fe-4c23-e1ac-ed5ccef7951c"
      },
      "outputs": [
        {
          "data": {
            "text/plain": [
              "int"
            ]
          },
          "execution_count": 27,
          "metadata": {},
          "output_type": "execute_result"
        }
      ],
      "source": [
        "type(otp)"
      ]
    },
    {
      "cell_type": "code",
      "execution_count": null,
      "metadata": {
        "colab": {
          "base_uri": "https://localhost:8080/"
        },
        "id": "ZMFhLEuhaHKG",
        "outputId": "26988c2a-de3c-489b-8948-5fb28ca5b422"
      },
      "outputs": [
        {
          "name": "stdout",
          "output_type": "stream",
          "text": [
            "enter temp of your city23.5\n"
          ]
        }
      ],
      "source": [
        "temp=float(input(\"enter temp of your city\"))"
      ]
    },
    {
      "cell_type": "code",
      "execution_count": null,
      "metadata": {
        "colab": {
          "base_uri": "https://localhost:8080/"
        },
        "id": "K1c1wc0baffn",
        "outputId": "ab827e8b-1073-4cb1-9d4d-0c1a140a3c9c"
      },
      "outputs": [
        {
          "data": {
            "text/plain": [
              "float"
            ]
          },
          "execution_count": 32,
          "metadata": {},
          "output_type": "execute_result"
        }
      ],
      "source": [
        "type(temp)"
      ]
    },
    {
      "cell_type": "markdown",
      "metadata": {
        "id": "j6y8THHQKL3H"
      },
      "source": [
        "Concatination"
      ]
    },
    {
      "cell_type": "code",
      "execution_count": null,
      "metadata": {
        "id": "EVOvsDUVawEn"
      },
      "outputs": [],
      "source": [
        "#string\n",
        "a='my'\n",
        "b='india'"
      ]
    },
    {
      "cell_type": "code",
      "execution_count": null,
      "metadata": {
        "colab": {
          "base_uri": "https://localhost:8080/"
        },
        "id": "UZEJ8W4eKW0S",
        "outputId": "74afb7d2-fd92-4e1d-9bad-a8265d35018b"
      },
      "outputs": [
        {
          "name": "stdout",
          "output_type": "stream",
          "text": [
            "my india\n"
          ]
        }
      ],
      "source": [
        "print(a+\" \"+b)"
      ]
    },
    {
      "cell_type": "code",
      "execution_count": null,
      "metadata": {
        "id": "h9MZ3OWPKgRN"
      },
      "outputs": [],
      "source": [
        "#list\n",
        "l1=[1,22,33,44,55,66]\n",
        "l2=['india', 'us' , 'china']"
      ]
    },
    {
      "cell_type": "code",
      "execution_count": null,
      "metadata": {
        "colab": {
          "base_uri": "https://localhost:8080/"
        },
        "id": "vm932PVeKt8q",
        "outputId": "f353d2d1-1f9a-4831-f74b-cb2c193cf9d8"
      },
      "outputs": [
        {
          "name": "stdout",
          "output_type": "stream",
          "text": [
            "[1, 22, 33, 44, 55, 66, 'india', 'us', 'china']\n"
          ]
        }
      ],
      "source": [
        "print(l1+l2)"
      ]
    },
    {
      "cell_type": "code",
      "execution_count": null,
      "metadata": {
        "colab": {
          "base_uri": "https://localhost:8080/"
        },
        "id": "ZguXe9ojK_dV",
        "outputId": "b312d27a-7177-49d9-b9e9-f24ce34ee892"
      },
      "outputs": [
        {
          "name": "stdout",
          "output_type": "stream",
          "text": [
            "enter your name mubasshir\n",
            "mubasshir hi how are you? please have a seat\n"
          ]
        }
      ],
      "source": [
        "name=input(\"enter your name \")\n",
        "a=\"hi\"\n",
        "b=\"how are you?\"\n",
        "c=\"please have a seat\"\n",
        "\n",
        "print(name+\" \"+a+\" \"+b+\" \"+c)"
      ]
    },
    {
      "cell_type": "markdown",
      "metadata": {
        "id": "Ievv0U_QNhXh"
      },
      "source": [
        "2. Indexing-\n",
        "  fetch one element at a time from list/strings\n",
        "  * index nos- 1. -ve - strt from right hand side and start with -1\n",
        "              2. +ve- always start from zero"
      ]
    },
    {
      "cell_type": "code",
      "execution_count": null,
      "metadata": {
        "id": "b-45A2lhMZeW"
      },
      "outputs": [],
      "source": [
        "#strings\n",
        "a='Indian Ocean'"
      ]
    },
    {
      "cell_type": "code",
      "execution_count": null,
      "metadata": {
        "colab": {
          "base_uri": "https://localhost:8080/",
          "height": 36
        },
        "id": "CyEMzBZDQyr_",
        "outputId": "acd04591-6c27-4148-c8d2-5ea5785458c7"
      },
      "outputs": [
        {
          "data": {
            "application/vnd.google.colaboratory.intrinsic+json": {
              "type": "string"
            },
            "text/plain": [
              "'i'"
            ]
          },
          "execution_count": 9,
          "metadata": {},
          "output_type": "execute_result"
        }
      ],
      "source": [
        "a[3]"
      ]
    },
    {
      "cell_type": "code",
      "execution_count": null,
      "metadata": {
        "colab": {
          "base_uri": "https://localhost:8080/",
          "height": 36
        },
        "id": "EgeD6pjFQ0hC",
        "outputId": "ee9c2fa3-7a7c-45be-c49d-0066cb87aa7a"
      },
      "outputs": [
        {
          "data": {
            "application/vnd.google.colaboratory.intrinsic+json": {
              "type": "string"
            },
            "text/plain": [
              "'e'"
            ]
          },
          "execution_count": 10,
          "metadata": {},
          "output_type": "execute_result"
        }
      ],
      "source": [
        "a[9]"
      ]
    },
    {
      "cell_type": "code",
      "execution_count": null,
      "metadata": {
        "colab": {
          "base_uri": "https://localhost:8080/",
          "height": 36
        },
        "id": "EO4YaNqxQ11P",
        "outputId": "6fd3c4f0-1af7-4454-a89f-463faf6a1b29"
      },
      "outputs": [
        {
          "data": {
            "application/vnd.google.colaboratory.intrinsic+json": {
              "type": "string"
            },
            "text/plain": [
              "'c'"
            ]
          },
          "execution_count": 11,
          "metadata": {},
          "output_type": "execute_result"
        }
      ],
      "source": [
        "a[-4]"
      ]
    },
    {
      "cell_type": "code",
      "execution_count": null,
      "metadata": {
        "colab": {
          "base_uri": "https://localhost:8080/",
          "height": 36
        },
        "id": "6YxD3K7aQ47D",
        "outputId": "be067b33-260b-4b15-eae7-b1e29c696b23"
      },
      "outputs": [
        {
          "data": {
            "application/vnd.google.colaboratory.intrinsic+json": {
              "type": "string"
            },
            "text/plain": [
              "'I'"
            ]
          },
          "execution_count": 12,
          "metadata": {},
          "output_type": "execute_result"
        }
      ],
      "source": [
        "a[0]"
      ]
    },
    {
      "cell_type": "code",
      "execution_count": null,
      "metadata": {
        "id": "z-SdqcPpQ6wh"
      },
      "outputs": [],
      "source": [
        "#list\n",
        "l1=['india','china','bhuttan',45,30,30.25,-400]"
      ]
    },
    {
      "cell_type": "code",
      "execution_count": null,
      "metadata": {
        "colab": {
          "base_uri": "https://localhost:8080/"
        },
        "id": "f2fDaBf-RWsg",
        "outputId": "e166c3e9-ce50-4ea9-a661-949cefc289af"
      },
      "outputs": [
        {
          "data": {
            "text/plain": [
              "45"
            ]
          },
          "execution_count": 14,
          "metadata": {},
          "output_type": "execute_result"
        }
      ],
      "source": [
        "l1[3]"
      ]
    },
    {
      "cell_type": "code",
      "execution_count": null,
      "metadata": {
        "colab": {
          "base_uri": "https://localhost:8080/"
        },
        "id": "lxyLd8MoRYoF",
        "outputId": "14d038e5-38c7-430c-d099-c6813a8dfb22"
      },
      "outputs": [
        {
          "data": {
            "text/plain": [
              "30"
            ]
          },
          "execution_count": 15,
          "metadata": {},
          "output_type": "execute_result"
        }
      ],
      "source": [
        "l1[-3]"
      ]
    },
    {
      "cell_type": "code",
      "execution_count": null,
      "metadata": {
        "colab": {
          "base_uri": "https://localhost:8080/",
          "height": 36
        },
        "id": "qEV9hXwlRaAh",
        "outputId": "d6c83667-969e-4232-ae24-19bfc147ea68"
      },
      "outputs": [
        {
          "data": {
            "application/vnd.google.colaboratory.intrinsic+json": {
              "type": "string"
            },
            "text/plain": [
              "'bhuttan'"
            ]
          },
          "execution_count": 16,
          "metadata": {},
          "output_type": "execute_result"
        }
      ],
      "source": [
        "l1[-5]"
      ]
    },
    {
      "cell_type": "code",
      "execution_count": null,
      "metadata": {
        "colab": {
          "base_uri": "https://localhost:8080/"
        },
        "id": "ioxtqSnSRbd_",
        "outputId": "140b822c-497d-4d3e-e43d-490f99ceecae"
      },
      "outputs": [
        {
          "data": {
            "text/plain": [
              "-400"
            ]
          },
          "execution_count": 17,
          "metadata": {},
          "output_type": "execute_result"
        }
      ],
      "source": [
        "l1[6]"
      ]
    },
    {
      "cell_type": "code",
      "execution_count": null,
      "metadata": {
        "colab": {
          "base_uri": "https://localhost:8080/"
        },
        "id": "-bLlrFRLRc1o",
        "outputId": "9b1ef244-c264-4ee6-90d3-18340981d33c"
      },
      "outputs": [
        {
          "data": {
            "text/plain": [
              "7"
            ]
          },
          "execution_count": 18,
          "metadata": {},
          "output_type": "execute_result"
        }
      ],
      "source": [
        "len(l1)"
      ]
    },
    {
      "cell_type": "markdown",
      "metadata": {
        "id": "zEqkLIdgSZg3"
      },
      "source": [
        "SLICING-\n",
        "fetch more than 1 element at a time\n",
        "[x:y:c]:- x is starting point and inclusive in nature, y is where i m going to stop and exclusive in nature\"y-1\" & c is step size"
      ]
    },
    {
      "cell_type": "code",
      "execution_count": null,
      "metadata": {
        "id": "jcifM2X1SNSM"
      },
      "outputs": [],
      "source": [
        "#string\n",
        "a='United Nations'\n"
      ]
    },
    {
      "cell_type": "code",
      "execution_count": null,
      "metadata": {
        "colab": {
          "base_uri": "https://localhost:8080/",
          "height": 36
        },
        "id": "vG_2-AX2VDqh",
        "outputId": "72b55e79-3ee4-42b4-cd05-512471761c55"
      },
      "outputs": [
        {
          "data": {
            "application/vnd.google.colaboratory.intrinsic+json": {
              "type": "string"
            },
            "text/plain": [
              "'United'"
            ]
          },
          "execution_count": 20,
          "metadata": {},
          "output_type": "execute_result"
        }
      ],
      "source": [
        "a[0:6]"
      ]
    },
    {
      "cell_type": "code",
      "execution_count": null,
      "metadata": {
        "colab": {
          "base_uri": "https://localhost:8080/",
          "height": 36
        },
        "id": "liB1zbz3VIGl",
        "outputId": "1f0b94b6-6f9b-4c7d-a730-72ad74153ef6"
      },
      "outputs": [
        {
          "data": {
            "application/vnd.google.colaboratory.intrinsic+json": {
              "type": "string"
            },
            "text/plain": [
              "'Nations'"
            ]
          },
          "execution_count": 21,
          "metadata": {},
          "output_type": "execute_result"
        }
      ],
      "source": [
        "a[7:]"
      ]
    },
    {
      "cell_type": "code",
      "execution_count": null,
      "metadata": {
        "colab": {
          "base_uri": "https://localhost:8080/",
          "height": 36
        },
        "id": "5fUAOPkBVLLd",
        "outputId": "1181b376-c5ad-49e4-8b8d-209505641797"
      },
      "outputs": [
        {
          "data": {
            "application/vnd.google.colaboratory.intrinsic+json": {
              "type": "string"
            },
            "text/plain": [
              "'Nations'"
            ]
          },
          "execution_count": 22,
          "metadata": {},
          "output_type": "execute_result"
        }
      ],
      "source": [
        "a[-7:]"
      ]
    },
    {
      "cell_type": "code",
      "execution_count": null,
      "metadata": {
        "colab": {
          "base_uri": "https://localhost:8080/",
          "height": 36
        },
        "id": "WKej27qKVP3x",
        "outputId": "9effe5bf-260b-45a0-9935-f513d277841d"
      },
      "outputs": [
        {
          "data": {
            "application/vnd.google.colaboratory.intrinsic+json": {
              "type": "string"
            },
            "text/plain": [
              "'United Nations'"
            ]
          },
          "execution_count": 23,
          "metadata": {},
          "output_type": "execute_result"
        }
      ],
      "source": [
        "a[:]"
      ]
    },
    {
      "cell_type": "code",
      "execution_count": null,
      "metadata": {
        "colab": {
          "base_uri": "https://localhost:8080/",
          "height": 36
        },
        "id": "vXsCjKJIVTWR",
        "outputId": "12502d29-0b94-4686-fe78-46b734e8e414"
      },
      "outputs": [
        {
          "data": {
            "application/vnd.google.colaboratory.intrinsic+json": {
              "type": "string"
            },
            "text/plain": [
              "'Unit'"
            ]
          },
          "execution_count": 24,
          "metadata": {},
          "output_type": "execute_result"
        }
      ],
      "source": [
        "a[:4]"
      ]
    },
    {
      "cell_type": "code",
      "execution_count": null,
      "metadata": {
        "colab": {
          "base_uri": "https://localhost:8080/",
          "height": 36
        },
        "id": "ZLNF5TNoVVnB",
        "outputId": "6153a4f1-a730-4e02-9c26-5392f9750cf7"
      },
      "outputs": [
        {
          "data": {
            "application/vnd.google.colaboratory.intrinsic+json": {
              "type": "string"
            },
            "text/plain": [
              "'United Nati'"
            ]
          },
          "execution_count": 25,
          "metadata": {},
          "output_type": "execute_result"
        }
      ],
      "source": [
        "a[:-3]"
      ]
    },
    {
      "cell_type": "code",
      "execution_count": null,
      "metadata": {
        "colab": {
          "base_uri": "https://localhost:8080/"
        },
        "id": "VWy7BeNsVYCE",
        "outputId": "0296ab79-9b1e-47b1-abdf-0b379b2c1af4"
      },
      "outputs": [
        {
          "name": "stdout",
          "output_type": "stream",
          "text": [
            "Nations United\n"
          ]
        }
      ],
      "source": [
        "b=a[7:]\n",
        "c=a[0:6]\n",
        "print(b+\" \"+c)"
      ]
    },
    {
      "cell_type": "code",
      "execution_count": null,
      "metadata": {
        "colab": {
          "base_uri": "https://localhost:8080/",
          "height": 36
        },
        "id": "UCVRSMgPVp6C",
        "outputId": "e6de512a-7cd8-4a44-937a-a4163707da84"
      },
      "outputs": [
        {
          "data": {
            "application/vnd.google.colaboratory.intrinsic+json": {
              "type": "string"
            },
            "text/plain": [
              "''"
            ]
          },
          "execution_count": 29,
          "metadata": {},
          "output_type": "execute_result"
        }
      ],
      "source": [
        "a[-1:-14]"
      ]
    },
    {
      "cell_type": "code",
      "execution_count": null,
      "metadata": {
        "colab": {
          "base_uri": "https://localhost:8080/",
          "height": 36
        },
        "id": "icCR5QsxV8iD",
        "outputId": "1cc58f69-98f5-4fad-8da3-d583ec47b4e7"
      },
      "outputs": [
        {
          "data": {
            "application/vnd.google.colaboratory.intrinsic+json": {
              "type": "string"
            },
            "text/plain": [
              "'United Nation'"
            ]
          },
          "execution_count": 30,
          "metadata": {},
          "output_type": "execute_result"
        }
      ],
      "source": [
        "a[-14:-1]"
      ]
    },
    {
      "cell_type": "code",
      "execution_count": null,
      "metadata": {
        "colab": {
          "base_uri": "https://localhost:8080/",
          "height": 36
        },
        "id": "jjziZx2xWFbL",
        "outputId": "b68d5430-9ca9-4f09-a2cb-bf85f6595d1a"
      },
      "outputs": [
        {
          "data": {
            "application/vnd.google.colaboratory.intrinsic+json": {
              "type": "string"
            },
            "text/plain": [
              "'ted Na'"
            ]
          },
          "execution_count": 31,
          "metadata": {},
          "output_type": "execute_result"
        }
      ],
      "source": [
        "a[-11:-5]"
      ]
    },
    {
      "cell_type": "code",
      "execution_count": null,
      "metadata": {
        "colab": {
          "base_uri": "https://localhost:8080/",
          "height": 36
        },
        "id": "BTZ2jPGKWkaz",
        "outputId": "99ee2d34-0eea-40e6-a032-a98a6161a606"
      },
      "outputs": [
        {
          "data": {
            "application/vnd.google.colaboratory.intrinsic+json": {
              "type": "string"
            },
            "text/plain": [
              "'Unit'"
            ]
          },
          "execution_count": 32,
          "metadata": {},
          "output_type": "execute_result"
        }
      ],
      "source": [
        "a[:-10]"
      ]
    },
    {
      "cell_type": "code",
      "execution_count": null,
      "metadata": {
        "colab": {
          "base_uri": "https://localhost:8080/",
          "height": 36
        },
        "id": "3NiqDsaFWohe",
        "outputId": "6f4f9e39-ff65-4ff2-fbab-0f5f92b11c56"
      },
      "outputs": [
        {
          "data": {
            "application/vnd.google.colaboratory.intrinsic+json": {
              "type": "string"
            },
            "text/plain": [
              "'ation'"
            ]
          },
          "execution_count": 33,
          "metadata": {},
          "output_type": "execute_result"
        }
      ],
      "source": [
        "a[-6:-1]"
      ]
    },
    {
      "cell_type": "code",
      "execution_count": null,
      "metadata": {
        "colab": {
          "base_uri": "https://localhost:8080/"
        },
        "id": "J0cOuEUDW5v2",
        "outputId": "720341c3-2d40-44ce-a2d9-c48fcc0fddbd"
      },
      "outputs": [
        {
          "name": "stdout",
          "output_type": "stream",
          "text": [
            "United Nations\n"
          ]
        }
      ],
      "source": [
        "print(a)"
      ]
    },
    {
      "cell_type": "code",
      "execution_count": null,
      "metadata": {
        "colab": {
          "base_uri": "https://localhost:8080/",
          "height": 36
        },
        "id": "a16wE4qHWtZ9",
        "outputId": "a680e7de-090c-4b2f-8182-fbb56c3f742b"
      },
      "outputs": [
        {
          "data": {
            "application/vnd.google.colaboratory.intrinsic+json": {
              "type": "string"
            },
            "text/plain": [
              "'Uie'"
            ]
          },
          "execution_count": 35,
          "metadata": {},
          "output_type": "execute_result"
        }
      ],
      "source": [
        "a[0:6:2]"
      ]
    },
    {
      "cell_type": "code",
      "execution_count": null,
      "metadata": {
        "colab": {
          "base_uri": "https://localhost:8080/",
          "height": 36
        },
        "id": "iTzv5VrLXHpR",
        "outputId": "ded99339-589c-46c5-eb7f-1aa503effcf5"
      },
      "outputs": [
        {
          "data": {
            "application/vnd.google.colaboratory.intrinsic+json": {
              "type": "string"
            },
            "text/plain": [
              "'eN'"
            ]
          },
          "execution_count": 36,
          "metadata": {},
          "output_type": "execute_result"
        }
      ],
      "source": [
        "a[4:9:3]"
      ]
    },
    {
      "cell_type": "code",
      "execution_count": null,
      "metadata": {
        "colab": {
          "base_uri": "https://localhost:8080/",
          "height": 36
        },
        "id": "bhbpFU1rXNFs",
        "outputId": "95962090-e4c0-422a-96e9-b59e2ead4931"
      },
      "outputs": [
        {
          "data": {
            "application/vnd.google.colaboratory.intrinsic+json": {
              "type": "string"
            },
            "text/plain": [
              "'Nis'"
            ]
          },
          "execution_count": 37,
          "metadata": {},
          "output_type": "execute_result"
        }
      ],
      "source": [
        "a[7::3]"
      ]
    },
    {
      "cell_type": "code",
      "execution_count": null,
      "metadata": {
        "id": "ej0ogQbLXlSW"
      },
      "outputs": [],
      "source": [
        "b=\"Indian Ocean\""
      ]
    },
    {
      "cell_type": "code",
      "execution_count": null,
      "metadata": {
        "colab": {
          "base_uri": "https://localhost:8080/",
          "height": 36
        },
        "id": "dXvd3gxbYkgC",
        "outputId": "c1557846-9a30-40fe-e82f-bb3b5f4ce016"
      },
      "outputs": [
        {
          "data": {
            "application/vnd.google.colaboratory.intrinsic+json": {
              "type": "string"
            },
            "text/plain": [
              "'naO'"
            ]
          },
          "execution_count": 39,
          "metadata": {},
          "output_type": "execute_result"
        }
      ],
      "source": [
        "b[1:9:3]"
      ]
    },
    {
      "cell_type": "code",
      "execution_count": null,
      "metadata": {
        "colab": {
          "base_uri": "https://localhost:8080/",
          "height": 36
        },
        "id": "wvIEqg6vYm4N",
        "outputId": "8fa202a8-657e-4a58-e234-a0ddb12a27e1"
      },
      "outputs": [
        {
          "data": {
            "application/vnd.google.colaboratory.intrinsic+json": {
              "type": "string"
            },
            "text/plain": [
              "'nn'"
            ]
          },
          "execution_count": 40,
          "metadata": {},
          "output_type": "execute_result"
        }
      ],
      "source": [
        "b[1:9:4]"
      ]
    },
    {
      "cell_type": "code",
      "execution_count": null,
      "metadata": {
        "colab": {
          "base_uri": "https://localhost:8080/",
          "height": 200
        },
        "id": "9hyHhR_WYt52",
        "outputId": "524cbcbe-c431-4461-fc76-715b0719428c"
      },
      "outputs": [
        {
          "ename": "TypeError",
          "evalue": "ignored",
          "output_type": "error",
          "traceback": [
            "\u001b[0;31m---------------------------------------------------------------------------\u001b[0m",
            "\u001b[0;31mTypeError\u001b[0m                                 Traceback (most recent call last)",
            "\u001b[0;32m<ipython-input-41-491ff8653499>\u001b[0m in \u001b[0;36m<module>\u001b[0;34m\u001b[0m\n\u001b[1;32m      1\u001b[0m \u001b[0mp\u001b[0m\u001b[0;34m=\u001b[0m\u001b[0;34m'prime'\u001b[0m\u001b[0;34m\u001b[0m\u001b[0;34m\u001b[0m\u001b[0m\n\u001b[1;32m      2\u001b[0m \u001b[0ml\u001b[0m\u001b[0;34m=\u001b[0m\u001b[0;34m[\u001b[0m\u001b[0;34m'monday'\u001b[0m\u001b[0;34m,\u001b[0m\u001b[0;34m'tuesday'\u001b[0m\u001b[0;34m]\u001b[0m\u001b[0;34m\u001b[0m\u001b[0;34m\u001b[0m\u001b[0m\n\u001b[0;32m----> 3\u001b[0;31m \u001b[0mprint\u001b[0m\u001b[0;34m(\u001b[0m\u001b[0mp\u001b[0m\u001b[0;34m+\u001b[0m\u001b[0ml\u001b[0m\u001b[0;34m)\u001b[0m\u001b[0;34m\u001b[0m\u001b[0;34m\u001b[0m\u001b[0m\n\u001b[0m",
            "\u001b[0;31mTypeError\u001b[0m: can only concatenate str (not \"list\") to str"
          ]
        }
      ],
      "source": [
        "p='prime'\n",
        "l=['monday','tuesday']\n",
        "print(p+l)"
      ]
    },
    {
      "cell_type": "code",
      "execution_count": null,
      "metadata": {
        "id": "0v593lSAlZzj"
      },
      "outputs": [],
      "source": [
        "q=list(p) #the string datatype converted to list datatype"
      ]
    },
    {
      "cell_type": "code",
      "execution_count": null,
      "metadata": {
        "colab": {
          "base_uri": "https://localhost:8080/"
        },
        "id": "9vpFUdUzlrO6",
        "outputId": "eaf6775d-47f2-4e41-c148-ebe2b83a00da"
      },
      "outputs": [
        {
          "name": "stdout",
          "output_type": "stream",
          "text": [
            "['p', 'r', 'i', 'm', 'e', 'monday', 'tuesday']\n"
          ]
        }
      ],
      "source": [
        "print(q+l)"
      ]
    },
    {
      "cell_type": "markdown",
      "metadata": {
        "id": "y2Hi2RHHm5N1"
      },
      "source": [
        "**Nested list**\n",
        "\n",
        "l1=[india, uk, france, germany,[delhi,mumbai,varanasi]]"
      ]
    },
    {
      "cell_type": "code",
      "execution_count": null,
      "metadata": {
        "id": "LexSJ6KCluC8"
      },
      "outputs": [],
      "source": [
        "l1=['India','US','UK','Germany',['Delhi','Mumbai','Varanasi']]"
      ]
    },
    {
      "cell_type": "code",
      "execution_count": null,
      "metadata": {
        "colab": {
          "base_uri": "https://localhost:8080/",
          "height": 36
        },
        "id": "65O6feuwo_ZI",
        "outputId": "08896a3b-0a6a-4b0d-e8d6-22738d51b6d2"
      },
      "outputs": [
        {
          "data": {
            "application/vnd.google.colaboratory.intrinsic+json": {
              "type": "string"
            },
            "text/plain": [
              "'Delhi'"
            ]
          },
          "execution_count": 45,
          "metadata": {},
          "output_type": "execute_result"
        }
      ],
      "source": [
        "l1[4][0]"
      ]
    },
    {
      "cell_type": "code",
      "execution_count": null,
      "metadata": {
        "colab": {
          "base_uri": "https://localhost:8080/"
        },
        "id": "j-YbuXiRpEZt",
        "outputId": "9a0c40d4-27da-44a9-d87b-57805529a891"
      },
      "outputs": [
        {
          "data": {
            "text/plain": [
              "['Delhi', 'Mumbai']"
            ]
          },
          "execution_count": 46,
          "metadata": {},
          "output_type": "execute_result"
        }
      ],
      "source": [
        "l1[4][0:2]"
      ]
    },
    {
      "cell_type": "code",
      "execution_count": null,
      "metadata": {
        "colab": {
          "base_uri": "https://localhost:8080/"
        },
        "id": "3OcgSieepSCL",
        "outputId": "a4b6979b-3d2a-4885-9105-b71c19b5e0f5"
      },
      "outputs": [
        {
          "data": {
            "text/plain": [
              "['Delhi', 'Mumbai', 'Varanasi']"
            ]
          },
          "execution_count": 47,
          "metadata": {},
          "output_type": "execute_result"
        }
      ],
      "source": [
        "l1[4][0:]"
      ]
    },
    {
      "cell_type": "code",
      "execution_count": null,
      "metadata": {
        "colab": {
          "base_uri": "https://localhost:8080/"
        },
        "id": "S8uDhJq1pVtd",
        "outputId": "44df35db-1dae-4a77-c1b3-6c4786277220"
      },
      "outputs": [
        {
          "data": {
            "text/plain": [
              "['Delhi', 'Varanasi']"
            ]
          },
          "execution_count": 48,
          "metadata": {},
          "output_type": "execute_result"
        }
      ],
      "source": [
        "l1[4][0::2]"
      ]
    },
    {
      "cell_type": "code",
      "execution_count": null,
      "metadata": {
        "id": "S1gvcDoppd7b"
      },
      "outputs": [],
      "source": [
        "l2=['mango','banana','grapes',['pune','hyderabad','bangalore'],['datascience','Machinelearning']]"
      ]
    },
    {
      "cell_type": "code",
      "execution_count": null,
      "metadata": {
        "colab": {
          "base_uri": "https://localhost:8080/"
        },
        "id": "oWOvvjneqESx",
        "outputId": "38557774-acbd-45db-ae2c-f193dc425989"
      },
      "outputs": [
        {
          "name": "stdout",
          "output_type": "stream",
          "text": [
            "Machinelearning,hyderabad,bangalore,banana,grapes\n"
          ]
        }
      ],
      "source": [
        "print(l2[4][1]+','+l2[3][1]+','+l2[3][2]+','+l2[1]+','+l2[2])"
      ]
    },
    {
      "cell_type": "code",
      "execution_count": null,
      "metadata": {
        "colab": {
          "base_uri": "https://localhost:8080/"
        },
        "id": "K8gfDJ-zqzMU",
        "outputId": "511863a7-d85a-4803-e6e4-256a799d03af"
      },
      "outputs": [
        {
          "name": "stdout",
          "output_type": "stream",
          "text": [
            "Machinelearning,bangalore,hyderabad,grapes,banana\n"
          ]
        }
      ],
      "source": [
        "a=l2[4][1]\n",
        "b=l2[3][2]\n",
        "c=l2[3][1]\n",
        "d=l2[2]\n",
        "e=l2[1]\n",
        "\n",
        "print(a+','+b+','+c+','+d+','+e)"
      ]
    },
    {
      "cell_type": "markdown",
      "metadata": {
        "id": "tJv_t4Udwuta"
      },
      "source": [
        "# **Built in Functions-LISTS** "
      ]
    },
    {
      "cell_type": "code",
      "execution_count": 71,
      "metadata": {
        "id": "dxhDU1y8r3cv"
      },
      "outputs": [],
      "source": [
        "l1=['AI','NLP','Computer Vision','Datascience']"
      ]
    },
    {
      "cell_type": "code",
      "execution_count": 72,
      "metadata": {
        "id": "SOeacm5_xjO-"
      },
      "outputs": [],
      "source": [
        "l1.append('Deeplearning') #will add the element at the end of the list"
      ]
    },
    {
      "cell_type": "code",
      "execution_count": 73,
      "metadata": {
        "colab": {
          "base_uri": "https://localhost:8080/"
        },
        "id": "bbW8NVpIxx0d",
        "outputId": "17663cca-80eb-4fa5-b877-43f5dd4fc7b9"
      },
      "outputs": [
        {
          "output_type": "stream",
          "name": "stdout",
          "text": [
            "['AI', 'NLP', 'Computer Vision', 'Datascience', 'Deeplearning']\n"
          ]
        }
      ],
      "source": [
        "print(l1)"
      ]
    },
    {
      "cell_type": "code",
      "execution_count": 74,
      "metadata": {
        "id": "PdjMj4GPx2ab"
      },
      "outputs": [],
      "source": [
        "l1.insert(3,'NLP') #will add the element at the desired index position"
      ]
    },
    {
      "cell_type": "code",
      "execution_count": 75,
      "metadata": {
        "colab": {
          "base_uri": "https://localhost:8080/"
        },
        "id": "qmc0geHlyJfi",
        "outputId": "f89c10f9-d96b-437f-b739-79ef34a917b0"
      },
      "outputs": [
        {
          "output_type": "stream",
          "name": "stdout",
          "text": [
            "['AI', 'NLP', 'Computer Vision', 'NLP', 'Datascience', 'Deeplearning']\n"
          ]
        }
      ],
      "source": [
        "print(l1)"
      ]
    },
    {
      "cell_type": "code",
      "execution_count": 76,
      "metadata": {
        "id": "yCnKHks4yLJf"
      },
      "outputs": [],
      "source": [
        "l2=[34,35,89,90]"
      ]
    },
    {
      "cell_type": "code",
      "execution_count": 77,
      "metadata": {
        "id": "-K62BYm7yhWq"
      },
      "outputs": [],
      "source": [
        "l2.append(900)"
      ]
    },
    {
      "cell_type": "code",
      "execution_count": 78,
      "metadata": {
        "colab": {
          "base_uri": "https://localhost:8080/"
        },
        "id": "tEtbeSz2yn-_",
        "outputId": "8504dddd-9773-4ede-ca55-41c2bdb4faa7"
      },
      "outputs": [
        {
          "output_type": "stream",
          "name": "stdout",
          "text": [
            "[34, 35, 89, 90, 900]\n"
          ]
        }
      ],
      "source": [
        "print(l2)"
      ]
    },
    {
      "cell_type": "code",
      "execution_count": 79,
      "metadata": {
        "id": "8uyrhK6MypsT"
      },
      "outputs": [],
      "source": [
        "l2.insert(2,200)"
      ]
    },
    {
      "cell_type": "code",
      "execution_count": 80,
      "metadata": {
        "colab": {
          "base_uri": "https://localhost:8080/"
        },
        "id": "PnGStxNGyzR_",
        "outputId": "d24eb867-65f1-4d6f-8b26-a2596374a7fc"
      },
      "outputs": [
        {
          "output_type": "stream",
          "name": "stdout",
          "text": [
            "[34, 35, 200, 89, 90, 900]\n"
          ]
        }
      ],
      "source": [
        "print(l2)"
      ]
    },
    {
      "cell_type": "code",
      "execution_count": 81,
      "metadata": {
        "colab": {
          "base_uri": "https://localhost:8080/"
        },
        "id": "CIfz-iA_y1JQ",
        "outputId": "fed135c6-57cf-4c43-c218-fddc73ac2487"
      },
      "outputs": [
        {
          "output_type": "stream",
          "name": "stdout",
          "text": [
            "['AI', 'NLP', 'Computer Vision', 'NLP', 'Datascience', 'Deeplearning']\n"
          ]
        }
      ],
      "source": [
        "print(l1)"
      ]
    },
    {
      "cell_type": "code",
      "execution_count": 82,
      "metadata": {
        "id": "96iIeC2mzBWx"
      },
      "outputs": [],
      "source": [
        "l1.remove('NLP') #will delete the firstoccurance of the given element"
      ]
    },
    {
      "cell_type": "code",
      "execution_count": 83,
      "metadata": {
        "colab": {
          "base_uri": "https://localhost:8080/"
        },
        "id": "9BS8xpx5zUwj",
        "outputId": "817471e3-e2f5-4b6c-bbc1-80ecb073acd2"
      },
      "outputs": [
        {
          "output_type": "stream",
          "name": "stdout",
          "text": [
            "['AI', 'Computer Vision', 'NLP', 'Datascience', 'Deeplearning']\n"
          ]
        }
      ],
      "source": [
        "print(l1)"
      ]
    },
    {
      "cell_type": "code",
      "execution_count": 84,
      "metadata": {
        "colab": {
          "base_uri": "https://localhost:8080/",
          "height": 36
        },
        "id": "yvTHo0UjzcJC",
        "outputId": "4187fd21-ecd3-4f2a-eb68-c059f5c34923"
      },
      "outputs": [
        {
          "output_type": "execute_result",
          "data": {
            "text/plain": [
              "'Datascience'"
            ],
            "application/vnd.google.colaboratory.intrinsic+json": {
              "type": "string"
            }
          },
          "metadata": {},
          "execution_count": 84
        }
      ],
      "source": [
        "l1.pop(3) #will delete the element from the desired index position"
      ]
    },
    {
      "cell_type": "code",
      "execution_count": 85,
      "metadata": {
        "colab": {
          "base_uri": "https://localhost:8080/"
        },
        "id": "Z3laVNXl0Bla",
        "outputId": "9ea1db35-5e6f-4ac7-a5f6-85f6fcda1145"
      },
      "outputs": [
        {
          "output_type": "stream",
          "name": "stdout",
          "text": [
            "['AI', 'Computer Vision', 'NLP', 'Deeplearning']\n"
          ]
        }
      ],
      "source": [
        "print(l1)"
      ]
    },
    {
      "cell_type": "code",
      "execution_count": 86,
      "metadata": {
        "id": "GJBBayp40Iwc"
      },
      "outputs": [],
      "source": [
        "l1.extend(['statistic','algebra','r programming'])"
      ]
    },
    {
      "cell_type": "code",
      "execution_count": 87,
      "metadata": {
        "colab": {
          "base_uri": "https://localhost:8080/"
        },
        "id": "5NAAFHjc0_TK",
        "outputId": "fa6957f3-a069-48a5-e5a7-b9235aeb3e22"
      },
      "outputs": [
        {
          "output_type": "stream",
          "name": "stdout",
          "text": [
            "['AI', 'Computer Vision', 'NLP', 'Deeplearning', 'statistic', 'algebra', 'r programming']\n"
          ]
        }
      ],
      "source": [
        "print(l1)"
      ]
    },
    {
      "cell_type": "code",
      "execution_count": 88,
      "metadata": {
        "colab": {
          "base_uri": "https://localhost:8080/"
        },
        "id": "k5dTOBpy1BPf",
        "outputId": "7eb706ea-7cdc-468b-92dc-2cdfdcf05cd2"
      },
      "outputs": [
        {
          "output_type": "execute_result",
          "data": {
            "text/plain": [
              "7"
            ]
          },
          "metadata": {},
          "execution_count": 88
        }
      ],
      "source": [
        "len(l1)  #will count the total number in the list"
      ]
    },
    {
      "cell_type": "code",
      "execution_count": 89,
      "metadata": {
        "colab": {
          "base_uri": "https://localhost:8080/"
        },
        "id": "QCbdSmS91mGP",
        "outputId": "c689dc4d-5a27-4749-9139-6407b8dffa70"
      },
      "outputs": [
        {
          "output_type": "execute_result",
          "data": {
            "text/plain": [
              "6"
            ]
          },
          "metadata": {},
          "execution_count": 89
        }
      ],
      "source": [
        "len(l2)"
      ]
    },
    {
      "cell_type": "code",
      "execution_count": 90,
      "metadata": {
        "id": "uIhCgCTC1z2u"
      },
      "outputs": [],
      "source": [
        "l3=[67,78,34,67,22,90,56,78,67,12]"
      ]
    },
    {
      "cell_type": "code",
      "execution_count": 91,
      "metadata": {
        "colab": {
          "base_uri": "https://localhost:8080/"
        },
        "id": "DO4-vFGp1_xn",
        "outputId": "ebbe3bed-022d-4cb1-fb8c-1319749ee160"
      },
      "outputs": [
        {
          "output_type": "execute_result",
          "data": {
            "text/plain": [
              "10"
            ]
          },
          "metadata": {},
          "execution_count": 91
        }
      ],
      "source": [
        "len(l3)"
      ]
    },
    {
      "cell_type": "code",
      "execution_count": 92,
      "metadata": {
        "colab": {
          "base_uri": "https://localhost:8080/"
        },
        "id": "fAvdQWIL2Oo1",
        "outputId": "a1abd8fe-f700-48dd-9ee3-bb9cff39d424"
      },
      "outputs": [
        {
          "output_type": "execute_result",
          "data": {
            "text/plain": [
              "3"
            ]
          },
          "metadata": {},
          "execution_count": 92
        }
      ],
      "source": [
        "l3.count(67)  #will count the frequency of the given element"
      ]
    },
    {
      "cell_type": "code",
      "execution_count": 93,
      "metadata": {
        "colab": {
          "base_uri": "https://localhost:8080/"
        },
        "id": "IabvIDUa2boC",
        "outputId": "19bcfd6c-6ece-43e7-8493-b075d460175a"
      },
      "outputs": [
        {
          "output_type": "execute_result",
          "data": {
            "text/plain": [
              "1"
            ]
          },
          "metadata": {},
          "execution_count": 93
        }
      ],
      "source": [
        "l3.count(90)"
      ]
    },
    {
      "cell_type": "code",
      "execution_count": 94,
      "metadata": {
        "colab": {
          "base_uri": "https://localhost:8080/"
        },
        "id": "hdMu9ge52fHg",
        "outputId": "67d6ccb1-78f3-4039-f947-9a47883635a0"
      },
      "outputs": [
        {
          "output_type": "execute_result",
          "data": {
            "text/plain": [
              "90"
            ]
          },
          "metadata": {},
          "execution_count": 94
        }
      ],
      "source": [
        "max(l3)"
      ]
    },
    {
      "cell_type": "code",
      "execution_count": 95,
      "metadata": {
        "colab": {
          "base_uri": "https://localhost:8080/"
        },
        "id": "jiaCV-ZM2k8U",
        "outputId": "7102a64b-3b40-4382-8a21-36549e4fc8ac"
      },
      "outputs": [
        {
          "output_type": "execute_result",
          "data": {
            "text/plain": [
              "12"
            ]
          },
          "metadata": {},
          "execution_count": 95
        }
      ],
      "source": [
        "min(l3)"
      ]
    },
    {
      "cell_type": "code",
      "execution_count": 96,
      "metadata": {
        "colab": {
          "base_uri": "https://localhost:8080/",
          "height": 165
        },
        "id": "1pWN7UM-2oCW",
        "outputId": "65b12eba-88d6-46f0-b689-bd87a6ef2ca7"
      },
      "outputs": [
        {
          "output_type": "error",
          "ename": "TypeError",
          "evalue": "ignored",
          "traceback": [
            "\u001b[0;31m---------------------------------------------------------------------------\u001b[0m",
            "\u001b[0;31mTypeError\u001b[0m                                 Traceback (most recent call last)",
            "\u001b[0;32m<ipython-input-96-8da4c4bc559b>\u001b[0m in \u001b[0;36m<module>\u001b[0;34m\u001b[0m\n\u001b[0;32m----> 1\u001b[0;31m \u001b[0msum\u001b[0m\u001b[0;34m(\u001b[0m\u001b[0ml3\u001b[0m\u001b[0;34m)\u001b[0m\u001b[0;34m\u001b[0m\u001b[0;34m\u001b[0m\u001b[0m\n\u001b[0m",
            "\u001b[0;31mTypeError\u001b[0m: 'int' object is not callable"
          ]
        }
      ],
      "source": [
        "sum(l3)"
      ]
    },
    {
      "cell_type": "code",
      "execution_count": 102,
      "metadata": {
        "id": "nZkZVBvH2qBz"
      },
      "outputs": [],
      "source": [
        "l3.sort() #arrange in ascending order"
      ]
    },
    {
      "cell_type": "code",
      "execution_count": 103,
      "metadata": {
        "colab": {
          "base_uri": "https://localhost:8080/"
        },
        "id": "olAkEniO20DV",
        "outputId": "b01576aa-a8c1-4401-ac70-13dd12bd69a9"
      },
      "outputs": [
        {
          "output_type": "stream",
          "name": "stdout",
          "text": [
            "[12, 22, 34, 56, 67, 67, 67, 78, 78, 90]\n"
          ]
        }
      ],
      "source": [
        "print(l3)"
      ]
    },
    {
      "cell_type": "code",
      "execution_count": 97,
      "metadata": {
        "id": "q1YPDEOm22Bm"
      },
      "outputs": [],
      "source": [
        "l1=['india','china','russia','USA']"
      ]
    },
    {
      "cell_type": "code",
      "execution_count": 98,
      "metadata": {
        "colab": {
          "base_uri": "https://localhost:8080/"
        },
        "id": "qYsraiG-T9H_",
        "outputId": "62fd5a8c-e834-4b89-b868-7ca5e6472f9c"
      },
      "outputs": [
        {
          "output_type": "execute_result",
          "data": {
            "text/plain": [
              "['USA', 'russia', 'china', 'india']"
            ]
          },
          "metadata": {},
          "execution_count": 98
        }
      ],
      "source": [
        "l1[::-1]"
      ]
    },
    {
      "cell_type": "code",
      "execution_count": 99,
      "metadata": {
        "colab": {
          "base_uri": "https://localhost:8080/"
        },
        "id": "EHtbSjABUB2-",
        "outputId": "9dd39346-08e6-452d-d866-3b0c52578edc"
      },
      "outputs": [
        {
          "output_type": "execute_result",
          "data": {
            "text/plain": [
              "['USA', 'china']"
            ]
          },
          "metadata": {},
          "execution_count": 99
        }
      ],
      "source": [
        "l1[::-2]"
      ]
    },
    {
      "cell_type": "code",
      "execution_count": 100,
      "metadata": {
        "id": "9Fx8t-9WUUsD"
      },
      "outputs": [],
      "source": [
        "a='indian ocean'"
      ]
    },
    {
      "cell_type": "code",
      "execution_count": 101,
      "metadata": {
        "colab": {
          "base_uri": "https://localhost:8080/",
          "height": 36
        },
        "id": "z_KbNBKfUcE-",
        "outputId": "2a1ac563-5c98-4803-a442-68e365dc4e85"
      },
      "outputs": [
        {
          "output_type": "execute_result",
          "data": {
            "text/plain": [
              "'naeco naidni'"
            ],
            "application/vnd.google.colaboratory.intrinsic+json": {
              "type": "string"
            }
          },
          "metadata": {},
          "execution_count": 101
        }
      ],
      "source": [
        "a[::-1]"
      ]
    },
    {
      "cell_type": "markdown",
      "metadata": {
        "id": "kukDH0S4VdWk"
      },
      "source": [
        "#**Data Structure**\n",
        "\n",
        "2 type- \n",
        "\n",
        "*Mutuable(Modification is possible)\n",
        "\n",
        "-list[]\n",
        "\n",
        "-dictionaries{}\n",
        "\n",
        "*IMMUTABLE(Modification is not possible)\n",
        "\n",
        "-tuple()\n",
        "\n",
        "-set*{}"
      ]
    },
    {
      "cell_type": "markdown",
      "metadata": {
        "id": "quUGJ3qhYhgf"
      },
      "source": [
        "#DICTIONARIES- identify by { }\n",
        "\n",
        "-> key : value pair"
      ]
    },
    {
      "cell_type": "code",
      "execution_count": 39,
      "metadata": {
        "id": "ETFL2on_UeUK"
      },
      "outputs": [],
      "source": [
        "memo={'notebook':90,'chocolate':80,'pens':40,'chips':20}"
      ]
    },
    {
      "cell_type": "code",
      "execution_count": 40,
      "metadata": {
        "colab": {
          "base_uri": "https://localhost:8080/"
        },
        "id": "YMo-SJGnaQsT",
        "outputId": "23584d08-e7f7-4d57-9a9e-ed3fffe6aef4"
      },
      "outputs": [
        {
          "output_type": "stream",
          "name": "stdout",
          "text": [
            "{'notebook': 90, 'chocolate': 80, 'pens': 40, 'chips': 20}\n"
          ]
        }
      ],
      "source": [
        "print(memo)"
      ]
    },
    {
      "cell_type": "code",
      "execution_count": 41,
      "metadata": {
        "colab": {
          "base_uri": "https://localhost:8080/"
        },
        "id": "6LtzW-_eaTDd",
        "outputId": "e34d0a1c-e6b5-40ee-e8c9-cc9814a8c5da"
      },
      "outputs": [
        {
          "output_type": "execute_result",
          "data": {
            "text/plain": [
              "dict"
            ]
          },
          "metadata": {},
          "execution_count": 41
        }
      ],
      "source": [
        "type(memo)"
      ]
    },
    {
      "cell_type": "code",
      "execution_count": 42,
      "metadata": {
        "id": "o1RsnTU_aVvn"
      },
      "outputs": [],
      "source": [
        "#Slicing is not supporting in dictionaries\n",
        "#fecting one value at a time is possible by making use of keys(and not index number)"
      ]
    },
    {
      "cell_type": "code",
      "execution_count": 43,
      "metadata": {
        "colab": {
          "base_uri": "https://localhost:8080/"
        },
        "id": "d5ezqrUPawiv",
        "outputId": "100352e2-9842-4de4-ae9a-3c7a10ced1fc"
      },
      "outputs": [
        {
          "output_type": "execute_result",
          "data": {
            "text/plain": [
              "20"
            ]
          },
          "metadata": {},
          "execution_count": 43
        }
      ],
      "source": [
        "memo['chips']"
      ]
    },
    {
      "cell_type": "code",
      "execution_count": 44,
      "metadata": {
        "colab": {
          "base_uri": "https://localhost:8080/"
        },
        "id": "ZprKEpaGay8a",
        "outputId": "4ff2250a-8fee-4172-e838-e930abfb9d99"
      },
      "outputs": [
        {
          "output_type": "execute_result",
          "data": {
            "text/plain": [
              "80"
            ]
          },
          "metadata": {},
          "execution_count": 44
        }
      ],
      "source": [
        "memo['chocolate']"
      ]
    },
    {
      "cell_type": "code",
      "execution_count": 45,
      "metadata": {
        "id": "zA-sf4a_a3tT"
      },
      "outputs": [],
      "source": [
        "#adding new key value pair in the dict\n",
        "memo['cold drink']=100"
      ]
    },
    {
      "cell_type": "code",
      "execution_count": 46,
      "metadata": {
        "colab": {
          "base_uri": "https://localhost:8080/"
        },
        "id": "dF1PciNGbTBr",
        "outputId": "dcb5c380-b920-4b5f-b002-8fbddfd76878"
      },
      "outputs": [
        {
          "output_type": "stream",
          "name": "stdout",
          "text": [
            "{'notebook': 90, 'chocolate': 80, 'pens': 40, 'chips': 20, 'cold drink': 100}\n"
          ]
        }
      ],
      "source": [
        "print(memo)"
      ]
    },
    {
      "cell_type": "code",
      "execution_count": 47,
      "metadata": {
        "id": "YMFYUvBUbVUI"
      },
      "outputs": [],
      "source": [
        "memo['pens']=120"
      ]
    },
    {
      "cell_type": "code",
      "execution_count": 48,
      "metadata": {
        "colab": {
          "base_uri": "https://localhost:8080/"
        },
        "id": "Q2zXIZBAbfWe",
        "outputId": "afa28f9e-5c9e-49b6-8356-f2a25643213f"
      },
      "outputs": [
        {
          "output_type": "stream",
          "name": "stdout",
          "text": [
            "{'notebook': 90, 'chocolate': 80, 'pens': 120, 'chips': 20, 'cold drink': 100}\n"
          ]
        }
      ],
      "source": [
        "print(memo)"
      ]
    },
    {
      "cell_type": "code",
      "execution_count": 49,
      "metadata": {
        "id": "92Ot3K0mb4fb"
      },
      "outputs": [],
      "source": [
        "memo['maggi']=50"
      ]
    },
    {
      "cell_type": "code",
      "execution_count": 50,
      "metadata": {
        "colab": {
          "base_uri": "https://localhost:8080/"
        },
        "id": "Rmed3TkfcCoe",
        "outputId": "8dd06fc1-8a11-4f91-9b48-a5865aaad2b7"
      },
      "outputs": [
        {
          "output_type": "stream",
          "name": "stdout",
          "text": [
            "{'notebook': 90, 'chocolate': 80, 'pens': 120, 'chips': 20, 'cold drink': 100, 'maggi': 50}\n"
          ]
        }
      ],
      "source": [
        "print(memo)"
      ]
    },
    {
      "cell_type": "code",
      "execution_count": 51,
      "metadata": {
        "id": "gYMIDBYIcEJR"
      },
      "outputs": [],
      "source": [
        "memo['cold drink']=90"
      ]
    },
    {
      "cell_type": "code",
      "execution_count": 52,
      "metadata": {
        "colab": {
          "base_uri": "https://localhost:8080/"
        },
        "id": "s_QIwkLFcXUA",
        "outputId": "d17c3ae0-08e1-493e-be32-74faba2aa5d3"
      },
      "outputs": [
        {
          "output_type": "stream",
          "name": "stdout",
          "text": [
            "{'notebook': 90, 'chocolate': 80, 'pens': 120, 'chips': 20, 'cold drink': 90, 'maggi': 50}\n"
          ]
        }
      ],
      "source": [
        "print(memo)"
      ]
    },
    {
      "cell_type": "code",
      "execution_count": 53,
      "metadata": {
        "id": "U_6KJf5McYp0"
      },
      "outputs": [],
      "source": [
        "memo['notebook']=120"
      ]
    },
    {
      "cell_type": "code",
      "execution_count": 54,
      "metadata": {
        "colab": {
          "base_uri": "https://localhost:8080/"
        },
        "id": "fohLScfqcg17",
        "outputId": "1e342d2a-4635-408e-d6f4-c1a2306f63aa"
      },
      "outputs": [
        {
          "output_type": "stream",
          "name": "stdout",
          "text": [
            "{'notebook': 120, 'chocolate': 80, 'pens': 120, 'chips': 20, 'cold drink': 90, 'maggi': 50}\n"
          ]
        }
      ],
      "source": [
        "print(memo)"
      ]
    },
    {
      "cell_type": "code",
      "execution_count": 55,
      "metadata": {
        "id": "GktrvsOcciMj"
      },
      "outputs": [],
      "source": [
        "#deleting existing pairs from dictionaries\n",
        "del memo['chips'] #keys are used"
      ]
    },
    {
      "cell_type": "code",
      "execution_count": 56,
      "metadata": {
        "colab": {
          "base_uri": "https://localhost:8080/"
        },
        "id": "yeK1uVV9eHQw",
        "outputId": "9c43ae5a-2271-4b28-a6d2-f826f617308b"
      },
      "outputs": [
        {
          "output_type": "stream",
          "name": "stdout",
          "text": [
            "{'notebook': 120, 'chocolate': 80, 'pens': 120, 'cold drink': 90, 'maggi': 50}\n"
          ]
        }
      ],
      "source": [
        "print(memo)"
      ]
    },
    {
      "cell_type": "code",
      "execution_count": 57,
      "metadata": {
        "colab": {
          "base_uri": "https://localhost:8080/"
        },
        "id": "DlGorcdZePu1",
        "outputId": "30763d6f-b49d-44c0-99e9-0b41b4431dc3"
      },
      "outputs": [
        {
          "output_type": "execute_result",
          "data": {
            "text/plain": [
              "120"
            ]
          },
          "metadata": {},
          "execution_count": 57
        }
      ],
      "source": [
        "memo.pop('pens')"
      ]
    },
    {
      "cell_type": "code",
      "execution_count": 58,
      "metadata": {
        "colab": {
          "base_uri": "https://localhost:8080/"
        },
        "id": "ybEILACzeVe0",
        "outputId": "c09e7932-aa7e-4483-d82f-66f7f4e6fa0b"
      },
      "outputs": [
        {
          "output_type": "stream",
          "name": "stdout",
          "text": [
            "{'notebook': 120, 'chocolate': 80, 'cold drink': 90, 'maggi': 50}\n"
          ]
        }
      ],
      "source": [
        "print(memo)"
      ]
    },
    {
      "cell_type": "code",
      "execution_count": 59,
      "metadata": {
        "id": "upvPhLajeXtw"
      },
      "outputs": [],
      "source": [
        "memo['chips']=20"
      ]
    },
    {
      "cell_type": "code",
      "execution_count": 60,
      "metadata": {
        "colab": {
          "base_uri": "https://localhost:8080/"
        },
        "id": "xh6AjuvAeuFY",
        "outputId": "1f547f3d-7836-46d0-9f03-1c803114bd92"
      },
      "outputs": [
        {
          "output_type": "stream",
          "name": "stdout",
          "text": [
            "{'notebook': 120, 'chocolate': 80, 'cold drink': 90, 'maggi': 50, 'chips': 20}\n"
          ]
        }
      ],
      "source": [
        "print(memo)"
      ]
    },
    {
      "cell_type": "code",
      "execution_count": 61,
      "metadata": {
        "id": "_1xbOUNZevlK"
      },
      "outputs": [],
      "source": [
        "#merging two list into one dictionary"
      ]
    },
    {
      "cell_type": "code",
      "execution_count": 62,
      "metadata": {
        "id": "aapGKq7qfR5C"
      },
      "outputs": [],
      "source": [
        "l1=['name','age','salary','occupation'] #keys\n",
        "l2=['BOB','29','40000','developer'] #values"
      ]
    },
    {
      "cell_type": "code",
      "execution_count": 63,
      "metadata": {
        "id": "Ks5x1smzfn4s"
      },
      "outputs": [],
      "source": [
        "dict_new=dict(zip(l1,l2))"
      ]
    },
    {
      "cell_type": "code",
      "execution_count": 64,
      "metadata": {
        "colab": {
          "base_uri": "https://localhost:8080/"
        },
        "id": "vbmtSRc3fvy7",
        "outputId": "7e7a5b6b-63eb-4d97-dadf-5e479b142633"
      },
      "outputs": [
        {
          "output_type": "stream",
          "name": "stdout",
          "text": [
            "{'name': 'BOB', 'age': '29', 'salary': '40000', 'occupation': 'developer'}\n"
          ]
        }
      ],
      "source": [
        "print(dict_new)"
      ]
    },
    {
      "cell_type": "code",
      "execution_count": 65,
      "metadata": {
        "id": "e49Psx7XfzwA"
      },
      "outputs": [],
      "source": [
        "dict_new['salary']=50000"
      ]
    },
    {
      "cell_type": "code",
      "execution_count": 66,
      "metadata": {
        "colab": {
          "base_uri": "https://localhost:8080/"
        },
        "id": "99pU9PAYf5lL",
        "outputId": "d4565d64-102e-46bd-87e3-c81271869995"
      },
      "outputs": [
        {
          "output_type": "stream",
          "name": "stdout",
          "text": [
            "{'name': 'BOB', 'age': '29', 'salary': 50000, 'occupation': 'developer'}\n"
          ]
        }
      ],
      "source": [
        "print(dict_new)"
      ]
    },
    {
      "cell_type": "code",
      "execution_count": 67,
      "metadata": {
        "id": "MN6YCUQbf7mG"
      },
      "outputs": [],
      "source": [
        "dict_new['city']='new york'"
      ]
    },
    {
      "cell_type": "code",
      "execution_count": 68,
      "metadata": {
        "colab": {
          "base_uri": "https://localhost:8080/"
        },
        "id": "QDLXdvl4gSs2",
        "outputId": "6c44621e-1d2a-4953-88b6-6980e93523ab"
      },
      "outputs": [
        {
          "output_type": "stream",
          "name": "stdout",
          "text": [
            "{'name': 'BOB', 'age': '29', 'salary': 50000, 'occupation': 'developer', 'city': 'new york'}\n"
          ]
        }
      ],
      "source": [
        "print(dict_new)"
      ]
    },
    {
      "cell_type": "code",
      "execution_count": 69,
      "metadata": {
        "id": "L8ybPM-SgV4v"
      },
      "outputs": [],
      "source": [
        "del dict_new['age']"
      ]
    },
    {
      "cell_type": "code",
      "execution_count": 70,
      "metadata": {
        "colab": {
          "base_uri": "https://localhost:8080/"
        },
        "id": "AYob4j5LgaT8",
        "outputId": "976f82f9-2e34-423a-81e6-f9117788ce96"
      },
      "outputs": [
        {
          "output_type": "stream",
          "name": "stdout",
          "text": [
            "{'name': 'BOB', 'salary': 50000, 'occupation': 'developer', 'city': 'new york'}\n"
          ]
        }
      ],
      "source": [
        "print(dict_new)"
      ]
    },
    {
      "cell_type": "markdown",
      "metadata": {
        "id": "ElQi6DWBlbJ7"
      },
      "source": [
        "#TUPLE"
      ]
    },
    {
      "cell_type": "code",
      "execution_count": 32,
      "metadata": {
        "id": "VwNGOR86gcYJ"
      },
      "outputs": [],
      "source": [
        "t=('india','usa',65,90,35.5,-30,-75.45)"
      ]
    },
    {
      "cell_type": "code",
      "execution_count": 33,
      "metadata": {
        "colab": {
          "base_uri": "https://localhost:8080/"
        },
        "id": "t_P-2NP3lBHh",
        "outputId": "5a0b84af-2adb-41a0-954e-59f2685e9b6d"
      },
      "outputs": [
        {
          "output_type": "stream",
          "name": "stdout",
          "text": [
            "('india', 'usa', 65, 90, 35.5, -30, -75.45)\n"
          ]
        }
      ],
      "source": [
        "print(t)"
      ]
    },
    {
      "cell_type": "code",
      "execution_count": 34,
      "metadata": {
        "colab": {
          "base_uri": "https://localhost:8080/"
        },
        "id": "l5tE-LXplDTt",
        "outputId": "d5a27c21-96ce-43a6-8b93-5dd7974f02b4"
      },
      "outputs": [
        {
          "output_type": "execute_result",
          "data": {
            "text/plain": [
              "tuple"
            ]
          },
          "metadata": {},
          "execution_count": 34
        }
      ],
      "source": [
        "type(t)"
      ]
    },
    {
      "cell_type": "code",
      "execution_count": 34,
      "metadata": {
        "id": "-ibzUdbOnjtL"
      },
      "outputs": [],
      "source": []
    },
    {
      "cell_type": "code",
      "execution_count": 35,
      "metadata": {
        "colab": {
          "base_uri": "https://localhost:8080/"
        },
        "id": "aCyyUn6TmCmN",
        "outputId": "1352e709-e7a5-40d9-fc86-d2dbabd2d5d3"
      },
      "outputs": [
        {
          "output_type": "execute_result",
          "data": {
            "text/plain": [
              "90"
            ]
          },
          "metadata": {},
          "execution_count": 35
        }
      ],
      "source": [
        "t[3]"
      ]
    },
    {
      "cell_type": "code",
      "execution_count": 37,
      "metadata": {
        "colab": {
          "base_uri": "https://localhost:8080/"
        },
        "id": "QXP2hBNZmEV8",
        "outputId": "288b9414-5a13-4feb-e1f1-1eb53ee7b285"
      },
      "outputs": [
        {
          "output_type": "execute_result",
          "data": {
            "text/plain": [
              "90"
            ]
          },
          "metadata": {},
          "execution_count": 37
        }
      ],
      "source": [
        "t[-4]"
      ]
    },
    {
      "cell_type": "code",
      "execution_count": 38,
      "metadata": {
        "colab": {
          "base_uri": "https://localhost:8080/"
        },
        "id": "STAgg7B4mGRS",
        "outputId": "e3a1362a-1ca7-4489-b16c-d3012c48def0"
      },
      "outputs": [
        {
          "output_type": "execute_result",
          "data": {
            "text/plain": [
              "(65, 90)"
            ]
          },
          "metadata": {},
          "execution_count": 38
        }
      ],
      "source": [
        "t[2:4]"
      ]
    },
    {
      "cell_type": "markdown",
      "metadata": {
        "id": "bBfoAob2nvL6"
      },
      "source": [
        "#SET"
      ]
    },
    {
      "cell_type": "code",
      "execution_count": 28,
      "metadata": {
        "id": "qbbuasUfmIXs"
      },
      "outputs": [],
      "source": [
        "\n",
        "s={'india','usa',65,90,35.5,-30,-75.45}"
      ]
    },
    {
      "cell_type": "code",
      "execution_count": 29,
      "metadata": {
        "colab": {
          "base_uri": "https://localhost:8080/"
        },
        "id": "YI6LnjG0oDZ4",
        "outputId": "1f5edec6-8d80-4204-dede-e7276b132736"
      },
      "outputs": [
        {
          "output_type": "stream",
          "name": "stdout",
          "text": [
            "{65, -30, 'usa', 35.5, 'india', -75.45, 90}\n"
          ]
        }
      ],
      "source": [
        "print(s)  #random inner shuffling"
      ]
    },
    {
      "cell_type": "code",
      "execution_count": 30,
      "metadata": {
        "id": "fIG3JZvhoGlT"
      },
      "outputs": [],
      "source": [
        "#set will not allow indexing and slicing"
      ]
    },
    {
      "cell_type": "code",
      "execution_count": 31,
      "metadata": {
        "colab": {
          "base_uri": "https://localhost:8080/"
        },
        "id": "ASj7ws2VonbX",
        "outputId": "3932069c-34be-4e18-feff-98d8ffd55a7a"
      },
      "outputs": [
        {
          "output_type": "stream",
          "name": "stdout",
          "text": [
            "{65, -30, 'usa', 35.5, 'india', -75.45, 90}\n"
          ]
        }
      ],
      "source": [
        "print(s)"
      ]
    },
    {
      "cell_type": "markdown",
      "metadata": {
        "id": "cCEZgnsZyJuG"
      },
      "source": [
        "#Conditional Statement"
      ]
    },
    {
      "cell_type": "code",
      "execution_count": 17,
      "metadata": {
        "colab": {
          "base_uri": "https://localhost:8080/"
        },
        "id": "rGT1Jly0qKOg",
        "outputId": "ae18d761-c73a-4900-9c58-c94831c30393"
      },
      "outputs": [
        {
          "output_type": "stream",
          "name": "stdout",
          "text": [
            "enterthw vwluw for x25\n",
            "enter the value of y15\n",
            "x is greater than y\n"
          ]
        }
      ],
      "source": [
        "x=int(input('enterthw vwluw for x'))\n",
        "y=int(input('enter the value of y'))\n",
        "\n",
        "if x>y:\n",
        "  print('x is greater than y')\n",
        "elif x==y:\n",
        "  print('x and y are equal')  \n",
        "else:\n",
        "   print('x isless than y') "
      ]
    },
    {
      "cell_type": "markdown",
      "metadata": {
        "id": "ogNw2TQS22hr"
      },
      "source": [
        "take age as input from the user and check if the candidate is eligible for voting or not(voting age= 18 yrs)"
      ]
    },
    {
      "cell_type": "code",
      "execution_count": 18,
      "metadata": {
        "colab": {
          "base_uri": "https://localhost:8080/"
        },
        "id": "g40iU-PmyuoY",
        "outputId": "9ea85068-e3fa-4adc-a992-02ff36a41d53"
      },
      "outputs": [
        {
          "output_type": "stream",
          "name": "stdout",
          "text": [
            "enter your age25\n",
            "candidate is eligible for voting\n"
          ]
        }
      ],
      "source": [
        "age=int(input('enter your age'))\n",
        "if age>=18:\n",
        "  print('candidate is eligible for voting')\n",
        "else:\n",
        "  print('candidate is not eligible for voting')  "
      ]
    },
    {
      "cell_type": "code",
      "execution_count": 18,
      "metadata": {
        "id": "bcC8ZSnZ3mMf"
      },
      "outputs": [],
      "source": []
    },
    {
      "cell_type": "markdown",
      "metadata": {
        "id": "e_ff_6TA4a9q"
      },
      "source": [
        "Take length and breath of a rectangle as input and check if the rectangle is a square or not"
      ]
    },
    {
      "cell_type": "code",
      "execution_count": 19,
      "metadata": {
        "colab": {
          "base_uri": "https://localhost:8080/"
        },
        "id": "ZUZDE81u5DId",
        "outputId": "816bf7ff-9d87-4590-dc52-1b5c52f63287"
      },
      "outputs": [
        {
          "output_type": "stream",
          "name": "stdout",
          "text": [
            "lenght of rectangle 25\n",
            "breath of rectangle15\n",
            "rectangle is not square\n"
          ]
        }
      ],
      "source": [
        "lenght=float(input('lenght of rectangle '))\n",
        "breath=float(input('breath of rectangle'))\n",
        "if lenght==breath:\n",
        "  print('rectangle is square')\n",
        "else:\n",
        "  print('rectangle is not square')  "
      ]
    },
    {
      "cell_type": "markdown",
      "metadata": {
        "id": "__MEC07E6S4K"
      },
      "source": [
        "In a fare, the entry fee is 0 rupees for children less than 4 years of age. Entry fee 100 rupees if the age is between 4-18 yeas and if the age is more than 18 years, the entry fee is 175 rupees\n",
        "\n",
        "take age as input from the user and display the ticket price"
      ]
    },
    {
      "cell_type": "code",
      "execution_count": 20,
      "metadata": {
        "colab": {
          "base_uri": "https://localhost:8080/"
        },
        "id": "RVLt3MNo5k6H",
        "outputId": "c0b961ef-ba28-40ac-ea66-c58786a5c1ff"
      },
      "outputs": [
        {
          "output_type": "stream",
          "name": "stdout",
          "text": [
            "enter your age 5\n",
            "entry fees is 100 rupee\n"
          ]
        }
      ],
      "source": [
        "age=int(input('enter your age '))\n",
        "if age<4:\n",
        "  print('entry fees is 0 rupee')\n",
        "elif 4<=age<=18:\n",
        "  print('entry fees is 100 rupee')\n",
        "else:\n",
        "  print('entry fees is 175 rupees')   "
      ]
    },
    {
      "cell_type": "markdown",
      "metadata": {
        "id": "PyX1tCjc_sgu"
      },
      "source": [
        "Take a number as input from the user and check if it is perfectly divisible by 2,3, and 7 or not"
      ]
    },
    {
      "cell_type": "code",
      "execution_count": 21,
      "metadata": {
        "colab": {
          "base_uri": "https://localhost:8080/"
        },
        "id": "vffk3W8A8FQF",
        "outputId": "0625764c-0f39-4a57-a80f-6685222caa69"
      },
      "outputs": [
        {
          "output_type": "stream",
          "name": "stdout",
          "text": [
            "enter the number15\n",
            "not divisible by 2\n",
            "perfectly divisible by 3\n",
            "not divisible by 7\n"
          ]
        }
      ],
      "source": [
        "#perfectly divisible mean remainder is zero\n",
        "number=int(input('enter the number'))\n",
        "if number%2==0:\n",
        "  print('perfectly divisible by 2')\n",
        "else:\n",
        "  print('not divisible by 2')\n",
        "if number%3==0:\n",
        "  print('perfectly divisible by 3')\n",
        "else:\n",
        "  print('not divisible by 3')\n",
        "if number%7==0:\n",
        "  print('perfectly divisible by 7')\n",
        "else:\n",
        "  print('not divisible by 7')         "
      ]
    },
    {
      "cell_type": "markdown",
      "metadata": {
        "id": "16_cVKGqNeQy"
      },
      "source": [
        "Take a number as input from the user and check if the number is even or odd"
      ]
    },
    {
      "cell_type": "code",
      "execution_count": 22,
      "metadata": {
        "colab": {
          "base_uri": "https://localhost:8080/"
        },
        "id": "uuuKoOQ6BZ6-",
        "outputId": "c0d24feb-09ec-414f-c021-5a92237716e2"
      },
      "outputs": [
        {
          "output_type": "stream",
          "name": "stdout",
          "text": [
            "enter your number45\n",
            "number is odd\n"
          ]
        }
      ],
      "source": [
        "#even number is perfectly divisible by 2 i.e. remainder is 0\n",
        "num=int(input('enter your number'))\n",
        "if num%2==0:\n",
        "  print('number is even')\n",
        "else:\n",
        "  print('number is odd')"
      ]
    },
    {
      "cell_type": "markdown",
      "metadata": {
        "id": "ahQhE2XFQqDT"
      },
      "source": [
        "The owner of a company decides to give bonus of 5%to employees who have been working in the company for 5 years or more.\n",
        "Take current salary and years of experience with the current company as input and print the incremented salary (if any)"
      ]
    },
    {
      "cell_type": "code",
      "execution_count": 23,
      "metadata": {
        "colab": {
          "base_uri": "https://localhost:8080/"
        },
        "id": "Ecq15D1iOCAH",
        "outputId": "a475acbe-fa32-4e27-8ccb-e8c0ef5d4b3d"
      },
      "outputs": [
        {
          "output_type": "stream",
          "name": "stdout",
          "text": [
            "enter your salary45\n",
            "enter your years of experience7\n",
            "your incremented salary is 47.25\n"
          ]
        }
      ],
      "source": [
        "current_salary=int(input('enter your salary'))\n",
        "years=int(input('enter your years of experience'))\n",
        "if years>=5:\n",
        "  print('your incremented salary is',current_salary+5/100*current_salary)\n",
        "else:\n",
        "  print('no incremented salary')  "
      ]
    },
    {
      "cell_type": "markdown",
      "metadata": {
        "id": "0Uqs1noScewU"
      },
      "source": [
        "A grocery store allows 20% discount on items purchase worth more than 2000 rupees. Considering price of each commodity to be uniform-200 rupees. calculate the discounted price to be paid at the end \n",
        "\n",
        "take number of items purchase as input from the user"
      ]
    },
    {
      "cell_type": "code",
      "execution_count": 24,
      "metadata": {
        "colab": {
          "base_uri": "https://localhost:8080/"
        },
        "id": "j55izE4tcRad",
        "outputId": "db7d72aa-73e3-4904-8349-16c7bdd16d91"
      },
      "outputs": [
        {
          "output_type": "stream",
          "name": "stdout",
          "text": [
            "number of items5\n",
            "no discount ,total purchase is 1000\n"
          ]
        }
      ],
      "source": [
        "item=int(input('number of items'))\n",
        "if item>10:\n",
        "  print('discounted price to be paid is',item*200-0.20*item*200)\n",
        "else:\n",
        "  print('no discount ,total purchase is',item*200) "
      ]
    },
    {
      "cell_type": "code",
      "execution_count": 24,
      "metadata": {
        "id": "URv6vRU0d7z2"
      },
      "outputs": [],
      "source": []
    },
    {
      "cell_type": "markdown",
      "metadata": {
        "id": "lsjRHnmM4xut"
      },
      "source": [
        "take a number as input "
      ]
    },
    {
      "cell_type": "code",
      "execution_count": 25,
      "metadata": {
        "colab": {
          "base_uri": "https://localhost:8080/"
        },
        "id": "cCLPiFRk437R",
        "outputId": "6d5012a0-e86b-4b59-99f3-e359a87425ef"
      },
      "outputs": [
        {
          "output_type": "stream",
          "name": "stdout",
          "text": [
            "enter the number10\n",
            "x is less than 10\n"
          ]
        }
      ],
      "source": [
        "x=int(input('enter the number'))\n",
        "if x>10:\n",
        "  \n",
        "  if x>20:\n",
        "    print('x is greater than 20')\n",
        "  else:\n",
        "    print('x is less than 20 but greater than 10')\n",
        "else:\n",
        "  print('x is less than 10')      "
      ]
    },
    {
      "cell_type": "code",
      "execution_count": 25,
      "metadata": {
        "id": "wG6rYcyo5FbR"
      },
      "outputs": [],
      "source": []
    },
    {
      "cell_type": "markdown",
      "metadata": {
        "id": "4W5CSeqF5GEc"
      },
      "source": [
        "take a number as input from the user and check if the number is +ve,-ve or 0"
      ]
    },
    {
      "cell_type": "code",
      "execution_count": 26,
      "metadata": {
        "colab": {
          "base_uri": "https://localhost:8080/"
        },
        "id": "0Wlur5235TRp",
        "outputId": "89613c45-fe6f-4c44-bedf-54de4a8c23e0"
      },
      "outputs": [
        {
          "output_type": "stream",
          "name": "stdout",
          "text": [
            "enter the number25\n",
            "number is positive\n"
          ]
        }
      ],
      "source": [
        "x=int(input('enter the number'))\n",
        "if x>0:\n",
        "  if x>0:\n",
        "    print('number is positive')\n",
        "  else:\n",
        "    print('number is zero')\n",
        "\n",
        "else:\n",
        "  print('number is negative')      \n",
        "\n"
      ]
    },
    {
      "cell_type": "markdown",
      "metadata": {
        "id": "PW_oRngH5W6n"
      },
      "source": [
        "take a number as input from the user and check if it is +ve or -ve. in either case check if the number is even number or an odd number"
      ]
    },
    {
      "cell_type": "code",
      "execution_count": 27,
      "metadata": {
        "colab": {
          "base_uri": "https://localhost:8080/"
        },
        "id": "EfffvIzA5WD7",
        "outputId": "52ab8990-e89b-4c1d-aef6-1bddd6fe71d3"
      },
      "outputs": [
        {
          "output_type": "stream",
          "name": "stdout",
          "text": [
            "enter the number25\n",
            "the number is positive odd\n"
          ]
        }
      ],
      "source": [
        "x=int(input('enter the number'))\n",
        "if x>=0:\n",
        "  if x%2==0:\n",
        "    print('the number is positive even')\n",
        "  else:\n",
        "    print('the number is positive odd')\n",
        "else:\n",
        "  if x%2==0:\n",
        "    print('the number is negative even')\n",
        "  else:\n",
        "    print('the number is negative odd')          "
      ]
    },
    {
      "cell_type": "markdown",
      "metadata": {
        "id": "Fp1XZnBEA7bD"
      },
      "source": [
        "#LOOP"
      ]
    },
    {
      "cell_type": "markdown",
      "metadata": {
        "id": "gzh7H9n0BLYN"
      },
      "source": [
        "2 TYPE- WHILE AND FOR LOOP"
      ]
    },
    {
      "cell_type": "markdown",
      "metadata": {
        "id": "eUbJYIC3CchK"
      },
      "source": [
        "##while loop"
      ]
    },
    {
      "cell_type": "code",
      "execution_count": null,
      "metadata": {
        "id": "AeSHu4GDCyfg"
      },
      "outputs": [],
      "source": []
    },
    {
      "cell_type": "markdown",
      "metadata": {
        "id": "R5TtZrdTChoF"
      },
      "source": [
        "print 1 to 10"
      ]
    },
    {
      "cell_type": "code",
      "execution_count": 1,
      "metadata": {
        "id": "uDReI5-W9h14",
        "colab": {
          "base_uri": "https://localhost:8080/"
        },
        "outputId": "a6c9bb53-9e03-491f-c61f-35fd37df0452"
      },
      "outputs": [
        {
          "output_type": "stream",
          "name": "stdout",
          "text": [
            "1\n",
            "2\n",
            "3\n",
            "4\n",
            "5\n",
            "6\n",
            "7\n",
            "8\n",
            "9\n",
            "10\n"
          ]
        }
      ],
      "source": [
        "a=1                           #\n",
        "while a<=10:\n",
        "      print(a)\n",
        "      a=a+1"
      ]
    },
    {
      "cell_type": "markdown",
      "metadata": {
        "id": "FbK_7ScUIAh5"
      },
      "source": [
        "##for loop"
      ]
    },
    {
      "cell_type": "code",
      "execution_count": 2,
      "metadata": {
        "id": "MVt4S2dpC3Od"
      },
      "outputs": [],
      "source": [
        "#print no. 1 to 10"
      ]
    },
    {
      "cell_type": "code",
      "execution_count": 3,
      "metadata": {
        "colab": {
          "base_uri": "https://localhost:8080/"
        },
        "id": "XAiU3W2MIaun",
        "outputId": "3a350db9-7378-420e-b31c-c16ecfba9ef4"
      },
      "outputs": [
        {
          "output_type": "stream",
          "name": "stdout",
          "text": [
            "1\n",
            "2\n",
            "3\n",
            "4\n",
            "5\n",
            "6\n",
            "7\n",
            "8\n",
            "9\n",
            "10\n"
          ]
        }
      ],
      "source": [
        "for i in range(1,11):   #i statnd for iteration, its a term of only for loop not while loop\n",
        "    print(i)"
      ]
    },
    {
      "cell_type": "markdown",
      "metadata": {
        "id": "6a8YjejFL3vF"
      },
      "source": [
        "value of a "
      ]
    },
    {
      "cell_type": "code",
      "execution_count": 4,
      "metadata": {
        "colab": {
          "base_uri": "https://localhost:8080/"
        },
        "id": "e-KNwx_lMaig",
        "outputId": "1e892f8b-06fe-4820-f0d6-8ae90e3e46d5"
      },
      "outputs": [
        {
          "output_type": "stream",
          "name": "stdout",
          "text": [
            "12\n",
            "13\n"
          ]
        }
      ],
      "source": [
        "a=7\n",
        "b=5\n",
        "while a<9:\n",
        "  print(a+b)\n",
        "  a=a+1"
      ]
    },
    {
      "cell_type": "markdown",
      "metadata": {
        "id": "Ye76zpVLvpKA"
      },
      "source": [
        "how may time the loop is going to get executed"
      ]
    },
    {
      "cell_type": "code",
      "execution_count": 5,
      "metadata": {
        "colab": {
          "base_uri": "https://localhost:8080/"
        },
        "id": "KJHC48HkIsMS",
        "outputId": "dacfa0d2-0505-4f55-f53b-164d0865ffb5"
      },
      "outputs": [
        {
          "output_type": "stream",
          "name": "stdout",
          "text": [
            "0\n",
            "2\n",
            "4\n",
            "6\n",
            "8\n",
            "10\n",
            "12\n",
            "14\n",
            "16\n",
            "18\n"
          ]
        }
      ],
      "source": [
        "c=0\n",
        "while c<20:\n",
        "  print(c)\n",
        "  c=c+2"
      ]
    },
    {
      "cell_type": "markdown",
      "metadata": {
        "id": "Mp0J_YHzwCW-"
      },
      "source": [
        "print first 10 number"
      ]
    },
    {
      "cell_type": "code",
      "execution_count": 6,
      "metadata": {
        "colab": {
          "base_uri": "https://localhost:8080/"
        },
        "id": "hIbAl3Hlv3t8",
        "outputId": "afff720b-9655-43b5-d23d-dedcccceeebc"
      },
      "outputs": [
        {
          "output_type": "stream",
          "name": "stdout",
          "text": [
            "1\n",
            "2\n",
            "3\n",
            "4\n",
            "5\n",
            "6\n",
            "7\n",
            "8\n",
            "9\n",
            "10\n"
          ]
        }
      ],
      "source": [
        "for i in range(1,11):\n",
        "  print(i)"
      ]
    },
    {
      "cell_type": "markdown",
      "metadata": {
        "id": "rOfpcX4-wSTU"
      },
      "source": [
        "take a list of your choice and display the element one by one"
      ]
    },
    {
      "cell_type": "code",
      "execution_count": 7,
      "metadata": {
        "id": "dvZCCeNnwQLD"
      },
      "outputs": [],
      "source": [
        "l1=[4,5,6,2,'india','israel',5,9,3]"
      ]
    },
    {
      "cell_type": "code",
      "execution_count": 8,
      "metadata": {
        "colab": {
          "base_uri": "https://localhost:8080/"
        },
        "id": "azh2Iu0Rwoz7",
        "outputId": "448ab63e-b11d-45a3-a677-af76f2be0a15"
      },
      "outputs": [
        {
          "output_type": "stream",
          "name": "stdout",
          "text": [
            "4\n",
            "5\n",
            "6\n",
            "2\n",
            "india\n",
            "israel\n",
            "5\n",
            "9\n",
            "3\n"
          ]
        }
      ],
      "source": [
        "for i in l1:\n",
        "  print(i)"
      ]
    },
    {
      "cell_type": "markdown",
      "metadata": {
        "id": "gP7SreUEw9Ke"
      },
      "source": [
        "Take a list of numbers and square all the elements given in the list"
      ]
    },
    {
      "cell_type": "code",
      "execution_count": 9,
      "metadata": {
        "colab": {
          "base_uri": "https://localhost:8080/"
        },
        "id": "VZgizfVTwwk2",
        "outputId": "23dd4813-3d29-4654-c200-0a9b578952e8"
      },
      "outputs": [
        {
          "output_type": "stream",
          "name": "stdout",
          "text": [
            "4\n",
            "9\n",
            "16\n",
            "25\n",
            "64\n",
            "49\n",
            "81\n"
          ]
        }
      ],
      "source": [
        "l1=[2,3,4,5,8,7,9]\n",
        "\n",
        "for i in l1:\n",
        "  print(i*i)"
      ]
    },
    {
      "cell_type": "markdown",
      "metadata": {
        "id": "2WkPHILEyBAv"
      },
      "source": [
        "Take a list of numbers and display all the even number from the list"
      ]
    },
    {
      "cell_type": "code",
      "execution_count": 10,
      "metadata": {
        "id": "66dKdw6vxekF"
      },
      "outputs": [],
      "source": [
        "l1=[42,59,81,23,78,34,99,45,67,23,34,66]"
      ]
    },
    {
      "cell_type": "code",
      "execution_count": 11,
      "metadata": {
        "colab": {
          "base_uri": "https://localhost:8080/"
        },
        "id": "6DvG5XBPyZtn",
        "outputId": "3b3aecae-1a9f-4f68-b87a-a39bfb5aa7f6"
      },
      "outputs": [
        {
          "output_type": "stream",
          "name": "stdout",
          "text": [
            "42\n",
            "78\n",
            "34\n",
            "34\n",
            "66\n"
          ]
        }
      ],
      "source": [
        "for i in l1:\n",
        "  if i%2==0:\n",
        "    print(i)"
      ]
    },
    {
      "cell_type": "markdown",
      "metadata": {
        "id": "Ce84aFKq0uHa"
      },
      "source": [
        "Take a list of numbers and display the count of even number"
      ]
    },
    {
      "cell_type": "code",
      "execution_count": 12,
      "metadata": {
        "id": "nTqRhzg4ykQw"
      },
      "outputs": [],
      "source": [
        "l2=[42,59,81,23,78,34,99,45,67,23,34,66]"
      ]
    },
    {
      "cell_type": "code",
      "execution_count": 13,
      "metadata": {
        "colab": {
          "base_uri": "https://localhost:8080/"
        },
        "id": "48sPQTw-1G1b",
        "outputId": "46ad06b3-8621-420e-a03f-83ea493bc773"
      },
      "outputs": [
        {
          "output_type": "stream",
          "name": "stdout",
          "text": [
            "the total number of even number in the list are 5\n"
          ]
        }
      ],
      "source": [
        "count=0 #counter\n",
        "\n",
        "for i in l2:\n",
        "  if i%2==0:\n",
        "    count=count+1 #if there is an even number , the counter will increment itself by 1\n",
        "print('the total number of even number in the list are', count)    "
      ]
    },
    {
      "cell_type": "markdown",
      "metadata": {
        "id": "fkKmbD1J30j1"
      },
      "source": [
        "Take a list of number and display the count of both even and odd number"
      ]
    },
    {
      "cell_type": "code",
      "execution_count": 14,
      "metadata": {
        "colab": {
          "base_uri": "https://localhost:8080/"
        },
        "id": "pwODUUyi1zbI",
        "outputId": "8350b597-054d-4252-d54e-cfbb338665e6"
      },
      "outputs": [
        {
          "output_type": "stream",
          "name": "stdout",
          "text": [
            "the total number of even number in the list are 5\n",
            " the total number of odd number in the list are 7\n"
          ]
        }
      ],
      "source": [
        "l2=[42,59,81,23,78,34,99,45,67,23,34,66]\n",
        "\n",
        "count=0\n",
        "count1=0\n",
        "\n",
        "for i in l2:\n",
        "  if i%2==0:\n",
        "    count=count+1\n",
        "  else:\n",
        "    count1=count1+1\n",
        "print('the total number of even number in the list are', count)\n",
        "print(' the total number of odd number in the list are', count1)      \n",
        "\n"
      ]
    },
    {
      "cell_type": "markdown",
      "metadata": {
        "id": "bS2d4ZFP6pAZ"
      },
      "source": [
        "Take a number as input from the user and display the multiplication table(till 10)for that number"
      ]
    },
    {
      "cell_type": "code",
      "execution_count": 15,
      "metadata": {
        "colab": {
          "base_uri": "https://localhost:8080/"
        },
        "id": "bV0EuWPK5iK0",
        "outputId": "7932eac3-8ed6-4d3c-c7d1-3d435942ba48"
      },
      "outputs": [
        {
          "output_type": "stream",
          "name": "stdout",
          "text": [
            "enter the number5\n",
            "5\n",
            "10\n",
            "15\n",
            "20\n",
            "25\n",
            "30\n",
            "35\n",
            "40\n",
            "45\n",
            "50\n"
          ]
        }
      ],
      "source": [
        "num=int(input('enter the number'))\n",
        "for i in range(1,11):\n",
        "  print(num*i)"
      ]
    },
    {
      "cell_type": "markdown",
      "metadata": {
        "id": "PSc57bFE-Ct9"
      },
      "source": [
        "Calculate the sum and average of all the number from 1 to a given number by the user"
      ]
    },
    {
      "cell_type": "code",
      "execution_count": 16,
      "metadata": {
        "id": "U2daCziw7XK1",
        "colab": {
          "base_uri": "https://localhost:8080/"
        },
        "outputId": "2e6b4177-603b-4c76-d79b-b3702f049215"
      },
      "outputs": [
        {
          "output_type": "stream",
          "name": "stdout",
          "text": [
            "enter the number25\n",
            "sum of the number is 325\n",
            "average of number is 13.0\n"
          ]
        }
      ],
      "source": [
        "num=int(input('enter the number'))\n",
        "sum=0\n",
        "for i in range(1,num+1):\n",
        "   sum=sum+i\n",
        "print('sum of the number is',sum)\n",
        "print('average of number is',sum/num)\n",
        "   "
      ]
    },
    {
      "cell_type": "markdown",
      "metadata": {
        "id": "xJpjiSMOI7GK"
      },
      "source": [
        "#Statement\n",
        "\n",
        "1. PASS\n",
        "\n",
        "2.BREAK\n",
        "\n",
        "3.CONTINUE"
      ]
    },
    {
      "cell_type": "code",
      "execution_count": null,
      "metadata": {
        "colab": {
          "base_uri": "https://localhost:8080/"
        },
        "id": "ifCQ_hTYArf1",
        "outputId": "b915b8b0-10a5-453e-f292-059cef7c9f4d"
      },
      "outputs": [
        {
          "name": "stdout",
          "output_type": "stream",
          "text": [
            "enter a number25\n",
            "enter a number55\n"
          ]
        }
      ],
      "source": [
        "#pass - it makes the code segment inactive\n",
        "x=int(input('enter a number'))\n",
        "y=int(input('enter a number'))\n",
        "\n",
        "if x>y:\n",
        "  print('x is greater than y')\n",
        "\n",
        "else:\n",
        "  pass #if y>x then no output  "
      ]
    },
    {
      "cell_type": "code",
      "execution_count": null,
      "metadata": {
        "colab": {
          "base_uri": "https://localhost:8080/"
        },
        "id": "HgGVQi0OJyel",
        "outputId": "e467e175-82d6-453e-892c-e5f3694a3966"
      },
      "outputs": [
        {
          "output_type": "stream",
          "name": "stdout",
          "text": [
            "mango\n",
            "apple\n"
          ]
        }
      ],
      "source": [
        "#break-forcebly come out of the loop\n",
        "fruits=['mango','apple','pineapple','guava','grapes']\n",
        "\n",
        "for i in fruits:\n",
        "  if i==\"pineapple\":\n",
        "    break\n",
        "\n",
        "  print(i)"
      ]
    },
    {
      "cell_type": "code",
      "execution_count": null,
      "metadata": {
        "colab": {
          "base_uri": "https://localhost:8080/"
        },
        "id": "KyqwbPmxLLKr",
        "outputId": "6fc31169-c78d-4c1d-d1a5-04044dd1dd00"
      },
      "outputs": [
        {
          "output_type": "stream",
          "name": "stdout",
          "text": [
            "I\n",
            "n\n",
            "d\n",
            "i\n",
            "a\n",
            "n\n",
            " \n"
          ]
        }
      ],
      "source": [
        "name='Indian Ocean'\n",
        "\n",
        "for i in name:\n",
        "  if i=='O':\n",
        "    break\n",
        "  print(i)  "
      ]
    },
    {
      "cell_type": "code",
      "execution_count": null,
      "metadata": {
        "colab": {
          "base_uri": "https://localhost:8080/"
        },
        "id": "se7RQRHYLjZj",
        "outputId": "d5ff0ef0-938d-4ce4-b8ea-bf2306565c65"
      },
      "outputs": [
        {
          "output_type": "stream",
          "name": "stdout",
          "text": [
            "mango\n",
            "apple\n",
            "guava\n",
            "grapes\n"
          ]
        }
      ],
      "source": [
        "#continue-the element which is in the condition gets skipped but the loop will not iteration\n",
        "fruits=['mango','apple','pineapple','guava','grapes']\n",
        "\n",
        "for i in fruits:\n",
        "  if i==\"pineapple\":\n",
        "    continue\n",
        "\n",
        "  print(i)"
      ]
    },
    {
      "cell_type": "code",
      "execution_count": null,
      "metadata": {
        "id": "0uQ2HY1gMrZt",
        "colab": {
          "base_uri": "https://localhost:8080/"
        },
        "outputId": "d9ffbfa0-30e4-4bb4-dd54-b4e74540aa39"
      },
      "outputs": [
        {
          "output_type": "stream",
          "name": "stdout",
          "text": [
            "I\n",
            "n\n",
            "d\n",
            "i\n",
            "a\n",
            "n\n",
            " \n",
            "c\n",
            "e\n",
            "a\n",
            "n\n"
          ]
        }
      ],
      "source": [
        "name='Indian Ocean'\n",
        "\n",
        "for i in name:\n",
        "  if i=='O':\n",
        "    continue   \n",
        "  print(i)  "
      ]
    },
    {
      "cell_type": "markdown",
      "metadata": {
        "id": "Y-_7KkXyPDhI"
      },
      "source": [
        "Display all the number between 1 to 10 except 3 and 7"
      ]
    },
    {
      "cell_type": "code",
      "execution_count": null,
      "metadata": {
        "id": "TwEk8XvMNA4z",
        "colab": {
          "base_uri": "https://localhost:8080/"
        },
        "outputId": "77981623-cfeb-4bbe-8db9-b3b03111be4c"
      },
      "outputs": [
        {
          "output_type": "stream",
          "name": "stdout",
          "text": [
            "1\n",
            "2\n",
            "4\n",
            "5\n",
            "6\n",
            "8\n",
            "9\n",
            "10\n"
          ]
        }
      ],
      "source": [
        "for i in range(1,11):\n",
        "  if i== 3 or i== 7:\n",
        "    continue\n",
        "  print(i)  "
      ]
    },
    {
      "cell_type": "markdown",
      "metadata": {
        "id": "39WMO_fdUjiJ"
      },
      "source": [
        "Take a list of numbers and append the square  in the seperate list\n",
        "\n"
      ]
    },
    {
      "cell_type": "code",
      "execution_count": null,
      "metadata": {
        "colab": {
          "base_uri": "https://localhost:8080/"
        },
        "id": "56YpTAaiPgRf",
        "outputId": "57489658-ad23-421b-d979-05e594156a31"
      },
      "outputs": [
        {
          "output_type": "stream",
          "name": "stdout",
          "text": [
            "[4, 9, 16, 25, 64, 49, 36]\n"
          ]
        }
      ],
      "source": [
        "l1=[2,3,4,5,8,7,6]\n",
        "l2=[]  #empty list\n",
        "\n",
        "for i in l1:\n",
        "  square=i*i\n",
        "  l2.append(square)\n",
        "print(l2)  "
      ]
    },
    {
      "cell_type": "code",
      "execution_count": null,
      "metadata": {
        "colab": {
          "base_uri": "https://localhost:8080/"
        },
        "id": "pfAn08cSVtFs",
        "outputId": "929cbf90-5ffd-466b-af5f-d6914c031084"
      },
      "outputs": [
        {
          "output_type": "stream",
          "name": "stdout",
          "text": [
            "[4, 16, 64, 36]\n"
          ]
        }
      ],
      "source": [
        "l1=[2,3,4,5,8,7,6]\n",
        "l2=[]  #empty list\n",
        "\n",
        "for i in l1:\n",
        "  if i%2==0:\n",
        "    square=i*i\n",
        "    l2.append(square)\n",
        "print(l2)  "
      ]
    },
    {
      "cell_type": "code",
      "execution_count": null,
      "metadata": {
        "id": "8DWDW2klYG59"
      },
      "outputs": [],
      "source": []
    },
    {
      "cell_type": "markdown",
      "metadata": {
        "id": "vyA7i1zAo_S5"
      },
      "source": [
        "#FUNCTIONS\n",
        "\n",
        "1-Build in function\n",
        "\n",
        "2-user defined functions------- Defining(explain the context of sales and marketing)  the function and calling (by name) function"
      ]
    },
    {
      "cell_type": "markdown",
      "metadata": {
        "id": "YVb7znagu2xn"
      },
      "source": [
        "create a function which add any two number"
      ]
    },
    {
      "cell_type": "code",
      "execution_count": null,
      "metadata": {
        "id": "6GDvS25nuT7a"
      },
      "outputs": [],
      "source": [
        "def add(a,b):\n",
        "  s=a+b\n",
        "  print(s)"
      ]
    },
    {
      "cell_type": "code",
      "execution_count": null,
      "metadata": {
        "colab": {
          "base_uri": "https://localhost:8080/"
        },
        "id": "ODpzKJKiuaaF",
        "outputId": "d2d1294e-ca00-47d4-f742-e21dc9ee788f"
      },
      "outputs": [
        {
          "output_type": "stream",
          "name": "stdout",
          "text": [
            "50\n"
          ]
        }
      ],
      "source": [
        "add(20,30)"
      ]
    },
    {
      "cell_type": "code",
      "execution_count": null,
      "metadata": {
        "colab": {
          "base_uri": "https://localhost:8080/"
        },
        "id": "qICnH01guefk",
        "outputId": "c2bdb52f-2329-4639-d848-1675522ea6ee"
      },
      "outputs": [
        {
          "output_type": "stream",
          "name": "stdout",
          "text": [
            "210\n"
          ]
        }
      ],
      "source": [
        "add(99,111)"
      ]
    },
    {
      "cell_type": "code",
      "execution_count": null,
      "metadata": {
        "colab": {
          "base_uri": "https://localhost:8080/"
        },
        "id": "Z8Xm9ieBujSp",
        "outputId": "50d954dd-3daa-4dd0-9a73-e49b3dfcc6d9"
      },
      "outputs": [
        {
          "output_type": "stream",
          "name": "stdout",
          "text": [
            "1665\n"
          ]
        }
      ],
      "source": [
        "add(666,999)"
      ]
    },
    {
      "cell_type": "markdown",
      "metadata": {
        "id": "ZeDN00WVvO06"
      },
      "source": [
        "create a function which add any three given number"
      ]
    },
    {
      "cell_type": "code",
      "execution_count": null,
      "metadata": {
        "id": "OaJZW6h0vLKI"
      },
      "outputs": [],
      "source": [
        "def add(a,b,c):\n",
        "  s=a+b+c\n",
        "  print(s)"
      ]
    },
    {
      "cell_type": "code",
      "execution_count": null,
      "metadata": {
        "colab": {
          "base_uri": "https://localhost:8080/"
        },
        "id": "aRr-O6zZvenF",
        "outputId": "42529ecd-c858-4097-d34d-35246184c695"
      },
      "outputs": [
        {
          "output_type": "stream",
          "name": "stdout",
          "text": [
            "209\n"
          ]
        }
      ],
      "source": [
        "add(66,44,99)"
      ]
    },
    {
      "cell_type": "markdown",
      "metadata": {
        "id": "GdPTy7Izw-zM"
      },
      "source": [
        "create a function which display whole number output of division operation on 2 number"
      ]
    },
    {
      "cell_type": "code",
      "execution_count": null,
      "metadata": {
        "id": "EtqgFs5QvhvX"
      },
      "outputs": [],
      "source": [
        "def div(a,b):\n",
        "  s=a//b  #whole number as output\n",
        "  print(s)"
      ]
    },
    {
      "cell_type": "code",
      "execution_count": null,
      "metadata": {
        "colab": {
          "base_uri": "https://localhost:8080/"
        },
        "id": "8dtY0q1GxcK6",
        "outputId": "fafa216d-3cb4-4da8-83ac-9fb1127a86e9"
      },
      "outputs": [
        {
          "output_type": "stream",
          "name": "stdout",
          "text": [
            "33\n"
          ]
        }
      ],
      "source": [
        "div(99,3)"
      ]
    },
    {
      "cell_type": "code",
      "execution_count": null,
      "metadata": {
        "colab": {
          "base_uri": "https://localhost:8080/"
        },
        "id": "up08y_9qx7__",
        "outputId": "376bee07-4a71-4713-df17-44da984203d0"
      },
      "outputs": [
        {
          "output_type": "stream",
          "name": "stdout",
          "text": [
            "3\n"
          ]
        }
      ],
      "source": [
        "div(7,2)"
      ]
    },
    {
      "cell_type": "markdown",
      "metadata": {
        "id": "_wA3Dzec0Bxf"
      },
      "source": [
        "create a function which display addition,substraction,multiplication and division 2 number"
      ]
    },
    {
      "cell_type": "code",
      "execution_count": null,
      "metadata": {
        "id": "PDZrnCMfyVo4"
      },
      "outputs": [],
      "source": [
        "def compute(a,b):\n",
        "  p=a+b\n",
        "  q=a-b\n",
        "  r=a*b\n",
        "  s=a/b\n",
        "  print(p,q,r,s)"
      ]
    },
    {
      "cell_type": "code",
      "execution_count": null,
      "metadata": {
        "colab": {
          "base_uri": "https://localhost:8080/"
        },
        "id": "AztlD3ST0exY",
        "outputId": "c21808e1-a26e-44c3-cdc9-1c50fc2135e5"
      },
      "outputs": [
        {
          "output_type": "stream",
          "name": "stdout",
          "text": [
            "99 -11 2420 0.8\n"
          ]
        }
      ],
      "source": [
        "compute(44,55)"
      ]
    },
    {
      "cell_type": "markdown",
      "metadata": {
        "id": "dJvcxibS1x_O"
      },
      "source": [
        "Create a function which take age and name from the user and display the age of the person"
      ]
    },
    {
      "cell_type": "code",
      "execution_count": null,
      "metadata": {
        "id": "JFrbSFNz0i1y"
      },
      "outputs": [],
      "source": [
        "def person(name,age):\n",
        "  print(\"hi, your age is\",age)"
      ]
    },
    {
      "cell_type": "code",
      "execution_count": null,
      "metadata": {
        "colab": {
          "base_uri": "https://localhost:8080/"
        },
        "id": "NNCGT8Nt2d9i",
        "outputId": "dc4def97-cad5-463a-afeb-fb91ad33bdc3"
      },
      "outputs": [
        {
          "output_type": "stream",
          "name": "stdout",
          "text": [
            "hi, your age is 19\n"
          ]
        }
      ],
      "source": [
        "person(\"mubasshir\",19)"
      ]
    },
    {
      "cell_type": "markdown",
      "metadata": {
        "id": "OY00Cgxg5mJV"
      },
      "source": [
        "Create a function which takes name and salary as input from the user and display  the name and salary of the person.\n",
        "\n",
        "in case the salary is not mentioned, take default salary is 15,000"
      ]
    },
    {
      "cell_type": "code",
      "execution_count": null,
      "metadata": {
        "id": "YAEVoSVE2hlQ"
      },
      "outputs": [],
      "source": [
        "def data(name,salary=15000):\n",
        "  print(\"hie\",name,\"your current salary is \",salary, \"per month\")"
      ]
    },
    {
      "cell_type": "code",
      "execution_count": null,
      "metadata": {
        "colab": {
          "base_uri": "https://localhost:8080/"
        },
        "id": "j7FUXNHn6nv1",
        "outputId": "902a4cca-0b27-48a7-9286-898da9e4a25c"
      },
      "outputs": [
        {
          "output_type": "stream",
          "name": "stdout",
          "text": [
            "hie rahi your current salary is  15000 per month\n"
          ]
        }
      ],
      "source": [
        "data(\"rahi\",)"
      ]
    },
    {
      "cell_type": "code",
      "execution_count": null,
      "metadata": {
        "colab": {
          "base_uri": "https://localhost:8080/"
        },
        "id": "E6MO4H7H6WQ3",
        "outputId": "7e513ec7-c965-4664-ac4d-cdbc7f8a8d34"
      },
      "outputs": [
        {
          "output_type": "stream",
          "name": "stdout",
          "text": [
            "hie mubasshir your current salary is  45000 per month\n"
          ]
        }
      ],
      "source": [
        "data(\"mubasshir\",45000)"
      ]
    },
    {
      "cell_type": "markdown",
      "metadata": {
        "id": "vGuBDilD7eMb"
      },
      "source": [
        "create a function which add all the element givens in  a list of numbers"
      ]
    },
    {
      "cell_type": "code",
      "execution_count": null,
      "metadata": {
        "id": "6cCzPcXp6anY"
      },
      "outputs": [],
      "source": [
        "def add_num(numbers):\n",
        "  sum=0\n",
        "\n",
        "  for i in numbers:\n",
        "    sum=sum+i\n",
        "\n",
        "  print(sum)"
      ]
    },
    {
      "cell_type": "code",
      "execution_count": null,
      "metadata": {
        "colab": {
          "base_uri": "https://localhost:8080/"
        },
        "id": "aT37mD-O8BTl",
        "outputId": "f838dd96-960b-4193-c145-18115e65b8f8"
      },
      "outputs": [
        {
          "output_type": "stream",
          "name": "stdout",
          "text": [
            "31\n"
          ]
        }
      ],
      "source": [
        "add_num((25,6))"
      ]
    },
    {
      "cell_type": "code",
      "execution_count": null,
      "metadata": {
        "colab": {
          "base_uri": "https://localhost:8080/"
        },
        "id": "CgG4r0IP8IbW",
        "outputId": "95e7c3f1-f626-434b-aa29-355a2bcad28f"
      },
      "outputs": [
        {
          "output_type": "stream",
          "name": "stdout",
          "text": [
            "187\n"
          ]
        }
      ],
      "source": [
        "add_num((22,55,44,66))"
      ]
    },
    {
      "cell_type": "code",
      "execution_count": null,
      "metadata": {
        "colab": {
          "base_uri": "https://localhost:8080/"
        },
        "id": "GiwmzPt49v_9",
        "outputId": "cf44f474-1a23-48be-a187-98a18f0c6699"
      },
      "outputs": [
        {
          "output_type": "stream",
          "name": "stdout",
          "text": [
            "248\n"
          ]
        }
      ],
      "source": [
        "add_num([45,66,84,53])"
      ]
    },
    {
      "cell_type": "markdown",
      "metadata": {
        "id": "7NjlbUCDFdeG"
      },
      "source": [
        "create a function which display the larger number out of three goven number"
      ]
    },
    {
      "cell_type": "code",
      "execution_count": null,
      "metadata": {
        "id": "_KN521Au99Ns"
      },
      "outputs": [],
      "source": [
        "def number(a,b,c):\n",
        "  if a>b and a>c:\n",
        "    print(a,\"is greater than \",b,c)\n",
        "  elif b>a and b>c:\n",
        "    print(b, \"is greater than \",a,c)\n",
        "  else:\n",
        "     print(c,\"is greater than \",a,b)\n"
      ]
    },
    {
      "cell_type": "code",
      "execution_count": null,
      "metadata": {
        "colab": {
          "base_uri": "https://localhost:8080/"
        },
        "id": "v7Ivh6szHP0T",
        "outputId": "4961ce83-6e32-4c78-b324-5db411c81915"
      },
      "outputs": [
        {
          "output_type": "stream",
          "name": "stdout",
          "text": [
            "7 is greater than  5 6\n"
          ]
        }
      ],
      "source": [
        "number(5,6,7)"
      ]
    },
    {
      "cell_type": "code",
      "execution_count": null,
      "metadata": {
        "id": "9yeC_ZoLHg67"
      },
      "outputs": [],
      "source": []
    },
    {
      "cell_type": "code",
      "execution_count": null,
      "metadata": {
        "colab": {
          "base_uri": "https://localhost:8080/"
        },
        "id": "lDA5IiNeHoYZ",
        "outputId": "ad55c7f6-84af-4c59-e75f-c61b87e0e812"
      },
      "outputs": [
        {
          "output_type": "stream",
          "name": "stdout",
          "text": [
            "9 is greater than  8 7\n"
          ]
        }
      ],
      "source": [
        "number(9,8,7)"
      ]
    },
    {
      "cell_type": "code",
      "execution_count": null,
      "metadata": {
        "colab": {
          "base_uri": "https://localhost:8080/"
        },
        "id": "D_w7_iQPHsGe",
        "outputId": "d17d8f47-ab1a-41b2-ac70-505c7c294ad8"
      },
      "outputs": [
        {
          "output_type": "stream",
          "name": "stdout",
          "text": [
            "8 is greater than  6 7\n"
          ]
        }
      ],
      "source": [
        "number(6,8,7)"
      ]
    },
    {
      "cell_type": "markdown",
      "metadata": {
        "id": "SKfa9-uPI7BQ"
      },
      "source": [
        "create a function which compute area and circumference of a circle"
      ]
    },
    {
      "cell_type": "code",
      "execution_count": null,
      "metadata": {
        "id": "_s2ohzTeHvG8"
      },
      "outputs": [],
      "source": [
        "#circumference = 2*3.14*r\n",
        "#area=3.14*r**2\n",
        "def radius(a):\n",
        "  c=2*3.14*a\n",
        "  d=3.14*a**2\n",
        "  print(\"circumference is \",c,\"and area is \",d)"
      ]
    },
    {
      "cell_type": "code",
      "execution_count": null,
      "metadata": {
        "colab": {
          "base_uri": "https://localhost:8080/"
        },
        "id": "_NTrvd2sKG3r",
        "outputId": "29b484b3-b139-430f-fad2-c1d2959809b3"
      },
      "outputs": [
        {
          "output_type": "stream",
          "name": "stdout",
          "text": [
            "circumference is  31.400000000000002 and area is  78.5\n"
          ]
        }
      ],
      "source": [
        "radius(5)"
      ]
    },
    {
      "cell_type": "code",
      "execution_count": null,
      "metadata": {
        "colab": {
          "base_uri": "https://localhost:8080/"
        },
        "id": "3W89Pl_PKJ6n",
        "outputId": "166adea4-07b2-4751-9f81-c91052884ded"
      },
      "outputs": [
        {
          "output_type": "stream",
          "name": "stdout",
          "text": [
            "circumference is  12.56 and area is  12.56\n"
          ]
        }
      ],
      "source": [
        "radius(2)"
      ]
    },
    {
      "cell_type": "code",
      "execution_count": null,
      "metadata": {
        "colab": {
          "base_uri": "https://localhost:8080/"
        },
        "id": "OHgBsnawML3F",
        "outputId": "598172bf-8909-4831-bbde-cc1b3851466f"
      },
      "outputs": [
        {
          "output_type": "stream",
          "name": "stdout",
          "text": [
            "circumference is  43.96 and area is  153.86\n"
          ]
        }
      ],
      "source": [
        "radius(7)"
      ]
    },
    {
      "cell_type": "markdown",
      "metadata": {
        "id": "P6kDwTDmKXwe"
      },
      "source": [
        "create a function which compute area and perimeter of rectangle"
      ]
    },
    {
      "cell_type": "code",
      "execution_count": null,
      "metadata": {
        "id": "FPsFdKvvKOHu"
      },
      "outputs": [],
      "source": [
        "def side(l,b):\n",
        "  c=2*l+2*b\n",
        "  d=l*b\n",
        "  print(\"perimeter of rectangle is \",c,\"and area is \",d)"
      ]
    },
    {
      "cell_type": "code",
      "execution_count": null,
      "metadata": {
        "colab": {
          "base_uri": "https://localhost:8080/"
        },
        "id": "1c5bY5hiK__7",
        "outputId": "c20f94c0-a4ec-4313-b674-135c325031a9"
      },
      "outputs": [
        {
          "output_type": "stream",
          "name": "stdout",
          "text": [
            "perimeter of rectangle is  28 and area is  48\n"
          ]
        }
      ],
      "source": [
        "side(8,6)"
      ]
    },
    {
      "cell_type": "code",
      "execution_count": null,
      "metadata": {
        "colab": {
          "base_uri": "https://localhost:8080/"
        },
        "id": "DNFhU0kmLIbt",
        "outputId": "f7f04d6f-f91b-4f01-d96d-32f69e29bd87"
      },
      "outputs": [
        {
          "output_type": "stream",
          "name": "stdout",
          "text": [
            "perimeter of rectangle is  198 and area is  2420\n"
          ]
        }
      ],
      "source": [
        "side(44,55)"
      ]
    },
    {
      "cell_type": "code",
      "execution_count": null,
      "metadata": {
        "colab": {
          "base_uri": "https://localhost:8080/"
        },
        "id": "sj2vjBeULjmg",
        "outputId": "b9f11af7-909a-4257-a1f9-6fb34742fe91"
      },
      "outputs": [
        {
          "output_type": "stream",
          "name": "stdout",
          "text": [
            "perimeter of rectangle is  138 and area is  320\n"
          ]
        }
      ],
      "source": [
        "side(64,5)"
      ]
    },
    {
      "cell_type": "markdown",
      "metadata": {
        "id": "3GSdoCVCM3-1"
      },
      "source": [
        "create a function which display all the even number given in the list of number in a seperate list"
      ]
    },
    {
      "cell_type": "code",
      "execution_count": null,
      "metadata": {
        "id": "sUEmsd0MMn9X"
      },
      "outputs": [],
      "source": [
        "def even(numbers):\n",
        "  l2=[]  \n",
        "  for i in numbers:\n",
        "    if i%2==0:\n",
        "      l2.append(i)\n",
        "  print(l2)\n",
        "\n"
      ]
    },
    {
      "cell_type": "code",
      "execution_count": null,
      "metadata": {
        "colab": {
          "base_uri": "https://localhost:8080/"
        },
        "id": "na0NKOekODoz",
        "outputId": "0fd58a82-0843-4845-f8d6-4a0323418d41"
      },
      "outputs": [
        {
          "output_type": "stream",
          "name": "stdout",
          "text": [
            "[64, 88, 54, 56]\n"
          ]
        }
      ],
      "source": [
        "even([23,55,64,33,77,88,99,54,75,56])"
      ]
    },
    {
      "cell_type": "markdown",
      "metadata": {
        "id": "xu9ZmeMdyRlw"
      },
      "source": [
        "Create a function which counts the number of vowels and consonants in a given word"
      ]
    },
    {
      "cell_type": "code",
      "execution_count": null,
      "metadata": {
        "id": "57XqjeVIOPRB"
      },
      "outputs": [],
      "source": [
        "def count(word):\n",
        "  vowels_count=0\n",
        "  consonent_count=0\n",
        "\n",
        "  for i in range(len(word)):\n",
        "    if word[i] in (\"a\",\"A\",\"e\",\"E\",\"i\",\"I\",\"o\",\"O\",\"u\",\"U\"):\n",
        "      vowels_count=vowels_count+1\n",
        "\n",
        "    else:\n",
        "      consonent_count=consonent_count+1\n",
        "\n",
        "  print(\"number of vowels is \",vowels_count ,\"and number of consonent is \",consonent_count) "
      ]
    },
    {
      "cell_type": "code",
      "execution_count": null,
      "metadata": {
        "colab": {
          "base_uri": "https://localhost:8080/"
        },
        "id": "JMIJOY0q0Mgs",
        "outputId": "5db54e99-12f7-49ec-ba93-1153f05833b3"
      },
      "outputs": [
        {
          "output_type": "stream",
          "name": "stdout",
          "text": [
            "number of vowels is  3 and number of consonent is  6\n"
          ]
        }
      ],
      "source": [
        "count(\"Mubasshir\")"
      ]
    },
    {
      "cell_type": "code",
      "execution_count": null,
      "metadata": {
        "colab": {
          "base_uri": "https://localhost:8080/"
        },
        "id": "p6ApT7TA0Zg0",
        "outputId": "16eb14b1-ef55-4262-dd4c-9e0f7f555897"
      },
      "outputs": [
        {
          "output_type": "stream",
          "name": "stdout",
          "text": [
            "number of vowels is  3 and number of consonent is  6\n"
          ]
        }
      ],
      "source": [
        "count(\" my india\")"
      ]
    },
    {
      "cell_type": "code",
      "execution_count": null,
      "metadata": {
        "id": "4sqJ1W4d0xzf"
      },
      "outputs": [],
      "source": [
        "def count(word):\n",
        "  vowels_count=0\n",
        "  consonent_count=0\n",
        "\n",
        "  for i in word:\n",
        "    if i in (\"a\",\"A\",\"e\",\"E\",\"i\",\"I\",\"o\",\"O\",\"u\",\"U\"):\n",
        "      vowels_count=vowels_count+1\n",
        "\n",
        "    else:\n",
        "      consonent_count=consonent_count+1\n",
        "\n",
        "  print(\"number of vowels is \",vowels_count ,\"and number of consonent is \",consonent_count) "
      ]
    },
    {
      "cell_type": "code",
      "execution_count": null,
      "metadata": {
        "id": "gBR1vtn17QVC",
        "colab": {
          "base_uri": "https://localhost:8080/"
        },
        "outputId": "be1240f6-b546-4554-ed75-87d653fa5352"
      },
      "outputs": [
        {
          "output_type": "stream",
          "name": "stdout",
          "text": [
            "number of vowels is  3 and number of consonent is  6\n"
          ]
        }
      ],
      "source": [
        "count(\"mubasshir\")"
      ]
    },
    {
      "cell_type": "markdown",
      "metadata": {
        "id": "-yGJKP9z8Fa1"
      },
      "source": [
        "#Type of argument\n",
        "\n",
        "1. Default argument\n",
        "\n",
        "2. Arbitrary argument\n",
        "\n",
        "3. Keyword arguments\n",
        "\n",
        "4. Arbitrary keyword argument"
      ]
    },
    {
      "cell_type": "markdown",
      "metadata": {
        "id": "sRN9XovH8ddW"
      },
      "source": [
        "#Default arguments\n",
        "\n",
        "create a function which greets \"good morning\" to the customer by using his/her name.\n",
        "\n",
        "incase the name is not provided, call the customer by the name \"user\""
      ]
    },
    {
      "cell_type": "code",
      "execution_count": null,
      "metadata": {
        "id": "LaM6E15U7TgF"
      },
      "outputs": [],
      "source": [
        "def func(name='user'):\n",
        "  print(\"good morning\", name) "
      ]
    },
    {
      "cell_type": "code",
      "execution_count": null,
      "metadata": {
        "id": "TSvMReM99PAG",
        "colab": {
          "base_uri": "https://localhost:8080/"
        },
        "outputId": "219a88b9-8cce-4795-8050-a6856a6c8207"
      },
      "outputs": [
        {
          "output_type": "stream",
          "name": "stdout",
          "text": [
            "good morning user\n"
          ]
        }
      ],
      "source": [
        "func()"
      ]
    },
    {
      "cell_type": "markdown",
      "metadata": {
        "id": "rxc_MzxW9Y2e"
      },
      "source": [
        "#Arbitrary arguments\n",
        "\n",
        "1. Here the number of parameter are known to us\n",
        "\n",
        "2. In order to accept any number of parameters from the user, we use *symbol along with the name of the parameter\n",
        "\n",
        "3. Arbitrary argument are also called as *args"
      ]
    },
    {
      "cell_type": "code",
      "execution_count": null,
      "metadata": {
        "id": "F0Fif6lk9Tbn"
      },
      "outputs": [],
      "source": [
        "def func1(*child):\n",
        "   print(\"youngest child is \",child[2])"
      ]
    },
    {
      "cell_type": "code",
      "execution_count": null,
      "metadata": {
        "id": "-NlvoJsHAYru",
        "colab": {
          "base_uri": "https://localhost:8080/"
        },
        "outputId": "636f8b6b-02c1-4c61-916c-925715b4ed8b"
      },
      "outputs": [
        {
          "output_type": "stream",
          "name": "stdout",
          "text": [
            "youngest child is  ruana\n"
          ]
        }
      ],
      "source": [
        "func1(\"mubasshir\",\"rahman\",\"ruana\",\"sayam\",\"sayan\")"
      ]
    },
    {
      "cell_type": "code",
      "execution_count": null,
      "metadata": {
        "id": "xeTjCkJRAk30"
      },
      "outputs": [],
      "source": [
        "def greet(*name):\n",
        "  for i in name:\n",
        "    print(\"good morning\", name)"
      ]
    },
    {
      "cell_type": "code",
      "source": [
        "greet('ravi')"
      ],
      "metadata": {
        "colab": {
          "base_uri": "https://localhost:8080/"
        },
        "id": "x9C-xdelPrKT",
        "outputId": "16f07ced-5b36-4976-862c-9e5e95126cdd"
      },
      "execution_count": null,
      "outputs": [
        {
          "output_type": "stream",
          "name": "stdout",
          "text": [
            "good morning ('ravi',)\n"
          ]
        }
      ]
    },
    {
      "cell_type": "code",
      "execution_count": null,
      "metadata": {
        "id": "7o2L2ky8BKbF",
        "colab": {
          "base_uri": "https://localhost:8080/"
        },
        "outputId": "cbe13cdb-7811-470b-af92-4dcf72439b19"
      },
      "outputs": [
        {
          "output_type": "stream",
          "name": "stdout",
          "text": [
            "good morning ('mubassir', 'rahman')\n",
            "good morning ('mubassir', 'rahman')\n"
          ]
        }
      ],
      "source": [
        " greet('mubassir','rahman')"
      ]
    },
    {
      "cell_type": "markdown",
      "source": [
        "Keyword arguments\n",
        "\n",
        "1. Here the number of parameters are known to us.\n",
        "\n",
        "2. While calling the function we provide input in the form of key value pair.\n",
        "\n",
        "3. Order of parameter does not play a role."
      ],
      "metadata": {
        "id": "OpX1ythISA_V"
      }
    },
    {
      "cell_type": "code",
      "execution_count": null,
      "metadata": {
        "id": "qEauPIYJCqVk"
      },
      "outputs": [],
      "source": [
        "def func2(child3, child1, child2):\n",
        "  print(\"youngest child is\",child3)"
      ]
    },
    {
      "cell_type": "code",
      "source": [
        "func2(child1='Ram', child2='Shyam', child3='Meera')"
      ],
      "metadata": {
        "colab": {
          "base_uri": "https://localhost:8080/"
        },
        "id": "Tq4FSzllTBOx",
        "outputId": "f29f7ee6-2fd1-4c43-ec1c-498ac6889a89"
      },
      "execution_count": null,
      "outputs": [
        {
          "output_type": "stream",
          "name": "stdout",
          "text": [
            "youngest child is Meera\n"
          ]
        }
      ]
    },
    {
      "cell_type": "markdown",
      "source": [
        "Arbitrary Keyword Argument\n",
        "\n",
        "1. Here the number of parameters are unknown to us.\n",
        "\n",
        "2. While calling the function, we provide the input in the form of key value pair\n",
        "\n",
        "3. We use ** symbol along with the name of the parameter.\n",
        "\n",
        "4. Arbitrary keyword arguments are also called **kwargs"
      ],
      "metadata": {
        "id": "RLQHVD1GWug1"
      }
    },
    {
      "cell_type": "code",
      "source": [
        " def func3(**names):\n",
        "   print('his last name',names['lname'])\n"
      ],
      "metadata": {
        "id": "A4UZRvulTMoH"
      },
      "execution_count": null,
      "outputs": []
    },
    {
      "cell_type": "code",
      "source": [
        "func3(fname='Ashutosh',mname='Kumar',lname='Mishra')"
      ],
      "metadata": {
        "colab": {
          "base_uri": "https://localhost:8080/"
        },
        "id": "_FbBrPcdWuBi",
        "outputId": "3e744d81-c499-4820-8196-3616828583eb"
      },
      "execution_count": null,
      "outputs": [
        {
          "output_type": "stream",
          "name": "stdout",
          "text": [
            "his last name Mishra\n"
          ]
        }
      ]
    },
    {
      "cell_type": "code",
      "source": [
        "func3(fname='Abhishek',lname='Singh')"
      ],
      "metadata": {
        "colab": {
          "base_uri": "https://localhost:8080/"
        },
        "id": "m2auJvD9gwgc",
        "outputId": "fbf96934-e87b-4540-cb95-5cddf674621a"
      },
      "execution_count": null,
      "outputs": [
        {
          "output_type": "stream",
          "name": "stdout",
          "text": [
            "his last name Singh\n"
          ]
        }
      ]
    },
    {
      "cell_type": "code",
      "source": [
        "func3(fname='Kunal',lname='NONE')"
      ],
      "metadata": {
        "colab": {
          "base_uri": "https://localhost:8080/"
        },
        "id": "yKVYoboNgBDc",
        "outputId": "78b970d1-6411-4871-fb49-18d8e9ac3c85"
      },
      "execution_count": null,
      "outputs": [
        {
          "output_type": "stream",
          "name": "stdout",
          "text": [
            "his last name NONE\n"
          ]
        }
      ]
    },
    {
      "cell_type": "markdown",
      "source": [
        "Recursion\n",
        "\n",
        "Function which calls itself\n",
        "\n",
        "1. Base case- terminate from recursion\n",
        "\n",
        "2. Recursive case - calling itself \n",
        "\n",
        "e.g: Factorials:- 5!=5 * 4!= 5 * 4 * 3!= 5 * 4 * 3 * 2! = 5 * 4 * 3 * 2 * 1 =>120\n",
        "\n"
      ],
      "metadata": {
        "id": "rqdBpgEbhSgR"
      }
    },
    {
      "cell_type": "markdown",
      "source": [
        "create a function which calculates the factorial of a number "
      ],
      "metadata": {
        "id": "GbvOeTKvnq2d"
      }
    },
    {
      "cell_type": "code",
      "source": [
        "def factorial(n):\n",
        "   fact=1 \n",
        "  if n==0 or n==1:\n",
        "    print('factorial is 1')\n",
        "  else:\n",
        "    fact=fact*n\n",
        "    print('factorial of given number is',n*factorial(n-1))  "
      ],
      "metadata": {
        "id": "TuCJL3piggQK",
        "colab": {
          "base_uri": "https://localhost:8080/",
          "height": 130
        },
        "outputId": "27cfbb0c-11b1-4122-d468-e35e2175650c"
      },
      "execution_count": null,
      "outputs": [
        {
          "output_type": "error",
          "ename": "IndentationError",
          "evalue": "ignored",
          "traceback": [
            "\u001b[0;36m  File \u001b[0;32m\"<tokenize>\"\u001b[0;36m, line \u001b[0;32m3\u001b[0m\n\u001b[0;31m    if n==0 or n==1:\u001b[0m\n\u001b[0m    ^\u001b[0m\n\u001b[0;31mIndentationError\u001b[0m\u001b[0;31m:\u001b[0m unindent does not match any outer indentation level\n"
          ]
        }
      ]
    },
    {
      "cell_type": "code",
      "source": [
        "factorial(15)"
      ],
      "metadata": {
        "colab": {
          "base_uri": "https://localhost:8080/",
          "height": 165
        },
        "id": "gNXh1-h1kqZw",
        "outputId": "96734426-8841-48ca-b322-21235ab8bcdc"
      },
      "execution_count": null,
      "outputs": [
        {
          "output_type": "error",
          "ename": "NameError",
          "evalue": "ignored",
          "traceback": [
            "\u001b[0;31m---------------------------------------------------------------------------\u001b[0m",
            "\u001b[0;31mNameError\u001b[0m                                 Traceback (most recent call last)",
            "\u001b[0;32m<ipython-input-55-fc76ad8d1e4e>\u001b[0m in \u001b[0;36m<module>\u001b[0;34m\u001b[0m\n\u001b[0;32m----> 1\u001b[0;31m \u001b[0mfactorial\u001b[0m\u001b[0;34m(\u001b[0m\u001b[0;36m15\u001b[0m\u001b[0;34m)\u001b[0m\u001b[0;34m\u001b[0m\u001b[0;34m\u001b[0m\u001b[0m\n\u001b[0m",
            "\u001b[0;31mNameError\u001b[0m: name 'factorial' is not defined"
          ]
        }
      ]
    },
    {
      "cell_type": "code",
      "source": [
        " import math"
      ],
      "metadata": {
        "id": "NhjLfsISktH_"
      },
      "execution_count": null,
      "outputs": []
    },
    {
      "cell_type": "code",
      "source": [
        "math.factorial(15)"
      ],
      "metadata": {
        "colab": {
          "base_uri": "https://localhost:8080/"
        },
        "id": "CvJu14DkwdGE",
        "outputId": "1ae81fab-06ab-4f4d-cafc-411f925ac877"
      },
      "execution_count": null,
      "outputs": [
        {
          "output_type": "execute_result",
          "data": {
            "text/plain": [
              "1307674368000"
            ]
          },
          "metadata": {},
          "execution_count": 58
        }
      ]
    },
    {
      "cell_type": "code",
      "source": [
        "def factorial(n):\n",
        "\n",
        "  if n<0:\n",
        "    print(0)\n",
        "\n",
        "  elif n==1 or n==0:\n",
        "    print(1)  \n",
        "\n",
        "  else:\n",
        "    fact=1\n",
        "    while n>1:\n",
        "      fact=fact*n\n",
        "      n=n-1\n",
        "    print(fact)  "
      ],
      "metadata": {
        "id": "DYIcyWHKwhVW"
      },
      "execution_count": null,
      "outputs": []
    },
    {
      "cell_type": "code",
      "source": [
        "factorial(15) "
      ],
      "metadata": {
        "colab": {
          "base_uri": "https://localhost:8080/"
        },
        "id": "ExmaBQ3Czlzc",
        "outputId": "3a6354f1-9c3f-486c-d594-ab143042dcd8"
      },
      "execution_count": null,
      "outputs": [
        {
          "output_type": "stream",
          "name": "stdout",
          "text": [
            "1307674368000\n"
          ]
        }
      ]
    },
    {
      "cell_type": "code",
      "source": [
        " "
      ],
      "metadata": {
        "id": "FkJOg8VX06tu"
      },
      "execution_count": null,
      "outputs": []
    },
    {
      "cell_type": "code",
      "source": [],
      "metadata": {
        "id": "i-ftS4xqGlfR"
      },
      "execution_count": null,
      "outputs": []
    }
  ],
  "metadata": {
    "colab": {
      "provenance": [],
      "collapsed_sections": [
        "tJv_t4Udwuta",
        "kukDH0S4VdWk",
        "quUGJ3qhYhgf",
        "ElQi6DWBlbJ7",
        "bBfoAob2nvL6",
        "cCEZgnsZyJuG",
        "Fp1XZnBEA7bD",
        "eUbJYIC3CchK",
        "FbK_7ScUIAh5",
        "xJpjiSMOI7GK",
        "vyA7i1zAo_S5",
        "-yGJKP9z8Fa1",
        "sRN9XovH8ddW",
        "rxc_MzxW9Y2e"
      ]
    },
    "kernelspec": {
      "display_name": "Python 3",
      "name": "python3"
    },
    "language_info": {
      "name": "python"
    }
  },
  "nbformat": 4,
  "nbformat_minor": 0
}