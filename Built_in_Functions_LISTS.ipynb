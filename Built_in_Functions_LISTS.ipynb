{
  "nbformat": 4,
  "nbformat_minor": 0,
  "metadata": {
    "colab": {
      "provenance": []
    },
    "kernelspec": {
      "name": "python3",
      "display_name": "Python 3"
    },
    "language_info": {
      "name": "python"
    }
  },
  "cells": [
    {
      "cell_type": "markdown",
      "source": [
        "Built in Functions-LISTS"
      ],
      "metadata": {
        "id": "BnwCn5bGxy7s"
      }
    },
    {
      "cell_type": "code",
      "source": [
        "l1=['AI','NLP','Computer Vision','Datascience']"
      ],
      "metadata": {
        "id": "KGOhN2-Px0Aq"
      },
      "execution_count": 68,
      "outputs": []
    },
    {
      "cell_type": "code",
      "source": [
        "l1.append('Deeplearning') #will add the element at the end of the list"
      ],
      "metadata": {
        "id": "8C9UUVDGx2HU"
      },
      "execution_count": 69,
      "outputs": []
    },
    {
      "cell_type": "code",
      "source": [
        "print(l1)"
      ],
      "metadata": {
        "colab": {
          "base_uri": "https://localhost:8080/"
        },
        "id": "Uec4KggHx37K",
        "outputId": "a4028eb2-22ab-4fe2-ddda-2317014a8178"
      },
      "execution_count": 70,
      "outputs": [
        {
          "output_type": "stream",
          "name": "stdout",
          "text": [
            "['AI', 'NLP', 'Computer Vision', 'Datascience', 'Deeplearning']\n"
          ]
        }
      ]
    },
    {
      "cell_type": "code",
      "source": [
        "l1.insert(3,'NLP') #will add the element at the desired index position"
      ],
      "metadata": {
        "id": "bIOlaVJPx6Lj"
      },
      "execution_count": 71,
      "outputs": []
    },
    {
      "cell_type": "code",
      "source": [
        "print(l1)"
      ],
      "metadata": {
        "colab": {
          "base_uri": "https://localhost:8080/"
        },
        "id": "ckWKXTRUx9k-",
        "outputId": "ada420fa-7d71-4349-afae-41f4a0ff91ec"
      },
      "execution_count": 72,
      "outputs": [
        {
          "output_type": "stream",
          "name": "stdout",
          "text": [
            "['AI', 'NLP', 'Computer Vision', 'NLP', 'Datascience', 'Deeplearning']\n"
          ]
        }
      ]
    },
    {
      "cell_type": "code",
      "source": [
        "l2=[34,35,89,90]"
      ],
      "metadata": {
        "id": "TZfHv5mfx_3U"
      },
      "execution_count": 73,
      "outputs": []
    },
    {
      "cell_type": "code",
      "source": [
        "l2.append(900)"
      ],
      "metadata": {
        "id": "_ONl_YUpyBav"
      },
      "execution_count": 74,
      "outputs": []
    },
    {
      "cell_type": "code",
      "source": [
        "print(l2)"
      ],
      "metadata": {
        "colab": {
          "base_uri": "https://localhost:8080/"
        },
        "id": "DVNsntZ3yDXY",
        "outputId": "100ccdd2-6aa2-4a60-a395-125dff2e1b4e"
      },
      "execution_count": 75,
      "outputs": [
        {
          "output_type": "stream",
          "name": "stdout",
          "text": [
            "[34, 35, 89, 90, 900]\n"
          ]
        }
      ]
    },
    {
      "cell_type": "code",
      "source": [
        "l2.insert(2,200)"
      ],
      "metadata": {
        "id": "SxDplO2CyFdy"
      },
      "execution_count": 76,
      "outputs": []
    },
    {
      "cell_type": "code",
      "source": [
        "print(l2)"
      ],
      "metadata": {
        "colab": {
          "base_uri": "https://localhost:8080/"
        },
        "id": "T_O8338NyHaY",
        "outputId": "d2e3f7ec-f978-4fa6-fc8e-4b57a12d9e8c"
      },
      "execution_count": 77,
      "outputs": [
        {
          "output_type": "stream",
          "name": "stdout",
          "text": [
            "[34, 35, 200, 89, 90, 900]\n"
          ]
        }
      ]
    },
    {
      "cell_type": "code",
      "source": [
        "print(l1)"
      ],
      "metadata": {
        "colab": {
          "base_uri": "https://localhost:8080/"
        },
        "id": "NLimsK-tyJkj",
        "outputId": "e79f4495-365d-4989-cfb6-4cd6dd08ce7d"
      },
      "execution_count": 78,
      "outputs": [
        {
          "output_type": "stream",
          "name": "stdout",
          "text": [
            "['AI', 'NLP', 'Computer Vision', 'NLP', 'Datascience', 'Deeplearning']\n"
          ]
        }
      ]
    },
    {
      "cell_type": "code",
      "source": [
        "l1.remove('NLP') #will delete the firstoccurance of the given element"
      ],
      "metadata": {
        "id": "w_xVM-ACyMHi"
      },
      "execution_count": 79,
      "outputs": []
    },
    {
      "cell_type": "code",
      "source": [
        "print(l1)"
      ],
      "metadata": {
        "colab": {
          "base_uri": "https://localhost:8080/"
        },
        "id": "r_rSFzzkyOmj",
        "outputId": "df211adb-c977-43e5-f6eb-ee6d90ec0441"
      },
      "execution_count": 80,
      "outputs": [
        {
          "output_type": "stream",
          "name": "stdout",
          "text": [
            "['AI', 'Computer Vision', 'NLP', 'Datascience', 'Deeplearning']\n"
          ]
        }
      ]
    },
    {
      "cell_type": "code",
      "source": [
        "l1.pop(3) #will delete the element from the desired index position"
      ],
      "metadata": {
        "colab": {
          "base_uri": "https://localhost:8080/",
          "height": 36
        },
        "id": "ojN1vI3PyTCR",
        "outputId": "e59834bb-d32a-43fc-c2e8-8599d32b92d2"
      },
      "execution_count": 81,
      "outputs": [
        {
          "output_type": "execute_result",
          "data": {
            "text/plain": [
              "'Datascience'"
            ],
            "application/vnd.google.colaboratory.intrinsic+json": {
              "type": "string"
            }
          },
          "metadata": {},
          "execution_count": 81
        }
      ]
    },
    {
      "cell_type": "code",
      "source": [
        "print(l1)"
      ],
      "metadata": {
        "colab": {
          "base_uri": "https://localhost:8080/"
        },
        "id": "A1AQAko6yVZb",
        "outputId": "7ba93766-8f83-4768-f3b3-ef4a7d5e4f41"
      },
      "execution_count": 82,
      "outputs": [
        {
          "output_type": "stream",
          "name": "stdout",
          "text": [
            "['AI', 'Computer Vision', 'NLP', 'Deeplearning']\n"
          ]
        }
      ]
    },
    {
      "cell_type": "code",
      "source": [
        "l1.extend(['statistic','algebra','r programming'])"
      ],
      "metadata": {
        "id": "WEHCCpn7yXeS"
      },
      "execution_count": 83,
      "outputs": []
    },
    {
      "cell_type": "code",
      "source": [
        "print(l1)"
      ],
      "metadata": {
        "colab": {
          "base_uri": "https://localhost:8080/"
        },
        "id": "inCq9dV_yZrH",
        "outputId": "81956c03-5097-4079-9682-03d03e3c0026"
      },
      "execution_count": 84,
      "outputs": [
        {
          "output_type": "stream",
          "name": "stdout",
          "text": [
            "['AI', 'Computer Vision', 'NLP', 'Deeplearning', 'statistic', 'algebra', 'r programming']\n"
          ]
        }
      ]
    },
    {
      "cell_type": "code",
      "source": [
        "len(l1)  #will count the total number in the list"
      ],
      "metadata": {
        "colab": {
          "base_uri": "https://localhost:8080/"
        },
        "id": "4ytCyKfZybdn",
        "outputId": "f84d8486-b627-47a6-c8b8-5f86763c36fa"
      },
      "execution_count": 85,
      "outputs": [
        {
          "output_type": "execute_result",
          "data": {
            "text/plain": [
              "7"
            ]
          },
          "metadata": {},
          "execution_count": 85
        }
      ]
    },
    {
      "cell_type": "code",
      "source": [
        "len(l2)"
      ],
      "metadata": {
        "colab": {
          "base_uri": "https://localhost:8080/"
        },
        "id": "V_0HZpnaydyu",
        "outputId": "887cfa33-6e0f-4ba0-e5f8-afd5b1cdbeb1"
      },
      "execution_count": 86,
      "outputs": [
        {
          "output_type": "execute_result",
          "data": {
            "text/plain": [
              "6"
            ]
          },
          "metadata": {},
          "execution_count": 86
        }
      ]
    },
    {
      "cell_type": "code",
      "source": [
        "l3=[67,78,34,67,22,90,56,78,67,12]"
      ],
      "metadata": {
        "id": "2m9dfGL_yf_P"
      },
      "execution_count": 87,
      "outputs": []
    },
    {
      "cell_type": "code",
      "source": [
        "len(l3)"
      ],
      "metadata": {
        "colab": {
          "base_uri": "https://localhost:8080/"
        },
        "id": "06Kp5XNTyi8Z",
        "outputId": "6e4aae65-b60c-4f22-bdd7-3e2b7002ec6e"
      },
      "execution_count": 88,
      "outputs": [
        {
          "output_type": "execute_result",
          "data": {
            "text/plain": [
              "10"
            ]
          },
          "metadata": {},
          "execution_count": 88
        }
      ]
    },
    {
      "cell_type": "code",
      "source": [
        "l3.count(67)  #will count the frequency of the given element"
      ],
      "metadata": {
        "colab": {
          "base_uri": "https://localhost:8080/"
        },
        "id": "7_Gh09s2ylBG",
        "outputId": "d7fa1440-acf2-4fc5-d0a7-c19472b91b77"
      },
      "execution_count": 89,
      "outputs": [
        {
          "output_type": "execute_result",
          "data": {
            "text/plain": [
              "3"
            ]
          },
          "metadata": {},
          "execution_count": 89
        }
      ]
    },
    {
      "cell_type": "code",
      "source": [
        "l3.count(90)"
      ],
      "metadata": {
        "colab": {
          "base_uri": "https://localhost:8080/"
        },
        "id": "kCTEHXy9ynzK",
        "outputId": "38b8b1ec-6087-402b-cc85-d69995559c9f"
      },
      "execution_count": 90,
      "outputs": [
        {
          "output_type": "execute_result",
          "data": {
            "text/plain": [
              "1"
            ]
          },
          "metadata": {},
          "execution_count": 90
        }
      ]
    },
    {
      "cell_type": "code",
      "source": [
        "max(l3)"
      ],
      "metadata": {
        "colab": {
          "base_uri": "https://localhost:8080/"
        },
        "id": "2aH7Q6FVytbT",
        "outputId": "b5b82329-598b-4dfe-a4c2-16b0c6986d8a"
      },
      "execution_count": 91,
      "outputs": [
        {
          "output_type": "execute_result",
          "data": {
            "text/plain": [
              "90"
            ]
          },
          "metadata": {},
          "execution_count": 91
        }
      ]
    },
    {
      "cell_type": "code",
      "source": [
        "min(l3)"
      ],
      "metadata": {
        "colab": {
          "base_uri": "https://localhost:8080/"
        },
        "id": "rQSYtmqiy05y",
        "outputId": "23c6dbe7-49a8-41c9-fa6f-f436c8e5e2ea"
      },
      "execution_count": 92,
      "outputs": [
        {
          "output_type": "execute_result",
          "data": {
            "text/plain": [
              "12"
            ]
          },
          "metadata": {},
          "execution_count": 92
        }
      ]
    },
    {
      "cell_type": "code",
      "source": [
        "l3.sort() #arrange in ascending order"
      ],
      "metadata": {
        "id": "zMOKL-KLy1YT"
      },
      "execution_count": 93,
      "outputs": []
    },
    {
      "cell_type": "code",
      "source": [
        "print(l3)"
      ],
      "metadata": {
        "colab": {
          "base_uri": "https://localhost:8080/"
        },
        "id": "H8j0MfEry4W_",
        "outputId": "94263ffb-1360-43e7-cb66-59e1c07578f6"
      },
      "execution_count": 94,
      "outputs": [
        {
          "output_type": "stream",
          "name": "stdout",
          "text": [
            "[12, 22, 34, 56, 67, 67, 67, 78, 78, 90]\n"
          ]
        }
      ]
    },
    {
      "cell_type": "code",
      "source": [
        "l1=['india','china','russia','USA']"
      ],
      "metadata": {
        "id": "DO8wuRq4y6My"
      },
      "execution_count": 95,
      "outputs": []
    },
    {
      "cell_type": "code",
      "source": [
        "l1[::-1]"
      ],
      "metadata": {
        "colab": {
          "base_uri": "https://localhost:8080/"
        },
        "id": "_y_JSfS-y8Ma",
        "outputId": "af6210de-0ca5-49e7-b346-90e9a48bea86"
      },
      "execution_count": 96,
      "outputs": [
        {
          "output_type": "execute_result",
          "data": {
            "text/plain": [
              "['USA', 'russia', 'china', 'india']"
            ]
          },
          "metadata": {},
          "execution_count": 96
        }
      ]
    },
    {
      "cell_type": "code",
      "source": [
        "l1[::-2]"
      ],
      "metadata": {
        "colab": {
          "base_uri": "https://localhost:8080/"
        },
        "id": "0rHc49d7y91V",
        "outputId": "79833a5e-8444-488d-d7c5-6763b520a0c5"
      },
      "execution_count": 97,
      "outputs": [
        {
          "output_type": "execute_result",
          "data": {
            "text/plain": [
              "['USA', 'china']"
            ]
          },
          "metadata": {},
          "execution_count": 97
        }
      ]
    },
    {
      "cell_type": "code",
      "source": [
        "a='indian ocean'"
      ],
      "metadata": {
        "id": "65HcHBQsy_t3"
      },
      "execution_count": 98,
      "outputs": []
    },
    {
      "cell_type": "code",
      "source": [
        "a[::-1]"
      ],
      "metadata": {
        "colab": {
          "base_uri": "https://localhost:8080/",
          "height": 36
        },
        "id": "TOF-JkW2zBv2",
        "outputId": "8f0e313f-ce28-4814-a07b-7d45528801de"
      },
      "execution_count": 99,
      "outputs": [
        {
          "output_type": "execute_result",
          "data": {
            "text/plain": [
              "'naeco naidni'"
            ],
            "application/vnd.google.colaboratory.intrinsic+json": {
              "type": "string"
            }
          },
          "metadata": {},
          "execution_count": 99
        }
      ]
    },
    {
      "cell_type": "code",
      "source": [],
      "metadata": {
        "id": "UNs1snCIzDdv"
      },
      "execution_count": null,
      "outputs": []
    }
  ]
}