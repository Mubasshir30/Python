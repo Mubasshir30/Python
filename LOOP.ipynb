{
  "nbformat": 4,
  "nbformat_minor": 0,
  "metadata": {
    "colab": {
      "provenance": []
    },
    "kernelspec": {
      "name": "python3",
      "display_name": "Python 3"
    },
    "language_info": {
      "name": "python"
    }
  },
  "cells": [
    {
      "cell_type": "markdown",
      "source": [
        "LOOP"
      ],
      "metadata": {
        "id": "KzYfmadcLsLm"
      }
    },
    {
      "cell_type": "markdown",
      "source": [
        "2 TYPE- WHILE AND FOR LOOP"
      ],
      "metadata": {
        "id": "gYEdIPjMq6LI"
      }
    },
    {
      "cell_type": "markdown",
      "source": [],
      "metadata": {
        "id": "5Np68kourAoK"
      }
    },
    {
      "cell_type": "markdown",
      "source": [
        "while loop"
      ],
      "metadata": {
        "id": "HyCyF4v9rAcv"
      }
    },
    {
      "cell_type": "markdown",
      "source": [
        "print 1 to 10"
      ],
      "metadata": {
        "id": "VXcpUlGCrEbY"
      }
    },
    {
      "cell_type": "code",
      "source": [
        "a=1                           #\n",
        "while a<=10:\n",
        "      print(a)\n",
        "      a=a+1"
      ],
      "metadata": {
        "colab": {
          "base_uri": "https://localhost:8080/"
        },
        "id": "7MuQk3ooq3fu",
        "outputId": "b9cfab87-1776-4a9f-8208-ebb5595414cf"
      },
      "execution_count": 1,
      "outputs": [
        {
          "output_type": "stream",
          "name": "stdout",
          "text": [
            "1\n",
            "2\n",
            "3\n",
            "4\n",
            "5\n",
            "6\n",
            "7\n",
            "8\n",
            "9\n",
            "10\n"
          ]
        }
      ]
    },
    {
      "cell_type": "markdown",
      "source": [
        "for loop"
      ],
      "metadata": {
        "id": "6O9Z5tGHrI9F"
      }
    },
    {
      "cell_type": "code",
      "source": [
        "#print no. 1 to 10"
      ],
      "metadata": {
        "id": "yxJCi4c2rGmY"
      },
      "execution_count": 2,
      "outputs": []
    },
    {
      "cell_type": "code",
      "source": [
        "for i in range(1,11):   #i statnd for iteration, its a term of only for loop not while loop\n",
        "    print(i)"
      ],
      "metadata": {
        "colab": {
          "base_uri": "https://localhost:8080/"
        },
        "id": "Jxf1kuFGrL6x",
        "outputId": "880bb723-9f37-4cc1-b31b-3581e008711b"
      },
      "execution_count": 3,
      "outputs": [
        {
          "output_type": "stream",
          "name": "stdout",
          "text": [
            "1\n",
            "2\n",
            "3\n",
            "4\n",
            "5\n",
            "6\n",
            "7\n",
            "8\n",
            "9\n",
            "10\n"
          ]
        }
      ]
    },
    {
      "cell_type": "markdown",
      "source": [
        "value of a"
      ],
      "metadata": {
        "id": "dT0n2NLgrQAe"
      }
    },
    {
      "cell_type": "code",
      "source": [
        "a=7\n",
        "b=5\n",
        "while a<9:\n",
        "  print(a+b)\n",
        "  a=a+1"
      ],
      "metadata": {
        "colab": {
          "base_uri": "https://localhost:8080/"
        },
        "id": "5LD2fHN6rNx5",
        "outputId": "7d8832e0-d74e-4926-92d5-27544b5bb2d0"
      },
      "execution_count": 4,
      "outputs": [
        {
          "output_type": "stream",
          "name": "stdout",
          "text": [
            "12\n",
            "13\n"
          ]
        }
      ]
    },
    {
      "cell_type": "markdown",
      "source": [
        "how may time the loop is going to get executed"
      ],
      "metadata": {
        "id": "FMGN-4JVrXAe"
      }
    },
    {
      "cell_type": "code",
      "source": [
        "c=0\n",
        "while c<20:\n",
        "  print(c)\n",
        "  c=c+2"
      ],
      "metadata": {
        "colab": {
          "base_uri": "https://localhost:8080/"
        },
        "id": "T4CdgA7jrSIQ",
        "outputId": "a137cf19-0076-4210-d1b9-d16f91169254"
      },
      "execution_count": 6,
      "outputs": [
        {
          "output_type": "stream",
          "name": "stdout",
          "text": [
            "0\n",
            "2\n",
            "4\n",
            "6\n",
            "8\n",
            "10\n",
            "12\n",
            "14\n",
            "16\n",
            "18\n"
          ]
        }
      ]
    },
    {
      "cell_type": "markdown",
      "source": [
        "print first 10 number"
      ],
      "metadata": {
        "id": "V5wYIXChrbpI"
      }
    },
    {
      "cell_type": "code",
      "source": [
        "for i in range(1,11):\n",
        "  print(i)"
      ],
      "metadata": {
        "colab": {
          "base_uri": "https://localhost:8080/"
        },
        "id": "gRl5AhMfrVaE",
        "outputId": "f564c9d6-b57b-48c0-d51d-f7eafcde29ca"
      },
      "execution_count": 7,
      "outputs": [
        {
          "output_type": "stream",
          "name": "stdout",
          "text": [
            "1\n",
            "2\n",
            "3\n",
            "4\n",
            "5\n",
            "6\n",
            "7\n",
            "8\n",
            "9\n",
            "10\n"
          ]
        }
      ]
    },
    {
      "cell_type": "markdown",
      "source": [
        "take a list of your choice and display the element one by one"
      ],
      "metadata": {
        "id": "adb3uK7erf2h"
      }
    },
    {
      "cell_type": "code",
      "source": [
        "l1=[4,5,6,2,'india','israel',5,9,3]"
      ],
      "metadata": {
        "id": "o262itXmrd-K"
      },
      "execution_count": 8,
      "outputs": []
    },
    {
      "cell_type": "code",
      "source": [
        "for i in l1:\n",
        "  print(i)"
      ],
      "metadata": {
        "colab": {
          "base_uri": "https://localhost:8080/"
        },
        "id": "yP2iRaJ4riQA",
        "outputId": "53dc2c60-21e4-449d-deec-6125b3eeb590"
      },
      "execution_count": 9,
      "outputs": [
        {
          "output_type": "stream",
          "name": "stdout",
          "text": [
            "4\n",
            "5\n",
            "6\n",
            "2\n",
            "india\n",
            "israel\n",
            "5\n",
            "9\n",
            "3\n"
          ]
        }
      ]
    },
    {
      "cell_type": "markdown",
      "source": [
        "Take a list of numbers and square all the elements given in the list\n",
        "\n"
      ],
      "metadata": {
        "id": "c2SWgpNTrmbd"
      }
    },
    {
      "cell_type": "code",
      "source": [
        "l1=[2,3,4,5,8,7,9]\n",
        "\n",
        "for i in l1:\n",
        "  print(i*i)"
      ],
      "metadata": {
        "colab": {
          "base_uri": "https://localhost:8080/"
        },
        "id": "lwnmc_K8rkSJ",
        "outputId": "c56b31cf-8a89-4108-df14-f5d012d50631"
      },
      "execution_count": 10,
      "outputs": [
        {
          "output_type": "stream",
          "name": "stdout",
          "text": [
            "4\n",
            "9\n",
            "16\n",
            "25\n",
            "64\n",
            "49\n",
            "81\n"
          ]
        }
      ]
    },
    {
      "cell_type": "markdown",
      "source": [
        "Take a list of numbers and display all the even number from the list"
      ],
      "metadata": {
        "id": "4OOIGqIHrrF-"
      }
    },
    {
      "cell_type": "code",
      "source": [
        "l1=[42,59,81,23,78,34,99,45,67,23,34,66]"
      ],
      "metadata": {
        "id": "LG2dJ6bNro-6"
      },
      "execution_count": 11,
      "outputs": []
    },
    {
      "cell_type": "code",
      "source": [
        "for i in l1:\n",
        "  if i%2==0:\n",
        "    print(i)"
      ],
      "metadata": {
        "colab": {
          "base_uri": "https://localhost:8080/"
        },
        "id": "R2CM2TYCrtZt",
        "outputId": "6cc273e7-bfcc-4813-ed8a-6ce03dd5fb6c"
      },
      "execution_count": 12,
      "outputs": [
        {
          "output_type": "stream",
          "name": "stdout",
          "text": [
            "42\n",
            "78\n",
            "34\n",
            "34\n",
            "66\n"
          ]
        }
      ]
    },
    {
      "cell_type": "markdown",
      "source": [
        "Take a list of numbers and display the count of even number"
      ],
      "metadata": {
        "id": "dXy_b1atrxZR"
      }
    },
    {
      "cell_type": "code",
      "source": [
        "l2=[42,59,81,23,78,34,99,45,67,23,34,66]"
      ],
      "metadata": {
        "id": "E53LbiZervca"
      },
      "execution_count": 13,
      "outputs": []
    },
    {
      "cell_type": "code",
      "source": [
        "count=0 #counter\n",
        "\n",
        "for i in l2:\n",
        "  if i%2==0:\n",
        "    count=count+1 #if there is an even number , the counter will increment itself by 1\n",
        "print('the total number of even number in the list are', count) "
      ],
      "metadata": {
        "colab": {
          "base_uri": "https://localhost:8080/"
        },
        "id": "pUVmL2Bdrzhn",
        "outputId": "fcaa0ab7-cb20-479f-d812-78d977dc29f1"
      },
      "execution_count": 14,
      "outputs": [
        {
          "output_type": "stream",
          "name": "stdout",
          "text": [
            "the total number of even number in the list are 5\n"
          ]
        }
      ]
    },
    {
      "cell_type": "markdown",
      "source": [
        "Take a list of number and display the count of both even and odd number"
      ],
      "metadata": {
        "id": "79ikDJB_r5S0"
      }
    },
    {
      "cell_type": "code",
      "source": [
        "l2=[42,59,81,23,78,34,99,45,67,23,34,66]\n",
        "\n",
        "count=0\n",
        "count1=0\n",
        "\n",
        "for i in l2:\n",
        "  if i%2==0:\n",
        "    count=count+1\n",
        "  else:\n",
        "    count1=count1+1\n",
        "print('the total number of even number in the list are', count)\n",
        "print(' the total number of odd number in the list are', count1)      \n"
      ],
      "metadata": {
        "colab": {
          "base_uri": "https://localhost:8080/"
        },
        "id": "1tTU8EyKr12k",
        "outputId": "301f221c-734e-4ef9-cb55-e0d0bf671b63"
      },
      "execution_count": 15,
      "outputs": [
        {
          "output_type": "stream",
          "name": "stdout",
          "text": [
            "the total number of even number in the list are 5\n",
            " the total number of odd number in the list are 7\n"
          ]
        }
      ]
    },
    {
      "cell_type": "markdown",
      "source": [
        "Take a number as input from the user and display the multiplication table(till 10)for that number"
      ],
      "metadata": {
        "id": "ULIqIqWzr-nw"
      }
    },
    {
      "cell_type": "code",
      "source": [
        "num=int(input('enter the number'))\n",
        "for i in range(1,11):\n",
        "  print(num*i)"
      ],
      "metadata": {
        "colab": {
          "base_uri": "https://localhost:8080/"
        },
        "id": "H4etEColr79Q",
        "outputId": "a6d49b03-23e7-4424-db88-43930103df32"
      },
      "execution_count": 16,
      "outputs": [
        {
          "output_type": "stream",
          "name": "stdout",
          "text": [
            "enter the number5\n",
            "5\n",
            "10\n",
            "15\n",
            "20\n",
            "25\n",
            "30\n",
            "35\n",
            "40\n",
            "45\n",
            "50\n"
          ]
        }
      ]
    },
    {
      "cell_type": "markdown",
      "source": [
        "Calculate the sum and average of all the number from 1 to a given number by the user"
      ],
      "metadata": {
        "id": "05FRjTjhsEk8"
      }
    },
    {
      "cell_type": "code",
      "source": [
        "num=int(input('enter the number'))\n",
        "sum=0\n",
        "for i in range(1,num+1):\n",
        "   sum=sum+i\n",
        "print('sum of the number is',sum)\n",
        "print('average of number is',sum/num)\n",
        "   "
      ],
      "metadata": {
        "colab": {
          "base_uri": "https://localhost:8080/"
        },
        "id": "XfqAX9YdsAqs",
        "outputId": "6826148b-ffbc-4666-d8b4-1b3b9e99d663"
      },
      "execution_count": 17,
      "outputs": [
        {
          "output_type": "stream",
          "name": "stdout",
          "text": [
            "enter the number25\n",
            "sum of the number is 325\n",
            "average of number is 13.0\n"
          ]
        }
      ]
    },
    {
      "cell_type": "code",
      "source": [],
      "metadata": {
        "id": "hJfznePHsHT3"
      },
      "execution_count": null,
      "outputs": []
    }
  ]
}