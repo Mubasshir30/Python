{
  "nbformat": 4,
  "nbformat_minor": 0,
  "metadata": {
    "colab": {
      "provenance": []
    },
    "kernelspec": {
      "name": "python3",
      "display_name": "Python 3"
    },
    "language_info": {
      "name": "python"
    }
  },
  "cells": [
    {
      "cell_type": "markdown",
      "source": [
        "DICTIONARIES- identify by { }\n",
        "\n",
        "-> key : value pair"
      ],
      "metadata": {
        "id": "9mh_6aRgumkL"
      }
    },
    {
      "cell_type": "code",
      "source": [
        "memo={'notebook':90,'chocolate':80,'pens':40,'chips':20}"
      ],
      "metadata": {
        "id": "obo2YTZZv7Eb"
      },
      "execution_count": 40,
      "outputs": []
    },
    {
      "cell_type": "code",
      "source": [
        "print(memo)"
      ],
      "metadata": {
        "colab": {
          "base_uri": "https://localhost:8080/"
        },
        "id": "HJzoYzNmv9Xm",
        "outputId": "3599fb6c-a8b1-47da-f1aa-93292e9fabb0"
      },
      "execution_count": 41,
      "outputs": [
        {
          "output_type": "stream",
          "name": "stdout",
          "text": [
            "{'notebook': 90, 'chocolate': 80, 'pens': 40, 'chips': 20}\n"
          ]
        }
      ]
    },
    {
      "cell_type": "code",
      "source": [
        "type(memo)"
      ],
      "metadata": {
        "colab": {
          "base_uri": "https://localhost:8080/"
        },
        "id": "HAYTSl1bv_QB",
        "outputId": "8a5b1c27-0999-47ed-976b-38873324380c"
      },
      "execution_count": 42,
      "outputs": [
        {
          "output_type": "execute_result",
          "data": {
            "text/plain": [
              "dict"
            ]
          },
          "metadata": {},
          "execution_count": 42
        }
      ]
    },
    {
      "cell_type": "code",
      "source": [
        "#Slicing is not supporting in dictionaries\n",
        "#fecting one value at a time is possible by making use of keys(and not index number)"
      ],
      "metadata": {
        "id": "Qp2MdwyMwBSt"
      },
      "execution_count": 43,
      "outputs": []
    },
    {
      "cell_type": "code",
      "source": [
        "memo['chips']"
      ],
      "metadata": {
        "colab": {
          "base_uri": "https://localhost:8080/"
        },
        "id": "PPOyGshpwDMD",
        "outputId": "6ee5dfa0-c00e-4401-c823-d1aa4caf9a01"
      },
      "execution_count": 44,
      "outputs": [
        {
          "output_type": "execute_result",
          "data": {
            "text/plain": [
              "20"
            ]
          },
          "metadata": {},
          "execution_count": 44
        }
      ]
    },
    {
      "cell_type": "code",
      "source": [
        "memo['chocolate']"
      ],
      "metadata": {
        "colab": {
          "base_uri": "https://localhost:8080/"
        },
        "id": "-bzpSWG5wEy_",
        "outputId": "6aca8c23-57c6-49aa-9314-b8673cc368a9"
      },
      "execution_count": 45,
      "outputs": [
        {
          "output_type": "execute_result",
          "data": {
            "text/plain": [
              "80"
            ]
          },
          "metadata": {},
          "execution_count": 45
        }
      ]
    },
    {
      "cell_type": "code",
      "source": [
        "#adding new key value pair in the dict\n",
        "memo['cold drink']=100"
      ],
      "metadata": {
        "id": "mAT5b_R7wG2E"
      },
      "execution_count": 46,
      "outputs": []
    },
    {
      "cell_type": "code",
      "source": [
        "print(memo)"
      ],
      "metadata": {
        "colab": {
          "base_uri": "https://localhost:8080/"
        },
        "id": "1JYOUCNOwJKx",
        "outputId": "aa69c093-97ed-467c-e5ce-de2c6feb03aa"
      },
      "execution_count": 47,
      "outputs": [
        {
          "output_type": "stream",
          "name": "stdout",
          "text": [
            "{'notebook': 90, 'chocolate': 80, 'pens': 40, 'chips': 20, 'cold drink': 100}\n"
          ]
        }
      ]
    },
    {
      "cell_type": "code",
      "source": [
        "memo['pens']=120"
      ],
      "metadata": {
        "id": "sLksHTrqwLCn"
      },
      "execution_count": 48,
      "outputs": []
    },
    {
      "cell_type": "code",
      "source": [
        "print(memo)"
      ],
      "metadata": {
        "colab": {
          "base_uri": "https://localhost:8080/"
        },
        "id": "2rgE4lvDwNRu",
        "outputId": "70cb264f-d9e7-4dec-85a6-6e99a572301f"
      },
      "execution_count": 49,
      "outputs": [
        {
          "output_type": "stream",
          "name": "stdout",
          "text": [
            "{'notebook': 90, 'chocolate': 80, 'pens': 120, 'chips': 20, 'cold drink': 100}\n"
          ]
        }
      ]
    },
    {
      "cell_type": "code",
      "source": [
        "memo['maggi']=50"
      ],
      "metadata": {
        "id": "Rf5azic0wPt8"
      },
      "execution_count": 50,
      "outputs": []
    },
    {
      "cell_type": "code",
      "source": [
        "print(memo)"
      ],
      "metadata": {
        "colab": {
          "base_uri": "https://localhost:8080/"
        },
        "id": "3p37vAjnwRnU",
        "outputId": "fcbcaee0-767b-4160-b571-e8014ef69fbd"
      },
      "execution_count": 51,
      "outputs": [
        {
          "output_type": "stream",
          "name": "stdout",
          "text": [
            "{'notebook': 90, 'chocolate': 80, 'pens': 120, 'chips': 20, 'cold drink': 100, 'maggi': 50}\n"
          ]
        }
      ]
    },
    {
      "cell_type": "code",
      "source": [
        "memo['cold drink']=90"
      ],
      "metadata": {
        "id": "DeLDoKatwUPS"
      },
      "execution_count": 52,
      "outputs": []
    },
    {
      "cell_type": "code",
      "source": [
        "print(memo)"
      ],
      "metadata": {
        "colab": {
          "base_uri": "https://localhost:8080/"
        },
        "id": "gOKAsRUIwWxj",
        "outputId": "a480ebb0-4ff1-480e-e481-77cec1d075e8"
      },
      "execution_count": 53,
      "outputs": [
        {
          "output_type": "stream",
          "name": "stdout",
          "text": [
            "{'notebook': 90, 'chocolate': 80, 'pens': 120, 'chips': 20, 'cold drink': 90, 'maggi': 50}\n"
          ]
        }
      ]
    },
    {
      "cell_type": "code",
      "source": [
        "memo['notebook']=120"
      ],
      "metadata": {
        "id": "YRPb10FBwZF2"
      },
      "execution_count": 54,
      "outputs": []
    },
    {
      "cell_type": "code",
      "source": [
        "print(memo)"
      ],
      "metadata": {
        "colab": {
          "base_uri": "https://localhost:8080/"
        },
        "id": "LTtQ8OdWwbO9",
        "outputId": "fe4aac63-143a-4269-fa1e-c43ccec38cfb"
      },
      "execution_count": 55,
      "outputs": [
        {
          "output_type": "stream",
          "name": "stdout",
          "text": [
            "{'notebook': 120, 'chocolate': 80, 'pens': 120, 'chips': 20, 'cold drink': 90, 'maggi': 50}\n"
          ]
        }
      ]
    },
    {
      "cell_type": "code",
      "source": [
        "#deleting existing pairs from dictionaries\n",
        "del memo['chips'] #keys are used"
      ],
      "metadata": {
        "id": "LsJcTIzqwdHR"
      },
      "execution_count": 56,
      "outputs": []
    },
    {
      "cell_type": "code",
      "source": [
        "print(memo)"
      ],
      "metadata": {
        "colab": {
          "base_uri": "https://localhost:8080/"
        },
        "id": "kbbmnd3Pwfkw",
        "outputId": "82c7f6bf-e3b7-48c1-d89d-a782c6660a2f"
      },
      "execution_count": 57,
      "outputs": [
        {
          "output_type": "stream",
          "name": "stdout",
          "text": [
            "{'notebook': 120, 'chocolate': 80, 'pens': 120, 'cold drink': 90, 'maggi': 50}\n"
          ]
        }
      ]
    },
    {
      "cell_type": "code",
      "source": [
        "memo.pop('pens')"
      ],
      "metadata": {
        "colab": {
          "base_uri": "https://localhost:8080/"
        },
        "id": "uwH0SyIbwhVp",
        "outputId": "307e8f2d-8ecc-4d67-e9ef-ffdb490c0ab5"
      },
      "execution_count": 58,
      "outputs": [
        {
          "output_type": "execute_result",
          "data": {
            "text/plain": [
              "120"
            ]
          },
          "metadata": {},
          "execution_count": 58
        }
      ]
    },
    {
      "cell_type": "code",
      "source": [
        "print(memo)"
      ],
      "metadata": {
        "colab": {
          "base_uri": "https://localhost:8080/"
        },
        "id": "Xmm_KM8gwjlM",
        "outputId": "a4a0ee26-00c2-4115-8546-6514d8aa22dd"
      },
      "execution_count": 59,
      "outputs": [
        {
          "output_type": "stream",
          "name": "stdout",
          "text": [
            "{'notebook': 120, 'chocolate': 80, 'cold drink': 90, 'maggi': 50}\n"
          ]
        }
      ]
    },
    {
      "cell_type": "code",
      "source": [
        "#merging two list into one dictionary"
      ],
      "metadata": {
        "id": "dCp5oK6mwlYm"
      },
      "execution_count": 60,
      "outputs": []
    },
    {
      "cell_type": "code",
      "source": [
        "l1=['name','age','salary','occupation'] #keys\n",
        "l2=['BOB','29','40000','developer'] #values"
      ],
      "metadata": {
        "id": "uFw9pwiTwnvB"
      },
      "execution_count": 61,
      "outputs": []
    },
    {
      "cell_type": "code",
      "source": [
        "dict_new=dict(zip(l1,l2))"
      ],
      "metadata": {
        "id": "N3stFoCswpl-"
      },
      "execution_count": 62,
      "outputs": []
    },
    {
      "cell_type": "code",
      "source": [
        "print(dict_new)"
      ],
      "metadata": {
        "colab": {
          "base_uri": "https://localhost:8080/"
        },
        "id": "7IgcwgXUwrv6",
        "outputId": "f660481f-e985-4ac9-ea6f-e61a2fd267b0"
      },
      "execution_count": 63,
      "outputs": [
        {
          "output_type": "stream",
          "name": "stdout",
          "text": [
            "{'name': 'BOB', 'age': '29', 'salary': '40000', 'occupation': 'developer'}\n"
          ]
        }
      ]
    },
    {
      "cell_type": "code",
      "source": [
        "dict_new['salary']=50000"
      ],
      "metadata": {
        "id": "XequZu0Ywv_c"
      },
      "execution_count": 64,
      "outputs": []
    },
    {
      "cell_type": "code",
      "source": [
        "print(dict_new)"
      ],
      "metadata": {
        "colab": {
          "base_uri": "https://localhost:8080/"
        },
        "id": "TSxolEfwwyNX",
        "outputId": "77d22dfe-8659-416e-93a7-263aebbd90f8"
      },
      "execution_count": 65,
      "outputs": [
        {
          "output_type": "stream",
          "name": "stdout",
          "text": [
            "{'name': 'BOB', 'age': '29', 'salary': 50000, 'occupation': 'developer'}\n"
          ]
        }
      ]
    },
    {
      "cell_type": "code",
      "source": [
        "del dict_new['age']"
      ],
      "metadata": {
        "id": "2XL0zNSow0SY"
      },
      "execution_count": 66,
      "outputs": []
    },
    {
      "cell_type": "code",
      "source": [
        "print(dict_new)"
      ],
      "metadata": {
        "colab": {
          "base_uri": "https://localhost:8080/"
        },
        "id": "hkZ4TS4jw24H",
        "outputId": "0b0baf90-4952-4ec2-e0d9-794c22a224bf"
      },
      "execution_count": 67,
      "outputs": [
        {
          "output_type": "stream",
          "name": "stdout",
          "text": [
            "{'name': 'BOB', 'salary': 50000, 'occupation': 'developer'}\n"
          ]
        }
      ]
    },
    {
      "cell_type": "code",
      "source": [],
      "metadata": {
        "id": "7ZDuosN0w460"
      },
      "execution_count": null,
      "outputs": []
    }
  ]
}