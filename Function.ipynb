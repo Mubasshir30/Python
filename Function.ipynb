{
  "nbformat": 4,
  "nbformat_minor": 0,
  "metadata": {
    "colab": {
      "provenance": []
    },
    "kernelspec": {
      "name": "python3",
      "display_name": "Python 3"
    },
    "language_info": {
      "name": "python"
    }
  },
  "cells": [
    {
      "cell_type": "markdown",
      "source": [
        "FUNCTIONS\n",
        "\n",
        "1-Build in function\n",
        "\n",
        "2-user defined functions------- Defining(explain the context of sales and marketing) the function and calling (by name) function"
      ],
      "metadata": {
        "id": "XRyX3_kyG3zT"
      }
    },
    {
      "cell_type": "markdown",
      "source": [
        "create a function which add any two number"
      ],
      "metadata": {
        "id": "7vLYadnnG_YI"
      }
    },
    {
      "cell_type": "code",
      "source": [
        "def add(a,b):\n",
        "  s=a+b\n",
        "  print(s)"
      ],
      "metadata": {
        "id": "ZbvHwTIvG3Vo"
      },
      "execution_count": 1,
      "outputs": []
    },
    {
      "cell_type": "code",
      "source": [
        "add(20,30)"
      ],
      "metadata": {
        "colab": {
          "base_uri": "https://localhost:8080/"
        },
        "id": "YYaO-VtcG3SJ",
        "outputId": "c7763885-4dd9-45cd-944f-ed5c5e55110c"
      },
      "execution_count": 2,
      "outputs": [
        {
          "output_type": "stream",
          "name": "stdout",
          "text": [
            "50\n"
          ]
        }
      ]
    },
    {
      "cell_type": "code",
      "source": [
        "add(99,111)"
      ],
      "metadata": {
        "colab": {
          "base_uri": "https://localhost:8080/"
        },
        "id": "twqGGWXuHD3F",
        "outputId": "4e195f76-bd21-4724-bc30-f904053c3a8d"
      },
      "execution_count": 3,
      "outputs": [
        {
          "output_type": "stream",
          "name": "stdout",
          "text": [
            "210\n"
          ]
        }
      ]
    },
    {
      "cell_type": "code",
      "source": [
        "add(666,999)"
      ],
      "metadata": {
        "colab": {
          "base_uri": "https://localhost:8080/"
        },
        "id": "h5-c8fIfHGuG",
        "outputId": "462f0c86-a6d0-439f-e76f-79e17ee9e86b"
      },
      "execution_count": 4,
      "outputs": [
        {
          "output_type": "stream",
          "name": "stdout",
          "text": [
            "1665\n"
          ]
        }
      ]
    },
    {
      "cell_type": "markdown",
      "source": [
        "create a function which add any three given number"
      ],
      "metadata": {
        "id": "uhCFkOLyHMPA"
      }
    },
    {
      "cell_type": "code",
      "source": [
        "def add(a,b,c):\n",
        "  s=a+b+c\n",
        "  print(s)"
      ],
      "metadata": {
        "id": "0yp5L30-HJXI"
      },
      "execution_count": 5,
      "outputs": []
    },
    {
      "cell_type": "code",
      "source": [
        "add(66,44,99)"
      ],
      "metadata": {
        "colab": {
          "base_uri": "https://localhost:8080/"
        },
        "id": "mOo7Md1SHO02",
        "outputId": "4fbf5fb3-8741-4efa-9885-894e6a0fc9eb"
      },
      "execution_count": 6,
      "outputs": [
        {
          "output_type": "stream",
          "name": "stdout",
          "text": [
            "209\n"
          ]
        }
      ]
    },
    {
      "cell_type": "markdown",
      "source": [
        "create a function which display whole number output of division operation on 2 number"
      ],
      "metadata": {
        "id": "VJR4yejvHSxu"
      }
    },
    {
      "cell_type": "code",
      "source": [
        "def div(a,b):\n",
        "  s=a//b  #whole number as output\n",
        "  print(s)"
      ],
      "metadata": {
        "id": "R-VIhlCXHQch"
      },
      "execution_count": 7,
      "outputs": []
    },
    {
      "cell_type": "code",
      "source": [
        "div(99,3)"
      ],
      "metadata": {
        "colab": {
          "base_uri": "https://localhost:8080/"
        },
        "id": "NPLU2BeOHVdS",
        "outputId": "8c8ee7e3-66c9-411b-d008-5b433e2bcb87"
      },
      "execution_count": 8,
      "outputs": [
        {
          "output_type": "stream",
          "name": "stdout",
          "text": [
            "33\n"
          ]
        }
      ]
    },
    {
      "cell_type": "code",
      "source": [
        "div(7,2)"
      ],
      "metadata": {
        "colab": {
          "base_uri": "https://localhost:8080/"
        },
        "id": "qyQCLaPDHXH3",
        "outputId": "8168eabe-937b-4017-f812-2ccb4df5696b"
      },
      "execution_count": 9,
      "outputs": [
        {
          "output_type": "stream",
          "name": "stdout",
          "text": [
            "3\n"
          ]
        }
      ]
    },
    {
      "cell_type": "markdown",
      "source": [
        "create a function which display addition,substraction,multiplication and division 2 number"
      ],
      "metadata": {
        "id": "tPehk5KpHbce"
      }
    },
    {
      "cell_type": "code",
      "source": [
        "def compute(a,b):\n",
        "  p=a+b\n",
        "  q=a-b\n",
        "  r=a*b\n",
        "  s=a/b\n",
        "  print(p,q,r,s)"
      ],
      "metadata": {
        "id": "TDfDpCV9HZfI"
      },
      "execution_count": 10,
      "outputs": []
    },
    {
      "cell_type": "code",
      "source": [
        "compute(44,55)"
      ],
      "metadata": {
        "colab": {
          "base_uri": "https://localhost:8080/"
        },
        "id": "kH5Bl8NKHd68",
        "outputId": "da32198d-0260-4626-b45d-620088833ce4"
      },
      "execution_count": 11,
      "outputs": [
        {
          "output_type": "stream",
          "name": "stdout",
          "text": [
            "99 -11 2420 0.8\n"
          ]
        }
      ]
    },
    {
      "cell_type": "markdown",
      "source": [
        "Create a function which take age and name from the user and display the age of the person"
      ],
      "metadata": {
        "id": "QvzYftsBHijJ"
      }
    },
    {
      "cell_type": "code",
      "source": [
        "def person(name,age):\n",
        "  print(\"hi, your age is\",age)"
      ],
      "metadata": {
        "id": "wbrpGCyPHgFg"
      },
      "execution_count": 12,
      "outputs": []
    },
    {
      "cell_type": "code",
      "source": [
        "person(\"mubasshir\",19)"
      ],
      "metadata": {
        "colab": {
          "base_uri": "https://localhost:8080/"
        },
        "id": "GH2vO0EnHlMK",
        "outputId": "073a3204-0d9c-4b96-bdab-6479d1fa6167"
      },
      "execution_count": 13,
      "outputs": [
        {
          "output_type": "stream",
          "name": "stdout",
          "text": [
            "hi, your age is 19\n"
          ]
        }
      ]
    },
    {
      "cell_type": "markdown",
      "source": [
        "Create a function which takes name and salary as input from the user and display the name and salary of the person.\n",
        "\n",
        "in case the salary is not mentioned, take default salary is 15,000"
      ],
      "metadata": {
        "id": "65LfHykGHpro"
      }
    },
    {
      "cell_type": "code",
      "source": [
        "def data(name,salary=15000):\n",
        "  print(\"hie\",name,\"your current salary is \",salary, \"per month\")"
      ],
      "metadata": {
        "id": "Uvi61xIjHnPh"
      },
      "execution_count": 14,
      "outputs": []
    },
    {
      "cell_type": "code",
      "source": [
        "data(\"rahi\",)"
      ],
      "metadata": {
        "colab": {
          "base_uri": "https://localhost:8080/"
        },
        "id": "I1k2YHGFHsxI",
        "outputId": "b6ba5ca6-793a-4282-c354-6ea6cefc62cc"
      },
      "execution_count": 15,
      "outputs": [
        {
          "output_type": "stream",
          "name": "stdout",
          "text": [
            "hie rahi your current salary is  15000 per month\n"
          ]
        }
      ]
    },
    {
      "cell_type": "code",
      "source": [
        "data(\"mubasshir\",45000)"
      ],
      "metadata": {
        "colab": {
          "base_uri": "https://localhost:8080/"
        },
        "id": "TpqiCTJUHvbR",
        "outputId": "9399236b-2519-4851-c3d4-3211c2107bff"
      },
      "execution_count": 16,
      "outputs": [
        {
          "output_type": "stream",
          "name": "stdout",
          "text": [
            "hie mubasshir your current salary is  45000 per month\n"
          ]
        }
      ]
    },
    {
      "cell_type": "markdown",
      "source": [
        "create a function which add all the element givens in a list of numbers"
      ],
      "metadata": {
        "id": "4MBTqvniH0Ta"
      }
    },
    {
      "cell_type": "code",
      "source": [
        "def add_num(numbers):\n",
        "  sum=0\n",
        "\n",
        "  for i in numbers:\n",
        "    sum=sum+i\n",
        "\n",
        "  print(sum)"
      ],
      "metadata": {
        "id": "zmaVRSmBHxpw"
      },
      "execution_count": 17,
      "outputs": []
    },
    {
      "cell_type": "code",
      "source": [
        "add_num((25,6))"
      ],
      "metadata": {
        "colab": {
          "base_uri": "https://localhost:8080/"
        },
        "id": "9AllF5a-H4o2",
        "outputId": "19e5da10-6cc4-4b7b-9f01-8f5b404d8e60"
      },
      "execution_count": 18,
      "outputs": [
        {
          "output_type": "stream",
          "name": "stdout",
          "text": [
            "31\n"
          ]
        }
      ]
    },
    {
      "cell_type": "code",
      "source": [
        "add_num((22,55,44,66))"
      ],
      "metadata": {
        "colab": {
          "base_uri": "https://localhost:8080/"
        },
        "id": "91Bsrhc6H-OC",
        "outputId": "5359660d-b9c8-403f-e7f1-6e9c7d292e93"
      },
      "execution_count": 19,
      "outputs": [
        {
          "output_type": "stream",
          "name": "stdout",
          "text": [
            "187\n"
          ]
        }
      ]
    },
    {
      "cell_type": "code",
      "source": [
        "add_num([45,66,84,53])"
      ],
      "metadata": {
        "colab": {
          "base_uri": "https://localhost:8080/"
        },
        "id": "TxUF1uqJIAe-",
        "outputId": "900355f6-323b-4d89-9376-862c561006fa"
      },
      "execution_count": 20,
      "outputs": [
        {
          "output_type": "stream",
          "name": "stdout",
          "text": [
            "248\n"
          ]
        }
      ]
    },
    {
      "cell_type": "markdown",
      "source": [
        "create a function which display the larger number out of three goven number"
      ],
      "metadata": {
        "id": "at8fO6-mIEKq"
      }
    },
    {
      "cell_type": "code",
      "source": [
        "def number(a,b,c):\n",
        "  if a>b and a>c:\n",
        "    print(a,\"is greater than \",b,c)\n",
        "  elif b>a and b>c:\n",
        "    print(b, \"is greater than \",a,c)\n",
        "  else:\n",
        "     print(c,\"is greater than \",a,b)\n"
      ],
      "metadata": {
        "id": "Y2fyhdyaICMr"
      },
      "execution_count": 21,
      "outputs": []
    },
    {
      "cell_type": "code",
      "source": [
        "number(5,6,7)"
      ],
      "metadata": {
        "colab": {
          "base_uri": "https://localhost:8080/"
        },
        "id": "4BVOokahIHwZ",
        "outputId": "c076a0cd-8cdf-483b-f314-17178342840b"
      },
      "execution_count": 22,
      "outputs": [
        {
          "output_type": "stream",
          "name": "stdout",
          "text": [
            "7 is greater than  5 6\n"
          ]
        }
      ]
    },
    {
      "cell_type": "code",
      "source": [
        "number(9,8,7)"
      ],
      "metadata": {
        "colab": {
          "base_uri": "https://localhost:8080/"
        },
        "id": "Gb8kAuWqIKLa",
        "outputId": "403764aa-0d2f-4cc9-dee3-d48f27252ad1"
      },
      "execution_count": 24,
      "outputs": [
        {
          "output_type": "stream",
          "name": "stdout",
          "text": [
            "9 is greater than  8 7\n"
          ]
        }
      ]
    },
    {
      "cell_type": "code",
      "source": [
        "number(6,8,7)"
      ],
      "metadata": {
        "colab": {
          "base_uri": "https://localhost:8080/"
        },
        "id": "kC1RMNdYIYcf",
        "outputId": "437fadb8-9c61-4294-fe4e-35a54ca2df5d"
      },
      "execution_count": 25,
      "outputs": [
        {
          "output_type": "stream",
          "name": "stdout",
          "text": [
            "8 is greater than  6 7\n"
          ]
        }
      ]
    },
    {
      "cell_type": "markdown",
      "source": [
        "create a function which compute area and circumference of a circle"
      ],
      "metadata": {
        "id": "U9Kr7yAJIa1Y"
      }
    },
    {
      "cell_type": "code",
      "source": [
        "#circumference = 2*3.14*r\n",
        "#area=3.14*r**2\n",
        "def radius(a):\n",
        "  c=2*3.14*a\n",
        "  d=3.14*a**2\n",
        "  print(\"circumference is \",c,\"and area is \",d)"
      ],
      "metadata": {
        "id": "RLIXxyzsIY-k"
      },
      "execution_count": 26,
      "outputs": []
    },
    {
      "cell_type": "code",
      "source": [
        "radius(5)"
      ],
      "metadata": {
        "colab": {
          "base_uri": "https://localhost:8080/"
        },
        "id": "Cb8YsJUpIfCW",
        "outputId": "9ae08ebc-08e9-4e94-956f-d45acd9ba0c2"
      },
      "execution_count": 27,
      "outputs": [
        {
          "output_type": "stream",
          "name": "stdout",
          "text": [
            "circumference is  31.400000000000002 and area is  78.5\n"
          ]
        }
      ]
    },
    {
      "cell_type": "code",
      "source": [
        "radius(2)"
      ],
      "metadata": {
        "colab": {
          "base_uri": "https://localhost:8080/"
        },
        "id": "Kym7pEGlIg-Q",
        "outputId": "a58ce598-f38e-4c16-b551-db5318952663"
      },
      "execution_count": 28,
      "outputs": [
        {
          "output_type": "stream",
          "name": "stdout",
          "text": [
            "circumference is  12.56 and area is  12.56\n"
          ]
        }
      ]
    },
    {
      "cell_type": "code",
      "source": [
        "radius(7)"
      ],
      "metadata": {
        "colab": {
          "base_uri": "https://localhost:8080/"
        },
        "id": "DyiKphFfIjJW",
        "outputId": "0cbe7375-5dc6-4297-ca5d-76102c589649"
      },
      "execution_count": 29,
      "outputs": [
        {
          "output_type": "stream",
          "name": "stdout",
          "text": [
            "circumference is  43.96 and area is  153.86\n"
          ]
        }
      ]
    },
    {
      "cell_type": "markdown",
      "source": [
        "create a function which compute area and perimeter of rectangle"
      ],
      "metadata": {
        "id": "4fWpb7EHInKo"
      }
    },
    {
      "cell_type": "code",
      "source": [
        "def side(l,b):\n",
        "  c=2*l+2*b\n",
        "  d=l*b\n",
        "  print(\"perimeter of rectangle is \",c,\"and area is \",d)"
      ],
      "metadata": {
        "id": "NkyjN3sAIlFM"
      },
      "execution_count": 30,
      "outputs": []
    },
    {
      "cell_type": "code",
      "source": [
        "side(8,6)"
      ],
      "metadata": {
        "colab": {
          "base_uri": "https://localhost:8080/"
        },
        "id": "PUeblSZxIpk6",
        "outputId": "2a8a71ee-c308-4add-ad56-83a771bf8dfa"
      },
      "execution_count": 31,
      "outputs": [
        {
          "output_type": "stream",
          "name": "stdout",
          "text": [
            "perimeter of rectangle is  28 and area is  48\n"
          ]
        }
      ]
    },
    {
      "cell_type": "code",
      "source": [
        "side(44,55)"
      ],
      "metadata": {
        "colab": {
          "base_uri": "https://localhost:8080/"
        },
        "id": "BPnFrzYOIsP5",
        "outputId": "488e1c29-e786-4f75-ba5a-e0f53c33a905"
      },
      "execution_count": 32,
      "outputs": [
        {
          "output_type": "stream",
          "name": "stdout",
          "text": [
            "perimeter of rectangle is  198 and area is  2420\n"
          ]
        }
      ]
    },
    {
      "cell_type": "code",
      "source": [
        "side(64,5)"
      ],
      "metadata": {
        "colab": {
          "base_uri": "https://localhost:8080/"
        },
        "id": "8ldKNjWvIuY6",
        "outputId": "5f8416bf-01a9-4f18-b813-36bf6bcb1e15"
      },
      "execution_count": 33,
      "outputs": [
        {
          "output_type": "stream",
          "name": "stdout",
          "text": [
            "perimeter of rectangle is  138 and area is  320\n"
          ]
        }
      ]
    },
    {
      "cell_type": "markdown",
      "source": [
        "create a function which display all the even number given in the list of number in a seperate list"
      ],
      "metadata": {
        "id": "yYg6zwpMI5L_"
      }
    },
    {
      "cell_type": "code",
      "source": [
        "def even(numbers):\n",
        "  l2=[]  \n",
        "  for i in numbers:\n",
        "    if i%2==0:\n",
        "      l2.append(i)\n",
        "  print(l2)"
      ],
      "metadata": {
        "id": "uRaEe9MZIw_G"
      },
      "execution_count": 34,
      "outputs": []
    },
    {
      "cell_type": "code",
      "source": [
        "even([23,55,64,33,77,88,99,54,75,56])"
      ],
      "metadata": {
        "colab": {
          "base_uri": "https://localhost:8080/"
        },
        "id": "Z9wEUKToI76h",
        "outputId": "ae8f10e1-57b4-4e36-a1df-1ab355e1727a"
      },
      "execution_count": 35,
      "outputs": [
        {
          "output_type": "stream",
          "name": "stdout",
          "text": [
            "[64, 88, 54, 56]\n"
          ]
        }
      ]
    },
    {
      "cell_type": "markdown",
      "source": [
        "Create a function which counts the number of vowels and consonants in a given word"
      ],
      "metadata": {
        "id": "_p2fXRrYJATJ"
      }
    },
    {
      "cell_type": "code",
      "source": [
        "def count(word):\n",
        "  vowels_count=0\n",
        "  consonent_count=0\n",
        "\n",
        "  for i in range(len(word)):\n",
        "    if word[i] in (\"a\",\"A\",\"e\",\"E\",\"i\",\"I\",\"o\",\"O\",\"u\",\"U\"):\n",
        "      vowels_count=vowels_count+1\n",
        "\n",
        "    else:\n",
        "      consonent_count=consonent_count+1\n",
        "\n",
        "  print(\"number of vowels is \",vowels_count ,\"and number of consonent is \",consonent_count) "
      ],
      "metadata": {
        "id": "YwKLetoRI-Ha"
      },
      "execution_count": 36,
      "outputs": []
    },
    {
      "cell_type": "code",
      "source": [
        "count(\"Mubasshir\")"
      ],
      "metadata": {
        "colab": {
          "base_uri": "https://localhost:8080/"
        },
        "id": "4Itfpq5xJE_7",
        "outputId": "26a84de5-a0ac-4a1d-c274-597da310a372"
      },
      "execution_count": 37,
      "outputs": [
        {
          "output_type": "stream",
          "name": "stdout",
          "text": [
            "number of vowels is  3 and number of consonent is  6\n"
          ]
        }
      ]
    },
    {
      "cell_type": "code",
      "source": [
        "count(\" my india\")"
      ],
      "metadata": {
        "colab": {
          "base_uri": "https://localhost:8080/"
        },
        "id": "2MBNfGv3JHA-",
        "outputId": "e434e069-88d2-4634-c415-b22ebd23c40a"
      },
      "execution_count": 38,
      "outputs": [
        {
          "output_type": "stream",
          "name": "stdout",
          "text": [
            "number of vowels is  3 and number of consonent is  6\n"
          ]
        }
      ]
    },
    {
      "cell_type": "code",
      "source": [
        "def count(word):\n",
        "  vowels_count=0\n",
        "  consonent_count=0\n",
        "\n",
        "  for i in word:\n",
        "    if i in (\"a\",\"A\",\"e\",\"E\",\"i\",\"I\",\"o\",\"O\",\"u\",\"U\"):\n",
        "      vowels_count=vowels_count+1\n",
        "\n",
        "    else:\n",
        "      consonent_count=consonent_count+1\n",
        "\n",
        "  print(\"number of vowels is \",vowels_count ,\"and number of consonent is \",consonent_count)"
      ],
      "metadata": {
        "id": "TpVXNlskJI4Q"
      },
      "execution_count": 39,
      "outputs": []
    },
    {
      "cell_type": "code",
      "source": [
        "count(\"mubasshir\")"
      ],
      "metadata": {
        "colab": {
          "base_uri": "https://localhost:8080/"
        },
        "id": "MN5FFbWLJMCn",
        "outputId": "c33ad66d-a765-4e45-e802-bd47ec0323f8"
      },
      "execution_count": 40,
      "outputs": [
        {
          "output_type": "stream",
          "name": "stdout",
          "text": [
            "number of vowels is  3 and number of consonent is  6\n"
          ]
        }
      ]
    },
    {
      "cell_type": "markdown",
      "source": [
        "Type of argument\n",
        "\n",
        "1. Default argument\n",
        "\n",
        "2. Arbitrary argument\n",
        "\n",
        "3. Keyword arguments\n",
        "\n",
        "4. Arbitrary keyword argument"
      ],
      "metadata": {
        "id": "4mzEL3lWJQ-r"
      }
    },
    {
      "cell_type": "markdown",
      "source": [
        "Default arguments\n",
        "\n",
        "create a function which greets \"good morning\" to the customer by using his/her name.\n",
        "\n",
        "incase the name is not provided, call the customer by the name \"user\""
      ],
      "metadata": {
        "id": "GXFgXoxfJarI"
      }
    },
    {
      "cell_type": "code",
      "source": [
        "def func(name='user'):\n",
        "  print(\"good morning\", name) "
      ],
      "metadata": {
        "id": "8VSC1h4oJOlC"
      },
      "execution_count": 41,
      "outputs": []
    },
    {
      "cell_type": "code",
      "source": [
        "func()"
      ],
      "metadata": {
        "colab": {
          "base_uri": "https://localhost:8080/"
        },
        "id": "6Y-GkVaPJfI1",
        "outputId": "ca1138d9-4170-49be-b1ae-4a1639064ba6"
      },
      "execution_count": 42,
      "outputs": [
        {
          "output_type": "stream",
          "name": "stdout",
          "text": [
            "good morning user\n"
          ]
        }
      ]
    },
    {
      "cell_type": "markdown",
      "source": [
        "Arbitrary arguments\n",
        "\n",
        "1. Here the number of parameter are known to us\n",
        "\n",
        "2. In order to accept any number of parameters from the user, we use *symbol along with the name of the parameter\n",
        "\n",
        "3. Arbitrary argument are also called as *args"
      ],
      "metadata": {
        "id": "Qp-CfagAJjQO"
      }
    },
    {
      "cell_type": "code",
      "source": [
        "def func1(*child):\n",
        "   print(\"youngest child is \",child[2])"
      ],
      "metadata": {
        "id": "XCB5eVSXJg7-"
      },
      "execution_count": 44,
      "outputs": []
    },
    {
      "cell_type": "code",
      "source": [
        "func1(\"mubasshir\",\"rahman\",\"ruana\",\"sayam\",\"sayan\")"
      ],
      "metadata": {
        "colab": {
          "base_uri": "https://localhost:8080/"
        },
        "id": "TwJr2DQwJvJR",
        "outputId": "1cdafaf6-9d3f-4b30-ee64-1bf6ee34723f"
      },
      "execution_count": 45,
      "outputs": [
        {
          "output_type": "stream",
          "name": "stdout",
          "text": [
            "youngest child is  ruana\n"
          ]
        }
      ]
    },
    {
      "cell_type": "code",
      "source": [
        "def greet(*name):\n",
        "  for i in name:\n",
        "    print(\"good morning\", name)"
      ],
      "metadata": {
        "id": "MrB5aawnJvrr"
      },
      "execution_count": 46,
      "outputs": []
    },
    {
      "cell_type": "code",
      "source": [
        "greet('ravi')"
      ],
      "metadata": {
        "colab": {
          "base_uri": "https://localhost:8080/"
        },
        "id": "rN9hQDk7Jx63",
        "outputId": "78636ec6-4c5c-49ae-9bdc-5d9dcaf93000"
      },
      "execution_count": 47,
      "outputs": [
        {
          "output_type": "stream",
          "name": "stdout",
          "text": [
            "good morning ('ravi',)\n"
          ]
        }
      ]
    },
    {
      "cell_type": "code",
      "source": [
        "greet('mubassir','rahman')"
      ],
      "metadata": {
        "colab": {
          "base_uri": "https://localhost:8080/"
        },
        "id": "DGtSWt5UJ0Qn",
        "outputId": "ce08322a-4ab2-4afa-c53a-7783ac199218"
      },
      "execution_count": 48,
      "outputs": [
        {
          "output_type": "stream",
          "name": "stdout",
          "text": [
            "good morning ('mubassir', 'rahman')\n",
            "good morning ('mubassir', 'rahman')\n"
          ]
        }
      ]
    },
    {
      "cell_type": "markdown",
      "source": [
        "Keyword arguments\n",
        "\n",
        "1. Here the number of parameters are known to us.\n",
        "\n",
        "2. While calling the function we provide input in the form of key value pair.\n",
        "\n",
        "3. Order of parameter does not play a role."
      ],
      "metadata": {
        "id": "yl3d0gP8J4XU"
      }
    },
    {
      "cell_type": "code",
      "source": [
        "def func2(child3, child1, child2):\n",
        "  print(\"youngest child is\",child3)"
      ],
      "metadata": {
        "id": "HKQjn74BJ195"
      },
      "execution_count": 49,
      "outputs": []
    },
    {
      "cell_type": "code",
      "source": [
        "func2(child1='Ram', child2='Shyam', child3='Meera')"
      ],
      "metadata": {
        "colab": {
          "base_uri": "https://localhost:8080/"
        },
        "id": "TG3XZzyeKAg_",
        "outputId": "a8989930-b4c0-4c6d-b26c-0028e20d488d"
      },
      "execution_count": 50,
      "outputs": [
        {
          "output_type": "stream",
          "name": "stdout",
          "text": [
            "youngest child is Meera\n"
          ]
        }
      ]
    },
    {
      "cell_type": "markdown",
      "source": [
        "Arbitrary Keyword Argument\n",
        "\n",
        "1. Here the number of parameters are unknown to us.\n",
        "\n",
        "2. While calling the function, we provide the input in the form of key value pair\n",
        "\n",
        "3. We use ** symbol along with the name of the parameter.\n",
        "\n",
        "4. Arbitrary keyword arguments are also called **kwargs"
      ],
      "metadata": {
        "id": "Yvu_7Sg_KFA2"
      }
    },
    {
      "cell_type": "code",
      "source": [
        "def func3(**names):\n",
        "   print('his last name',names['lname'])"
      ],
      "metadata": {
        "id": "-9V4j1m5KCtn"
      },
      "execution_count": 51,
      "outputs": []
    },
    {
      "cell_type": "code",
      "source": [
        "func3(fname='Ashutosh',mname='Kumar',lname='Mishra')"
      ],
      "metadata": {
        "colab": {
          "base_uri": "https://localhost:8080/"
        },
        "id": "KJk3g6qmKM8h",
        "outputId": "1f8b1bd3-af38-4f7d-dee4-990bebfdc62d"
      },
      "execution_count": 52,
      "outputs": [
        {
          "output_type": "stream",
          "name": "stdout",
          "text": [
            "his last name Mishra\n"
          ]
        }
      ]
    },
    {
      "cell_type": "code",
      "source": [
        "func3(fname='Abhishek',lname='Singh')"
      ],
      "metadata": {
        "colab": {
          "base_uri": "https://localhost:8080/"
        },
        "id": "ZW9dbOikKPFR",
        "outputId": "6e6573c4-070e-4359-b1c9-31459d7a464b"
      },
      "execution_count": 53,
      "outputs": [
        {
          "output_type": "stream",
          "name": "stdout",
          "text": [
            "his last name Singh\n"
          ]
        }
      ]
    },
    {
      "cell_type": "code",
      "source": [
        "func3(fname='Kunal',lname='NONE')"
      ],
      "metadata": {
        "colab": {
          "base_uri": "https://localhost:8080/"
        },
        "id": "f1RnbaVTKWQ0",
        "outputId": "f55d662e-d309-474f-b1e0-e001b234c126"
      },
      "execution_count": 54,
      "outputs": [
        {
          "output_type": "stream",
          "name": "stdout",
          "text": [
            "his last name NONE\n"
          ]
        }
      ]
    },
    {
      "cell_type": "code",
      "source": [],
      "metadata": {
        "id": "GWEOFGcNKaHr"
      },
      "execution_count": null,
      "outputs": []
    }
  ]
}