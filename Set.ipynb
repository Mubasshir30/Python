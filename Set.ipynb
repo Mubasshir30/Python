{
  "nbformat": 4,
  "nbformat_minor": 0,
  "metadata": {
    "colab": {
      "provenance": []
    },
    "kernelspec": {
      "name": "python3",
      "display_name": "Python 3"
    },
    "language_info": {
      "name": "python"
    }
  },
  "cells": [
    {
      "cell_type": "markdown",
      "source": [
        "SET"
      ],
      "metadata": {
        "id": "9mh_6aRgumkL"
      }
    },
    {
      "cell_type": "code",
      "source": [
        "s={'india','usa',65,90,35.5,-30,-75.45}"
      ],
      "metadata": {
        "id": "-YYtE9J1uoOY"
      },
      "execution_count": 30,
      "outputs": []
    },
    {
      "cell_type": "code",
      "source": [
        "print(s)  #random inner shufflin"
      ],
      "metadata": {
        "colab": {
          "base_uri": "https://localhost:8080/"
        },
        "id": "w7SnNDnfurl9",
        "outputId": "7bc1215e-5f95-4764-b79f-8c810451a286"
      },
      "execution_count": 31,
      "outputs": [
        {
          "output_type": "stream",
          "name": "stdout",
          "text": [
            "{65, -30, 35.5, 90, -75.45, 'usa', 'india'}\n"
          ]
        }
      ]
    },
    {
      "cell_type": "code",
      "source": [
        "#set will not allow indexing and slicing"
      ],
      "metadata": {
        "id": "hiwR7GGFutaM"
      },
      "execution_count": 32,
      "outputs": []
    },
    {
      "cell_type": "code",
      "source": [
        "print(s)"
      ],
      "metadata": {
        "id": "csr37gtfuvf8",
        "outputId": "4cb4f950-078b-49f0-aecd-fc6b3a56fd6b",
        "colab": {
          "base_uri": "https://localhost:8080/"
        }
      },
      "execution_count": 33,
      "outputs": [
        {
          "output_type": "stream",
          "name": "stdout",
          "text": [
            "{65, -30, 35.5, 90, -75.45, 'usa', 'india'}\n"
          ]
        }
      ]
    },
    {
      "cell_type": "code",
      "source": [],
      "metadata": {
        "id": "UJhhCW_tuyXY"
      },
      "execution_count": null,
      "outputs": []
    }
  ]
}