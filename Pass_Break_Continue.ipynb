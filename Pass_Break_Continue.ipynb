{
  "nbformat": 4,
  "nbformat_minor": 0,
  "metadata": {
    "colab": {
      "provenance": []
    },
    "kernelspec": {
      "name": "python3",
      "display_name": "Python 3"
    },
    "language_info": {
      "name": "python"
    }
  },
  "cells": [
    {
      "cell_type": "markdown",
      "source": [
        "Statement\n",
        "\n",
        "1. PASS\n",
        "2. BREAK\n",
        "3. CONTINUE"
      ],
      "metadata": {
        "id": "KzYfmadcLsLm"
      }
    },
    {
      "cell_type": "code",
      "source": [
        "#pass - it makes the code segment inactive\n",
        "x=int(input('enter a number'))\n",
        "y=int(input('enter a number'))\n",
        "\n",
        "if x>y:\n",
        "  print('x is greater than y')\n",
        "\n",
        "else:\n",
        "  pass #if y>x then no output  "
      ],
      "metadata": {
        "colab": {
          "base_uri": "https://localhost:8080/"
        },
        "id": "xxc1WF_uL1fY",
        "outputId": "c35ad701-fe93-4ee2-aee7-09c7b0079f3f"
      },
      "execution_count": 59,
      "outputs": [
        {
          "output_type": "stream",
          "name": "stdout",
          "text": [
            "enter a number25\n",
            "enter a number15\n",
            "x is greater than y\n"
          ]
        }
      ]
    },
    {
      "cell_type": "code",
      "source": [
        "#break-forcebly come out of the loop\n",
        "fruits=['mango','apple','pineapple','guava','grapes']\n",
        "\n",
        "for i in fruits:\n",
        "  if i==\"pineapple\":\n",
        "    break\n",
        "\n",
        "  print(i)"
      ],
      "metadata": {
        "colab": {
          "base_uri": "https://localhost:8080/"
        },
        "id": "FQa7bhcsL8t3",
        "outputId": "b5ea08ae-8e6b-49e9-f3a1-d389b76e17ea"
      },
      "execution_count": 60,
      "outputs": [
        {
          "output_type": "stream",
          "name": "stdout",
          "text": [
            "mango\n",
            "apple\n"
          ]
        }
      ]
    },
    {
      "cell_type": "code",
      "source": [
        "name='Indian Ocean'\n",
        "\n",
        "for i in name:\n",
        "  if i=='O':\n",
        "    break\n",
        "  print(i)  "
      ],
      "metadata": {
        "colab": {
          "base_uri": "https://localhost:8080/"
        },
        "id": "6c0t3h-lMCRP",
        "outputId": "032335e8-63e4-4162-c95a-3f0b3ea7e761"
      },
      "execution_count": 61,
      "outputs": [
        {
          "output_type": "stream",
          "name": "stdout",
          "text": [
            "I\n",
            "n\n",
            "d\n",
            "i\n",
            "a\n",
            "n\n",
            " \n"
          ]
        }
      ]
    },
    {
      "cell_type": "code",
      "source": [
        "#continue-the element which is in the condition gets skipped but the loop will not iteration\n",
        "fruits=['mango','apple','pineapple','guava','grapes']\n",
        "\n",
        "for i in fruits:\n",
        "  if i==\"pineapple\":\n",
        "    continue\n",
        "\n",
        "  print(i)"
      ],
      "metadata": {
        "colab": {
          "base_uri": "https://localhost:8080/"
        },
        "id": "MkY-xeBGMElH",
        "outputId": "dc6ea577-c19f-4e32-b377-8e00ce3fe7cc"
      },
      "execution_count": 62,
      "outputs": [
        {
          "output_type": "stream",
          "name": "stdout",
          "text": [
            "mango\n",
            "apple\n",
            "guava\n",
            "grapes\n"
          ]
        }
      ]
    },
    {
      "cell_type": "code",
      "source": [
        "name='Indian Ocean'\n",
        "\n",
        "for i in name:\n",
        "  if i=='O':\n",
        "    continue   \n",
        "  print(i) "
      ],
      "metadata": {
        "colab": {
          "base_uri": "https://localhost:8080/"
        },
        "id": "b7sINOrQMHAN",
        "outputId": "524cd559-c2ac-49e9-b233-fc07b8a3f77b"
      },
      "execution_count": 63,
      "outputs": [
        {
          "output_type": "stream",
          "name": "stdout",
          "text": [
            "I\n",
            "n\n",
            "d\n",
            "i\n",
            "a\n",
            "n\n",
            " \n",
            "c\n",
            "e\n",
            "a\n",
            "n\n"
          ]
        }
      ]
    },
    {
      "cell_type": "markdown",
      "source": [
        "Display all the number between 1 to 10 except 3 and 7"
      ],
      "metadata": {
        "id": "Zkgo3U9EMLrP"
      }
    },
    {
      "cell_type": "code",
      "source": [
        "for i in range(1,11):\n",
        "  if i== 3 or i== 7:\n",
        "    continue\n",
        "  print(i) "
      ],
      "metadata": {
        "colab": {
          "base_uri": "https://localhost:8080/"
        },
        "id": "QgURWjY-MJj7",
        "outputId": "e63715dd-5328-4a1b-e16e-014add1b62ef"
      },
      "execution_count": 64,
      "outputs": [
        {
          "output_type": "stream",
          "name": "stdout",
          "text": [
            "1\n",
            "2\n",
            "4\n",
            "5\n",
            "6\n",
            "8\n",
            "9\n",
            "10\n"
          ]
        }
      ]
    },
    {
      "cell_type": "markdown",
      "source": [
        "Take a list of numbers and append the square in the seperate list"
      ],
      "metadata": {
        "id": "rlPkmuVNMRvn"
      }
    },
    {
      "cell_type": "code",
      "source": [
        "l1=[2,3,4,5,8,7,6]\n",
        "l2=[]  #empty list\n",
        "\n",
        "for i in l1:\n",
        "  square=i*i\n",
        "  l2.append(square)\n",
        "print(l2)  "
      ],
      "metadata": {
        "colab": {
          "base_uri": "https://localhost:8080/"
        },
        "id": "iOGQF8ZJMOL5",
        "outputId": "010cdf26-9ac7-452b-f16a-a1e2753b8592"
      },
      "execution_count": 65,
      "outputs": [
        {
          "output_type": "stream",
          "name": "stdout",
          "text": [
            "[4, 9, 16, 25, 64, 49, 36]\n"
          ]
        }
      ]
    },
    {
      "cell_type": "code",
      "source": [
        "l1=[2,3,4,5,8,7,6]\n",
        "l2=[]  #empty list\n",
        "\n",
        "for i in l1:\n",
        "  if i%2==0:\n",
        "    square=i*i\n",
        "    l2.append(square)\n",
        "print(l2)  "
      ],
      "metadata": {
        "id": "TqBcHaGPMU4x",
        "outputId": "33f90bb5-1323-4f3e-8ddd-b811c11abb88",
        "colab": {
          "base_uri": "https://localhost:8080/"
        }
      },
      "execution_count": 66,
      "outputs": [
        {
          "output_type": "stream",
          "name": "stdout",
          "text": [
            "[4, 16, 64, 36]\n"
          ]
        }
      ]
    },
    {
      "cell_type": "code",
      "source": [],
      "metadata": {
        "id": "H_bp4WbwMXi_"
      },
      "execution_count": null,
      "outputs": []
    }
  ]
}